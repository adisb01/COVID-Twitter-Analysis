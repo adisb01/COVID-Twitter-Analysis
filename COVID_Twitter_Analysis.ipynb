{
  "nbformat": 4,
  "nbformat_minor": 0,
  "metadata": {
    "colab": {
      "name": "COVID Twitter Analysis",
      "provenance": [],
      "collapsed_sections": [],
      "mount_file_id": "1xWTQ80V-8mtAe0XWqG_rpXbOuw2fl2zy",
      "authorship_tag": "ABX9TyMHAJNiNxqQOhvRG/SUyP8R",
      "include_colab_link": true
    },
    "kernelspec": {
      "name": "python3",
      "display_name": "Python 3"
    },
    "widgets": {
      "application/vnd.jupyter.widget-state+json": {
        "1f4603cbdce247a5bb0299da41837fb0": {
          "model_module": "@jupyter-widgets/controls",
          "model_name": "FloatProgressModel",
          "state": {
            "_view_name": "ProgressView",
            "style": "IPY_MODEL_5f39c3ba67d1464ebd5058df7af837fa",
            "_dom_classes": [],
            "description": "Progress:",
            "_model_name": "FloatProgressModel",
            "bar_style": "info",
            "max": 1,
            "_view_module": "@jupyter-widgets/controls",
            "_model_module_version": "1.5.0",
            "value": 0,
            "_view_count": null,
            "_view_module_version": "1.5.0",
            "orientation": "horizontal",
            "min": 0,
            "description_tooltip": null,
            "_model_module": "@jupyter-widgets/controls",
            "layout": "IPY_MODEL_3980575d517646e9bac5bd9b3c2b6a08"
          }
        },
        "5f39c3ba67d1464ebd5058df7af837fa": {
          "model_module": "@jupyter-widgets/controls",
          "model_name": "ProgressStyleModel",
          "state": {
            "_view_name": "StyleView",
            "_model_name": "ProgressStyleModel",
            "description_width": "",
            "_view_module": "@jupyter-widgets/base",
            "_model_module_version": "1.5.0",
            "_view_count": null,
            "_view_module_version": "1.2.0",
            "bar_color": null,
            "_model_module": "@jupyter-widgets/controls"
          }
        },
        "3980575d517646e9bac5bd9b3c2b6a08": {
          "model_module": "@jupyter-widgets/base",
          "model_name": "LayoutModel",
          "state": {
            "_view_name": "LayoutView",
            "grid_template_rows": null,
            "right": null,
            "justify_content": null,
            "_view_module": "@jupyter-widgets/base",
            "overflow": null,
            "_model_module_version": "1.2.0",
            "_view_count": null,
            "flex_flow": null,
            "width": "50%",
            "min_width": null,
            "border": null,
            "align_items": null,
            "bottom": null,
            "_model_module": "@jupyter-widgets/base",
            "top": null,
            "grid_column": null,
            "overflow_y": null,
            "overflow_x": null,
            "grid_auto_flow": null,
            "grid_area": null,
            "grid_template_columns": null,
            "flex": null,
            "_model_name": "LayoutModel",
            "justify_items": null,
            "grid_row": null,
            "max_height": null,
            "align_content": null,
            "visibility": null,
            "align_self": null,
            "height": "25px",
            "min_height": null,
            "padding": null,
            "grid_auto_rows": null,
            "grid_gap": null,
            "max_width": null,
            "order": null,
            "_view_module_version": "1.2.0",
            "grid_template_areas": null,
            "object_position": null,
            "object_fit": null,
            "grid_auto_columns": null,
            "margin": null,
            "display": null,
            "left": null
          }
        },
        "cdd6730a52914bff9538dfb781cafcc8": {
          "model_module": "@jupyter-widgets/controls",
          "model_name": "FloatProgressModel",
          "state": {
            "_view_name": "ProgressView",
            "style": "IPY_MODEL_56560361cad1482296a642b671ee4e96",
            "_dom_classes": [],
            "description": "Progress:",
            "_model_name": "FloatProgressModel",
            "bar_style": "info",
            "max": 1,
            "_view_module": "@jupyter-widgets/controls",
            "_model_module_version": "1.5.0",
            "value": 0,
            "_view_count": null,
            "_view_module_version": "1.5.0",
            "orientation": "horizontal",
            "min": 0,
            "description_tooltip": null,
            "_model_module": "@jupyter-widgets/controls",
            "layout": "IPY_MODEL_ab01394659e149f0985ab733d6248310"
          }
        },
        "56560361cad1482296a642b671ee4e96": {
          "model_module": "@jupyter-widgets/controls",
          "model_name": "ProgressStyleModel",
          "state": {
            "_view_name": "StyleView",
            "_model_name": "ProgressStyleModel",
            "description_width": "",
            "_view_module": "@jupyter-widgets/base",
            "_model_module_version": "1.5.0",
            "_view_count": null,
            "_view_module_version": "1.2.0",
            "bar_color": null,
            "_model_module": "@jupyter-widgets/controls"
          }
        },
        "ab01394659e149f0985ab733d6248310": {
          "model_module": "@jupyter-widgets/base",
          "model_name": "LayoutModel",
          "state": {
            "_view_name": "LayoutView",
            "grid_template_rows": null,
            "right": null,
            "justify_content": null,
            "_view_module": "@jupyter-widgets/base",
            "overflow": null,
            "_model_module_version": "1.2.0",
            "_view_count": null,
            "flex_flow": null,
            "width": "50%",
            "min_width": null,
            "border": null,
            "align_items": null,
            "bottom": null,
            "_model_module": "@jupyter-widgets/base",
            "top": null,
            "grid_column": null,
            "overflow_y": null,
            "overflow_x": null,
            "grid_auto_flow": null,
            "grid_area": null,
            "grid_template_columns": null,
            "flex": null,
            "_model_name": "LayoutModel",
            "justify_items": null,
            "grid_row": null,
            "max_height": null,
            "align_content": null,
            "visibility": null,
            "align_self": null,
            "height": "25px",
            "min_height": null,
            "padding": null,
            "grid_auto_rows": null,
            "grid_gap": null,
            "max_width": null,
            "order": null,
            "_view_module_version": "1.2.0",
            "grid_template_areas": null,
            "object_position": null,
            "object_fit": null,
            "grid_auto_columns": null,
            "margin": null,
            "display": null,
            "left": null
          }
        },
        "91ca4363fdb34ac6ba2edf374208cfc0": {
          "model_module": "@jupyter-widgets/controls",
          "model_name": "FloatProgressModel",
          "state": {
            "_view_name": "ProgressView",
            "style": "IPY_MODEL_2829efce79af41aea9d6642e3cd678b7",
            "_dom_classes": [],
            "description": "Progress:",
            "_model_name": "FloatProgressModel",
            "bar_style": "info",
            "max": 1,
            "_view_module": "@jupyter-widgets/controls",
            "_model_module_version": "1.5.0",
            "value": 0,
            "_view_count": null,
            "_view_module_version": "1.5.0",
            "orientation": "horizontal",
            "min": 0,
            "description_tooltip": null,
            "_model_module": "@jupyter-widgets/controls",
            "layout": "IPY_MODEL_82fdad47d73345c798864207e841844b"
          }
        },
        "2829efce79af41aea9d6642e3cd678b7": {
          "model_module": "@jupyter-widgets/controls",
          "model_name": "ProgressStyleModel",
          "state": {
            "_view_name": "StyleView",
            "_model_name": "ProgressStyleModel",
            "description_width": "",
            "_view_module": "@jupyter-widgets/base",
            "_model_module_version": "1.5.0",
            "_view_count": null,
            "_view_module_version": "1.2.0",
            "bar_color": null,
            "_model_module": "@jupyter-widgets/controls"
          }
        },
        "82fdad47d73345c798864207e841844b": {
          "model_module": "@jupyter-widgets/base",
          "model_name": "LayoutModel",
          "state": {
            "_view_name": "LayoutView",
            "grid_template_rows": null,
            "right": null,
            "justify_content": null,
            "_view_module": "@jupyter-widgets/base",
            "overflow": null,
            "_model_module_version": "1.2.0",
            "_view_count": null,
            "flex_flow": null,
            "width": "50%",
            "min_width": null,
            "border": null,
            "align_items": null,
            "bottom": null,
            "_model_module": "@jupyter-widgets/base",
            "top": null,
            "grid_column": null,
            "overflow_y": null,
            "overflow_x": null,
            "grid_auto_flow": null,
            "grid_area": null,
            "grid_template_columns": null,
            "flex": null,
            "_model_name": "LayoutModel",
            "justify_items": null,
            "grid_row": null,
            "max_height": null,
            "align_content": null,
            "visibility": null,
            "align_self": null,
            "height": "25px",
            "min_height": null,
            "padding": null,
            "grid_auto_rows": null,
            "grid_gap": null,
            "max_width": null,
            "order": null,
            "_view_module_version": "1.2.0",
            "grid_template_areas": null,
            "object_position": null,
            "object_fit": null,
            "grid_auto_columns": null,
            "margin": null,
            "display": null,
            "left": null
          }
        },
        "cf18c1fd93ce468590d04504903d62ab": {
          "model_module": "@jupyter-widgets/controls",
          "model_name": "FloatProgressModel",
          "state": {
            "_view_name": "ProgressView",
            "style": "IPY_MODEL_2be91dc3aa00462294b7c60ffbb11a62",
            "_dom_classes": [],
            "description": "Progress:",
            "_model_name": "FloatProgressModel",
            "bar_style": "info",
            "max": 1,
            "_view_module": "@jupyter-widgets/controls",
            "_model_module_version": "1.5.0",
            "value": 0,
            "_view_count": null,
            "_view_module_version": "1.5.0",
            "orientation": "horizontal",
            "min": 0,
            "description_tooltip": null,
            "_model_module": "@jupyter-widgets/controls",
            "layout": "IPY_MODEL_025cf586c86246a2a5f348b55a63c5b6"
          }
        },
        "2be91dc3aa00462294b7c60ffbb11a62": {
          "model_module": "@jupyter-widgets/controls",
          "model_name": "ProgressStyleModel",
          "state": {
            "_view_name": "StyleView",
            "_model_name": "ProgressStyleModel",
            "description_width": "",
            "_view_module": "@jupyter-widgets/base",
            "_model_module_version": "1.5.0",
            "_view_count": null,
            "_view_module_version": "1.2.0",
            "bar_color": null,
            "_model_module": "@jupyter-widgets/controls"
          }
        },
        "025cf586c86246a2a5f348b55a63c5b6": {
          "model_module": "@jupyter-widgets/base",
          "model_name": "LayoutModel",
          "state": {
            "_view_name": "LayoutView",
            "grid_template_rows": null,
            "right": null,
            "justify_content": null,
            "_view_module": "@jupyter-widgets/base",
            "overflow": null,
            "_model_module_version": "1.2.0",
            "_view_count": null,
            "flex_flow": null,
            "width": "50%",
            "min_width": null,
            "border": null,
            "align_items": null,
            "bottom": null,
            "_model_module": "@jupyter-widgets/base",
            "top": null,
            "grid_column": null,
            "overflow_y": null,
            "overflow_x": null,
            "grid_auto_flow": null,
            "grid_area": null,
            "grid_template_columns": null,
            "flex": null,
            "_model_name": "LayoutModel",
            "justify_items": null,
            "grid_row": null,
            "max_height": null,
            "align_content": null,
            "visibility": null,
            "align_self": null,
            "height": "25px",
            "min_height": null,
            "padding": null,
            "grid_auto_rows": null,
            "grid_gap": null,
            "max_width": null,
            "order": null,
            "_view_module_version": "1.2.0",
            "grid_template_areas": null,
            "object_position": null,
            "object_fit": null,
            "grid_auto_columns": null,
            "margin": null,
            "display": null,
            "left": null
          }
        },
        "79a6ac44f4734b31947d4d1bba51b8d7": {
          "model_module": "@jupyter-widgets/controls",
          "model_name": "FloatProgressModel",
          "state": {
            "_view_name": "ProgressView",
            "style": "IPY_MODEL_7d4810fdf2c54c70a0785ce44c662333",
            "_dom_classes": [],
            "description": "Progress:",
            "_model_name": "FloatProgressModel",
            "bar_style": "info",
            "max": 1,
            "_view_module": "@jupyter-widgets/controls",
            "_model_module_version": "1.5.0",
            "value": 0,
            "_view_count": null,
            "_view_module_version": "1.5.0",
            "orientation": "horizontal",
            "min": 0,
            "description_tooltip": null,
            "_model_module": "@jupyter-widgets/controls",
            "layout": "IPY_MODEL_fa147ab7ced0457ebbd0b56ecb7432cf"
          }
        },
        "7d4810fdf2c54c70a0785ce44c662333": {
          "model_module": "@jupyter-widgets/controls",
          "model_name": "ProgressStyleModel",
          "state": {
            "_view_name": "StyleView",
            "_model_name": "ProgressStyleModel",
            "description_width": "",
            "_view_module": "@jupyter-widgets/base",
            "_model_module_version": "1.5.0",
            "_view_count": null,
            "_view_module_version": "1.2.0",
            "bar_color": null,
            "_model_module": "@jupyter-widgets/controls"
          }
        },
        "fa147ab7ced0457ebbd0b56ecb7432cf": {
          "model_module": "@jupyter-widgets/base",
          "model_name": "LayoutModel",
          "state": {
            "_view_name": "LayoutView",
            "grid_template_rows": null,
            "right": null,
            "justify_content": null,
            "_view_module": "@jupyter-widgets/base",
            "overflow": null,
            "_model_module_version": "1.2.0",
            "_view_count": null,
            "flex_flow": null,
            "width": "50%",
            "min_width": null,
            "border": null,
            "align_items": null,
            "bottom": null,
            "_model_module": "@jupyter-widgets/base",
            "top": null,
            "grid_column": null,
            "overflow_y": null,
            "overflow_x": null,
            "grid_auto_flow": null,
            "grid_area": null,
            "grid_template_columns": null,
            "flex": null,
            "_model_name": "LayoutModel",
            "justify_items": null,
            "grid_row": null,
            "max_height": null,
            "align_content": null,
            "visibility": null,
            "align_self": null,
            "height": "25px",
            "min_height": null,
            "padding": null,
            "grid_auto_rows": null,
            "grid_gap": null,
            "max_width": null,
            "order": null,
            "_view_module_version": "1.2.0",
            "grid_template_areas": null,
            "object_position": null,
            "object_fit": null,
            "grid_auto_columns": null,
            "margin": null,
            "display": null,
            "left": null
          }
        },
        "41f78a62d3a24bcb9fff7a1ad179903d": {
          "model_module": "@jupyter-widgets/controls",
          "model_name": "FloatProgressModel",
          "state": {
            "_view_name": "ProgressView",
            "style": "IPY_MODEL_89362f4ed8a2400dbf695905081dc87d",
            "_dom_classes": [],
            "description": "Progress:",
            "_model_name": "FloatProgressModel",
            "bar_style": "info",
            "max": 1,
            "_view_module": "@jupyter-widgets/controls",
            "_model_module_version": "1.5.0",
            "value": 0.9902912621359223,
            "_view_count": null,
            "_view_module_version": "1.5.0",
            "orientation": "horizontal",
            "min": 0,
            "description_tooltip": null,
            "_model_module": "@jupyter-widgets/controls",
            "layout": "IPY_MODEL_c3534ee3c2fa4572b7de5aebf1993e00"
          }
        },
        "89362f4ed8a2400dbf695905081dc87d": {
          "model_module": "@jupyter-widgets/controls",
          "model_name": "ProgressStyleModel",
          "state": {
            "_view_name": "StyleView",
            "_model_name": "ProgressStyleModel",
            "description_width": "",
            "_view_module": "@jupyter-widgets/base",
            "_model_module_version": "1.5.0",
            "_view_count": null,
            "_view_module_version": "1.2.0",
            "bar_color": null,
            "_model_module": "@jupyter-widgets/controls"
          }
        },
        "c3534ee3c2fa4572b7de5aebf1993e00": {
          "model_module": "@jupyter-widgets/base",
          "model_name": "LayoutModel",
          "state": {
            "_view_name": "LayoutView",
            "grid_template_rows": null,
            "right": null,
            "justify_content": null,
            "_view_module": "@jupyter-widgets/base",
            "overflow": null,
            "_model_module_version": "1.2.0",
            "_view_count": null,
            "flex_flow": null,
            "width": "50%",
            "min_width": null,
            "border": null,
            "align_items": null,
            "bottom": null,
            "_model_module": "@jupyter-widgets/base",
            "top": null,
            "grid_column": null,
            "overflow_y": null,
            "overflow_x": null,
            "grid_auto_flow": null,
            "grid_area": null,
            "grid_template_columns": null,
            "flex": null,
            "_model_name": "LayoutModel",
            "justify_items": null,
            "grid_row": null,
            "max_height": null,
            "align_content": null,
            "visibility": null,
            "align_self": null,
            "height": "25px",
            "min_height": null,
            "padding": null,
            "grid_auto_rows": null,
            "grid_gap": null,
            "max_width": null,
            "order": null,
            "_view_module_version": "1.2.0",
            "grid_template_areas": null,
            "object_position": null,
            "object_fit": null,
            "grid_auto_columns": null,
            "margin": null,
            "display": null,
            "left": null
          }
        },
        "36bbedb753344473a4ad12f6f91bc665": {
          "model_module": "@jupyter-widgets/controls",
          "model_name": "FloatProgressModel",
          "state": {
            "_view_name": "ProgressView",
            "style": "IPY_MODEL_42c5c6af846445c986721e5e19f10392",
            "_dom_classes": [],
            "description": "Progress:",
            "_model_name": "FloatProgressModel",
            "bar_style": "info",
            "max": 1,
            "_view_module": "@jupyter-widgets/controls",
            "_model_module_version": "1.5.0",
            "value": 0,
            "_view_count": null,
            "_view_module_version": "1.5.0",
            "orientation": "horizontal",
            "min": 0,
            "description_tooltip": null,
            "_model_module": "@jupyter-widgets/controls",
            "layout": "IPY_MODEL_7645d851abd2484db681bc43053be8a4"
          }
        },
        "42c5c6af846445c986721e5e19f10392": {
          "model_module": "@jupyter-widgets/controls",
          "model_name": "ProgressStyleModel",
          "state": {
            "_view_name": "StyleView",
            "_model_name": "ProgressStyleModel",
            "description_width": "",
            "_view_module": "@jupyter-widgets/base",
            "_model_module_version": "1.5.0",
            "_view_count": null,
            "_view_module_version": "1.2.0",
            "bar_color": null,
            "_model_module": "@jupyter-widgets/controls"
          }
        },
        "7645d851abd2484db681bc43053be8a4": {
          "model_module": "@jupyter-widgets/base",
          "model_name": "LayoutModel",
          "state": {
            "_view_name": "LayoutView",
            "grid_template_rows": null,
            "right": null,
            "justify_content": null,
            "_view_module": "@jupyter-widgets/base",
            "overflow": null,
            "_model_module_version": "1.2.0",
            "_view_count": null,
            "flex_flow": null,
            "width": "50%",
            "min_width": null,
            "border": null,
            "align_items": null,
            "bottom": null,
            "_model_module": "@jupyter-widgets/base",
            "top": null,
            "grid_column": null,
            "overflow_y": null,
            "overflow_x": null,
            "grid_auto_flow": null,
            "grid_area": null,
            "grid_template_columns": null,
            "flex": null,
            "_model_name": "LayoutModel",
            "justify_items": null,
            "grid_row": null,
            "max_height": null,
            "align_content": null,
            "visibility": null,
            "align_self": null,
            "height": "25px",
            "min_height": null,
            "padding": null,
            "grid_auto_rows": null,
            "grid_gap": null,
            "max_width": null,
            "order": null,
            "_view_module_version": "1.2.0",
            "grid_template_areas": null,
            "object_position": null,
            "object_fit": null,
            "grid_auto_columns": null,
            "margin": null,
            "display": null,
            "left": null
          }
        },
        "3c87b84bf5ee4f8fa00cff58625fc40e": {
          "model_module": "@jupyter-widgets/controls",
          "model_name": "FloatProgressModel",
          "state": {
            "_view_name": "ProgressView",
            "style": "IPY_MODEL_ba1c59cfc90c411095cc379ab76560a6",
            "_dom_classes": [],
            "description": "Progress:",
            "_model_name": "FloatProgressModel",
            "bar_style": "info",
            "max": 1,
            "_view_module": "@jupyter-widgets/controls",
            "_model_module_version": "1.5.0",
            "value": 0,
            "_view_count": null,
            "_view_module_version": "1.5.0",
            "orientation": "horizontal",
            "min": 0,
            "description_tooltip": null,
            "_model_module": "@jupyter-widgets/controls",
            "layout": "IPY_MODEL_c90301f1cbf845aaae5a17dc1c9a45c3"
          }
        },
        "ba1c59cfc90c411095cc379ab76560a6": {
          "model_module": "@jupyter-widgets/controls",
          "model_name": "ProgressStyleModel",
          "state": {
            "_view_name": "StyleView",
            "_model_name": "ProgressStyleModel",
            "description_width": "",
            "_view_module": "@jupyter-widgets/base",
            "_model_module_version": "1.5.0",
            "_view_count": null,
            "_view_module_version": "1.2.0",
            "bar_color": null,
            "_model_module": "@jupyter-widgets/controls"
          }
        },
        "c90301f1cbf845aaae5a17dc1c9a45c3": {
          "model_module": "@jupyter-widgets/base",
          "model_name": "LayoutModel",
          "state": {
            "_view_name": "LayoutView",
            "grid_template_rows": null,
            "right": null,
            "justify_content": null,
            "_view_module": "@jupyter-widgets/base",
            "overflow": null,
            "_model_module_version": "1.2.0",
            "_view_count": null,
            "flex_flow": null,
            "width": "50%",
            "min_width": null,
            "border": null,
            "align_items": null,
            "bottom": null,
            "_model_module": "@jupyter-widgets/base",
            "top": null,
            "grid_column": null,
            "overflow_y": null,
            "overflow_x": null,
            "grid_auto_flow": null,
            "grid_area": null,
            "grid_template_columns": null,
            "flex": null,
            "_model_name": "LayoutModel",
            "justify_items": null,
            "grid_row": null,
            "max_height": null,
            "align_content": null,
            "visibility": null,
            "align_self": null,
            "height": "25px",
            "min_height": null,
            "padding": null,
            "grid_auto_rows": null,
            "grid_gap": null,
            "max_width": null,
            "order": null,
            "_view_module_version": "1.2.0",
            "grid_template_areas": null,
            "object_position": null,
            "object_fit": null,
            "grid_auto_columns": null,
            "margin": null,
            "display": null,
            "left": null
          }
        },
        "b61b0072083a4f1f856d5c8548dfc11e": {
          "model_module": "@jupyter-widgets/controls",
          "model_name": "FloatProgressModel",
          "state": {
            "_view_name": "ProgressView",
            "style": "IPY_MODEL_257c9721e9864cc89dd76df153950242",
            "_dom_classes": [],
            "description": "Progress:",
            "_model_name": "FloatProgressModel",
            "bar_style": "info",
            "max": 1,
            "_view_module": "@jupyter-widgets/controls",
            "_model_module_version": "1.5.0",
            "value": 0.8888888888888888,
            "_view_count": null,
            "_view_module_version": "1.5.0",
            "orientation": "horizontal",
            "min": 0,
            "description_tooltip": null,
            "_model_module": "@jupyter-widgets/controls",
            "layout": "IPY_MODEL_17fb170853d8406e88d674658998d856"
          }
        },
        "257c9721e9864cc89dd76df153950242": {
          "model_module": "@jupyter-widgets/controls",
          "model_name": "ProgressStyleModel",
          "state": {
            "_view_name": "StyleView",
            "_model_name": "ProgressStyleModel",
            "description_width": "",
            "_view_module": "@jupyter-widgets/base",
            "_model_module_version": "1.5.0",
            "_view_count": null,
            "_view_module_version": "1.2.0",
            "bar_color": null,
            "_model_module": "@jupyter-widgets/controls"
          }
        },
        "17fb170853d8406e88d674658998d856": {
          "model_module": "@jupyter-widgets/base",
          "model_name": "LayoutModel",
          "state": {
            "_view_name": "LayoutView",
            "grid_template_rows": null,
            "right": null,
            "justify_content": null,
            "_view_module": "@jupyter-widgets/base",
            "overflow": null,
            "_model_module_version": "1.2.0",
            "_view_count": null,
            "flex_flow": null,
            "width": "50%",
            "min_width": null,
            "border": null,
            "align_items": null,
            "bottom": null,
            "_model_module": "@jupyter-widgets/base",
            "top": null,
            "grid_column": null,
            "overflow_y": null,
            "overflow_x": null,
            "grid_auto_flow": null,
            "grid_area": null,
            "grid_template_columns": null,
            "flex": null,
            "_model_name": "LayoutModel",
            "justify_items": null,
            "grid_row": null,
            "max_height": null,
            "align_content": null,
            "visibility": null,
            "align_self": null,
            "height": "25px",
            "min_height": null,
            "padding": null,
            "grid_auto_rows": null,
            "grid_gap": null,
            "max_width": null,
            "order": null,
            "_view_module_version": "1.2.0",
            "grid_template_areas": null,
            "object_position": null,
            "object_fit": null,
            "grid_auto_columns": null,
            "margin": null,
            "display": null,
            "left": null
          }
        },
        "7d274553efed47bbbdb5a98f8b777989": {
          "model_module": "@jupyter-widgets/controls",
          "model_name": "FloatProgressModel",
          "state": {
            "_view_name": "ProgressView",
            "style": "IPY_MODEL_8ee63194ecff4792a55bc0acb4de2d4a",
            "_dom_classes": [],
            "description": "Progress:",
            "_model_name": "FloatProgressModel",
            "bar_style": "info",
            "max": 1,
            "_view_module": "@jupyter-widgets/controls",
            "_model_module_version": "1.5.0",
            "value": 0.9821428571428571,
            "_view_count": null,
            "_view_module_version": "1.5.0",
            "orientation": "horizontal",
            "min": 0,
            "description_tooltip": null,
            "_model_module": "@jupyter-widgets/controls",
            "layout": "IPY_MODEL_c4e8310b2a06470a81ae942603a33109"
          }
        },
        "8ee63194ecff4792a55bc0acb4de2d4a": {
          "model_module": "@jupyter-widgets/controls",
          "model_name": "ProgressStyleModel",
          "state": {
            "_view_name": "StyleView",
            "_model_name": "ProgressStyleModel",
            "description_width": "",
            "_view_module": "@jupyter-widgets/base",
            "_model_module_version": "1.5.0",
            "_view_count": null,
            "_view_module_version": "1.2.0",
            "bar_color": null,
            "_model_module": "@jupyter-widgets/controls"
          }
        },
        "c4e8310b2a06470a81ae942603a33109": {
          "model_module": "@jupyter-widgets/base",
          "model_name": "LayoutModel",
          "state": {
            "_view_name": "LayoutView",
            "grid_template_rows": null,
            "right": null,
            "justify_content": null,
            "_view_module": "@jupyter-widgets/base",
            "overflow": null,
            "_model_module_version": "1.2.0",
            "_view_count": null,
            "flex_flow": null,
            "width": "50%",
            "min_width": null,
            "border": null,
            "align_items": null,
            "bottom": null,
            "_model_module": "@jupyter-widgets/base",
            "top": null,
            "grid_column": null,
            "overflow_y": null,
            "overflow_x": null,
            "grid_auto_flow": null,
            "grid_area": null,
            "grid_template_columns": null,
            "flex": null,
            "_model_name": "LayoutModel",
            "justify_items": null,
            "grid_row": null,
            "max_height": null,
            "align_content": null,
            "visibility": null,
            "align_self": null,
            "height": "25px",
            "min_height": null,
            "padding": null,
            "grid_auto_rows": null,
            "grid_gap": null,
            "max_width": null,
            "order": null,
            "_view_module_version": "1.2.0",
            "grid_template_areas": null,
            "object_position": null,
            "object_fit": null,
            "grid_auto_columns": null,
            "margin": null,
            "display": null,
            "left": null
          }
        },
        "414be2a914bb4f94870fe4c98de4b947": {
          "model_module": "@jupyter-widgets/controls",
          "model_name": "FloatProgressModel",
          "state": {
            "_view_name": "ProgressView",
            "style": "IPY_MODEL_558b4f49f785491582a7b938aa22c10a",
            "_dom_classes": [],
            "description": "Progress:",
            "_model_name": "FloatProgressModel",
            "bar_style": "info",
            "max": 1,
            "_view_module": "@jupyter-widgets/controls",
            "_model_module_version": "1.5.0",
            "value": 0,
            "_view_count": null,
            "_view_module_version": "1.5.0",
            "orientation": "horizontal",
            "min": 0,
            "description_tooltip": null,
            "_model_module": "@jupyter-widgets/controls",
            "layout": "IPY_MODEL_9adc8fe77bff403e82385c207504d661"
          }
        },
        "558b4f49f785491582a7b938aa22c10a": {
          "model_module": "@jupyter-widgets/controls",
          "model_name": "ProgressStyleModel",
          "state": {
            "_view_name": "StyleView",
            "_model_name": "ProgressStyleModel",
            "description_width": "",
            "_view_module": "@jupyter-widgets/base",
            "_model_module_version": "1.5.0",
            "_view_count": null,
            "_view_module_version": "1.2.0",
            "bar_color": null,
            "_model_module": "@jupyter-widgets/controls"
          }
        },
        "9adc8fe77bff403e82385c207504d661": {
          "model_module": "@jupyter-widgets/base",
          "model_name": "LayoutModel",
          "state": {
            "_view_name": "LayoutView",
            "grid_template_rows": null,
            "right": null,
            "justify_content": null,
            "_view_module": "@jupyter-widgets/base",
            "overflow": null,
            "_model_module_version": "1.2.0",
            "_view_count": null,
            "flex_flow": null,
            "width": "50%",
            "min_width": null,
            "border": null,
            "align_items": null,
            "bottom": null,
            "_model_module": "@jupyter-widgets/base",
            "top": null,
            "grid_column": null,
            "overflow_y": null,
            "overflow_x": null,
            "grid_auto_flow": null,
            "grid_area": null,
            "grid_template_columns": null,
            "flex": null,
            "_model_name": "LayoutModel",
            "justify_items": null,
            "grid_row": null,
            "max_height": null,
            "align_content": null,
            "visibility": null,
            "align_self": null,
            "height": "25px",
            "min_height": null,
            "padding": null,
            "grid_auto_rows": null,
            "grid_gap": null,
            "max_width": null,
            "order": null,
            "_view_module_version": "1.2.0",
            "grid_template_areas": null,
            "object_position": null,
            "object_fit": null,
            "grid_auto_columns": null,
            "margin": null,
            "display": null,
            "left": null
          }
        },
        "e9a6bed0216d44058c88de9c0029a7a4": {
          "model_module": "@jupyter-widgets/controls",
          "model_name": "FloatProgressModel",
          "state": {
            "_view_name": "ProgressView",
            "style": "IPY_MODEL_b4995a4afc7349298a67890c78f0691c",
            "_dom_classes": [],
            "description": "Progress:",
            "_model_name": "FloatProgressModel",
            "bar_style": "info",
            "max": 1,
            "_view_module": "@jupyter-widgets/controls",
            "_model_module_version": "1.5.0",
            "value": 0.8771929824561403,
            "_view_count": null,
            "_view_module_version": "1.5.0",
            "orientation": "horizontal",
            "min": 0,
            "description_tooltip": null,
            "_model_module": "@jupyter-widgets/controls",
            "layout": "IPY_MODEL_fe9c97c3ba8e43f0bde0a66010599b3b"
          }
        },
        "b4995a4afc7349298a67890c78f0691c": {
          "model_module": "@jupyter-widgets/controls",
          "model_name": "ProgressStyleModel",
          "state": {
            "_view_name": "StyleView",
            "_model_name": "ProgressStyleModel",
            "description_width": "",
            "_view_module": "@jupyter-widgets/base",
            "_model_module_version": "1.5.0",
            "_view_count": null,
            "_view_module_version": "1.2.0",
            "bar_color": null,
            "_model_module": "@jupyter-widgets/controls"
          }
        },
        "fe9c97c3ba8e43f0bde0a66010599b3b": {
          "model_module": "@jupyter-widgets/base",
          "model_name": "LayoutModel",
          "state": {
            "_view_name": "LayoutView",
            "grid_template_rows": null,
            "right": null,
            "justify_content": null,
            "_view_module": "@jupyter-widgets/base",
            "overflow": null,
            "_model_module_version": "1.2.0",
            "_view_count": null,
            "flex_flow": null,
            "width": "50%",
            "min_width": null,
            "border": null,
            "align_items": null,
            "bottom": null,
            "_model_module": "@jupyter-widgets/base",
            "top": null,
            "grid_column": null,
            "overflow_y": null,
            "overflow_x": null,
            "grid_auto_flow": null,
            "grid_area": null,
            "grid_template_columns": null,
            "flex": null,
            "_model_name": "LayoutModel",
            "justify_items": null,
            "grid_row": null,
            "max_height": null,
            "align_content": null,
            "visibility": null,
            "align_self": null,
            "height": "25px",
            "min_height": null,
            "padding": null,
            "grid_auto_rows": null,
            "grid_gap": null,
            "max_width": null,
            "order": null,
            "_view_module_version": "1.2.0",
            "grid_template_areas": null,
            "object_position": null,
            "object_fit": null,
            "grid_auto_columns": null,
            "margin": null,
            "display": null,
            "left": null
          }
        },
        "d00063c56d514693a4b828ea3d1da8be": {
          "model_module": "@jupyter-widgets/controls",
          "model_name": "FloatProgressModel",
          "state": {
            "_view_name": "ProgressView",
            "style": "IPY_MODEL_ca492b0241c04885ac36442a5f2f38ed",
            "_dom_classes": [],
            "description": "Progress:",
            "_model_name": "FloatProgressModel",
            "bar_style": "info",
            "max": 1,
            "_view_module": "@jupyter-widgets/controls",
            "_model_module_version": "1.5.0",
            "value": 0,
            "_view_count": null,
            "_view_module_version": "1.5.0",
            "orientation": "horizontal",
            "min": 0,
            "description_tooltip": null,
            "_model_module": "@jupyter-widgets/controls",
            "layout": "IPY_MODEL_9b87234a5df14f568f3306a50f503251"
          }
        },
        "ca492b0241c04885ac36442a5f2f38ed": {
          "model_module": "@jupyter-widgets/controls",
          "model_name": "ProgressStyleModel",
          "state": {
            "_view_name": "StyleView",
            "_model_name": "ProgressStyleModel",
            "description_width": "",
            "_view_module": "@jupyter-widgets/base",
            "_model_module_version": "1.5.0",
            "_view_count": null,
            "_view_module_version": "1.2.0",
            "bar_color": null,
            "_model_module": "@jupyter-widgets/controls"
          }
        },
        "9b87234a5df14f568f3306a50f503251": {
          "model_module": "@jupyter-widgets/base",
          "model_name": "LayoutModel",
          "state": {
            "_view_name": "LayoutView",
            "grid_template_rows": null,
            "right": null,
            "justify_content": null,
            "_view_module": "@jupyter-widgets/base",
            "overflow": null,
            "_model_module_version": "1.2.0",
            "_view_count": null,
            "flex_flow": null,
            "width": "50%",
            "min_width": null,
            "border": null,
            "align_items": null,
            "bottom": null,
            "_model_module": "@jupyter-widgets/base",
            "top": null,
            "grid_column": null,
            "overflow_y": null,
            "overflow_x": null,
            "grid_auto_flow": null,
            "grid_area": null,
            "grid_template_columns": null,
            "flex": null,
            "_model_name": "LayoutModel",
            "justify_items": null,
            "grid_row": null,
            "max_height": null,
            "align_content": null,
            "visibility": null,
            "align_self": null,
            "height": "25px",
            "min_height": null,
            "padding": null,
            "grid_auto_rows": null,
            "grid_gap": null,
            "max_width": null,
            "order": null,
            "_view_module_version": "1.2.0",
            "grid_template_areas": null,
            "object_position": null,
            "object_fit": null,
            "grid_auto_columns": null,
            "margin": null,
            "display": null,
            "left": null
          }
        },
        "b3b6b8a06b7849478f164740fd5edd3e": {
          "model_module": "@jupyter-widgets/controls",
          "model_name": "FloatProgressModel",
          "state": {
            "_view_name": "ProgressView",
            "style": "IPY_MODEL_6026716628924f079537ea100472c887",
            "_dom_classes": [],
            "description": "Progress:",
            "_model_name": "FloatProgressModel",
            "bar_style": "info",
            "max": 1,
            "_view_module": "@jupyter-widgets/controls",
            "_model_module_version": "1.5.0",
            "value": 0,
            "_view_count": null,
            "_view_module_version": "1.5.0",
            "orientation": "horizontal",
            "min": 0,
            "description_tooltip": null,
            "_model_module": "@jupyter-widgets/controls",
            "layout": "IPY_MODEL_1ac7092ba720482188065cae05a10803"
          }
        },
        "6026716628924f079537ea100472c887": {
          "model_module": "@jupyter-widgets/controls",
          "model_name": "ProgressStyleModel",
          "state": {
            "_view_name": "StyleView",
            "_model_name": "ProgressStyleModel",
            "description_width": "",
            "_view_module": "@jupyter-widgets/base",
            "_model_module_version": "1.5.0",
            "_view_count": null,
            "_view_module_version": "1.2.0",
            "bar_color": null,
            "_model_module": "@jupyter-widgets/controls"
          }
        },
        "1ac7092ba720482188065cae05a10803": {
          "model_module": "@jupyter-widgets/base",
          "model_name": "LayoutModel",
          "state": {
            "_view_name": "LayoutView",
            "grid_template_rows": null,
            "right": null,
            "justify_content": null,
            "_view_module": "@jupyter-widgets/base",
            "overflow": null,
            "_model_module_version": "1.2.0",
            "_view_count": null,
            "flex_flow": null,
            "width": "50%",
            "min_width": null,
            "border": null,
            "align_items": null,
            "bottom": null,
            "_model_module": "@jupyter-widgets/base",
            "top": null,
            "grid_column": null,
            "overflow_y": null,
            "overflow_x": null,
            "grid_auto_flow": null,
            "grid_area": null,
            "grid_template_columns": null,
            "flex": null,
            "_model_name": "LayoutModel",
            "justify_items": null,
            "grid_row": null,
            "max_height": null,
            "align_content": null,
            "visibility": null,
            "align_self": null,
            "height": "25px",
            "min_height": null,
            "padding": null,
            "grid_auto_rows": null,
            "grid_gap": null,
            "max_width": null,
            "order": null,
            "_view_module_version": "1.2.0",
            "grid_template_areas": null,
            "object_position": null,
            "object_fit": null,
            "grid_auto_columns": null,
            "margin": null,
            "display": null,
            "left": null
          }
        },
        "5af67fb0ccbb41ddab4814103b113df3": {
          "model_module": "@jupyter-widgets/controls",
          "model_name": "FloatProgressModel",
          "state": {
            "_view_name": "ProgressView",
            "style": "IPY_MODEL_b9adbc5966ea4b13aab8ada28e54ff8f",
            "_dom_classes": [],
            "description": "Progress:",
            "_model_name": "FloatProgressModel",
            "bar_style": "info",
            "max": 1,
            "_view_module": "@jupyter-widgets/controls",
            "_model_module_version": "1.5.0",
            "value": 1,
            "_view_count": null,
            "_view_module_version": "1.5.0",
            "orientation": "horizontal",
            "min": 0,
            "description_tooltip": null,
            "_model_module": "@jupyter-widgets/controls",
            "layout": "IPY_MODEL_990bf7041ff1477a81685ee5e54eb676"
          }
        },
        "b9adbc5966ea4b13aab8ada28e54ff8f": {
          "model_module": "@jupyter-widgets/controls",
          "model_name": "ProgressStyleModel",
          "state": {
            "_view_name": "StyleView",
            "_model_name": "ProgressStyleModel",
            "description_width": "",
            "_view_module": "@jupyter-widgets/base",
            "_model_module_version": "1.5.0",
            "_view_count": null,
            "_view_module_version": "1.2.0",
            "bar_color": null,
            "_model_module": "@jupyter-widgets/controls"
          }
        },
        "990bf7041ff1477a81685ee5e54eb676": {
          "model_module": "@jupyter-widgets/base",
          "model_name": "LayoutModel",
          "state": {
            "_view_name": "LayoutView",
            "grid_template_rows": null,
            "right": null,
            "justify_content": null,
            "_view_module": "@jupyter-widgets/base",
            "overflow": null,
            "_model_module_version": "1.2.0",
            "_view_count": null,
            "flex_flow": null,
            "width": "50%",
            "min_width": null,
            "border": null,
            "align_items": null,
            "bottom": null,
            "_model_module": "@jupyter-widgets/base",
            "top": null,
            "grid_column": null,
            "overflow_y": null,
            "overflow_x": null,
            "grid_auto_flow": null,
            "grid_area": null,
            "grid_template_columns": null,
            "flex": null,
            "_model_name": "LayoutModel",
            "justify_items": null,
            "grid_row": null,
            "max_height": null,
            "align_content": null,
            "visibility": null,
            "align_self": null,
            "height": "25px",
            "min_height": null,
            "padding": null,
            "grid_auto_rows": null,
            "grid_gap": null,
            "max_width": null,
            "order": null,
            "_view_module_version": "1.2.0",
            "grid_template_areas": null,
            "object_position": null,
            "object_fit": null,
            "grid_auto_columns": null,
            "margin": null,
            "display": null,
            "left": null
          }
        },
        "b1883c671b4545b0aa2fcfdb999b0730": {
          "model_module": "@jupyter-widgets/controls",
          "model_name": "FloatProgressModel",
          "state": {
            "_view_name": "ProgressView",
            "style": "IPY_MODEL_bed1f9476e41447b9403dc4d6e8d0f6a",
            "_dom_classes": [],
            "description": "Progress:",
            "_model_name": "FloatProgressModel",
            "bar_style": "info",
            "max": 1,
            "_view_module": "@jupyter-widgets/controls",
            "_model_module_version": "1.5.0",
            "value": 0,
            "_view_count": null,
            "_view_module_version": "1.5.0",
            "orientation": "horizontal",
            "min": 0,
            "description_tooltip": null,
            "_model_module": "@jupyter-widgets/controls",
            "layout": "IPY_MODEL_dcc9fc4e38544ce3b1d2e1be6ff5d2c6"
          }
        },
        "bed1f9476e41447b9403dc4d6e8d0f6a": {
          "model_module": "@jupyter-widgets/controls",
          "model_name": "ProgressStyleModel",
          "state": {
            "_view_name": "StyleView",
            "_model_name": "ProgressStyleModel",
            "description_width": "",
            "_view_module": "@jupyter-widgets/base",
            "_model_module_version": "1.5.0",
            "_view_count": null,
            "_view_module_version": "1.2.0",
            "bar_color": null,
            "_model_module": "@jupyter-widgets/controls"
          }
        },
        "dcc9fc4e38544ce3b1d2e1be6ff5d2c6": {
          "model_module": "@jupyter-widgets/base",
          "model_name": "LayoutModel",
          "state": {
            "_view_name": "LayoutView",
            "grid_template_rows": null,
            "right": null,
            "justify_content": null,
            "_view_module": "@jupyter-widgets/base",
            "overflow": null,
            "_model_module_version": "1.2.0",
            "_view_count": null,
            "flex_flow": null,
            "width": "50%",
            "min_width": null,
            "border": null,
            "align_items": null,
            "bottom": null,
            "_model_module": "@jupyter-widgets/base",
            "top": null,
            "grid_column": null,
            "overflow_y": null,
            "overflow_x": null,
            "grid_auto_flow": null,
            "grid_area": null,
            "grid_template_columns": null,
            "flex": null,
            "_model_name": "LayoutModel",
            "justify_items": null,
            "grid_row": null,
            "max_height": null,
            "align_content": null,
            "visibility": null,
            "align_self": null,
            "height": "25px",
            "min_height": null,
            "padding": null,
            "grid_auto_rows": null,
            "grid_gap": null,
            "max_width": null,
            "order": null,
            "_view_module_version": "1.2.0",
            "grid_template_areas": null,
            "object_position": null,
            "object_fit": null,
            "grid_auto_columns": null,
            "margin": null,
            "display": null,
            "left": null
          }
        },
        "dac37f22e05e42bf8091260f69365ab1": {
          "model_module": "@jupyter-widgets/controls",
          "model_name": "FloatProgressModel",
          "state": {
            "_view_name": "ProgressView",
            "style": "IPY_MODEL_42d47092396e4dd4a2922e936e083088",
            "_dom_classes": [],
            "description": "Progress:",
            "_model_name": "FloatProgressModel",
            "bar_style": "info",
            "max": 1,
            "_view_module": "@jupyter-widgets/controls",
            "_model_module_version": "1.5.0",
            "value": 0,
            "_view_count": null,
            "_view_module_version": "1.5.0",
            "orientation": "horizontal",
            "min": 0,
            "description_tooltip": null,
            "_model_module": "@jupyter-widgets/controls",
            "layout": "IPY_MODEL_70e48431daa44dea96e27cda1e21ba4c"
          }
        },
        "42d47092396e4dd4a2922e936e083088": {
          "model_module": "@jupyter-widgets/controls",
          "model_name": "ProgressStyleModel",
          "state": {
            "_view_name": "StyleView",
            "_model_name": "ProgressStyleModel",
            "description_width": "",
            "_view_module": "@jupyter-widgets/base",
            "_model_module_version": "1.5.0",
            "_view_count": null,
            "_view_module_version": "1.2.0",
            "bar_color": null,
            "_model_module": "@jupyter-widgets/controls"
          }
        },
        "70e48431daa44dea96e27cda1e21ba4c": {
          "model_module": "@jupyter-widgets/base",
          "model_name": "LayoutModel",
          "state": {
            "_view_name": "LayoutView",
            "grid_template_rows": null,
            "right": null,
            "justify_content": null,
            "_view_module": "@jupyter-widgets/base",
            "overflow": null,
            "_model_module_version": "1.2.0",
            "_view_count": null,
            "flex_flow": null,
            "width": "50%",
            "min_width": null,
            "border": null,
            "align_items": null,
            "bottom": null,
            "_model_module": "@jupyter-widgets/base",
            "top": null,
            "grid_column": null,
            "overflow_y": null,
            "overflow_x": null,
            "grid_auto_flow": null,
            "grid_area": null,
            "grid_template_columns": null,
            "flex": null,
            "_model_name": "LayoutModel",
            "justify_items": null,
            "grid_row": null,
            "max_height": null,
            "align_content": null,
            "visibility": null,
            "align_self": null,
            "height": "25px",
            "min_height": null,
            "padding": null,
            "grid_auto_rows": null,
            "grid_gap": null,
            "max_width": null,
            "order": null,
            "_view_module_version": "1.2.0",
            "grid_template_areas": null,
            "object_position": null,
            "object_fit": null,
            "grid_auto_columns": null,
            "margin": null,
            "display": null,
            "left": null
          }
        },
        "594a0df91d454562931a875488e5840d": {
          "model_module": "@jupyter-widgets/controls",
          "model_name": "FloatProgressModel",
          "state": {
            "_view_name": "ProgressView",
            "style": "IPY_MODEL_9e749bf1c11e4f98bd923f5a6bad2602",
            "_dom_classes": [],
            "description": "Progress:",
            "_model_name": "FloatProgressModel",
            "bar_style": "info",
            "max": 1,
            "_view_module": "@jupyter-widgets/controls",
            "_model_module_version": "1.5.0",
            "value": 1,
            "_view_count": null,
            "_view_module_version": "1.5.0",
            "orientation": "horizontal",
            "min": 0,
            "description_tooltip": null,
            "_model_module": "@jupyter-widgets/controls",
            "layout": "IPY_MODEL_7edf0789d91444e084bfaf0e1ae8d9e7"
          }
        },
        "9e749bf1c11e4f98bd923f5a6bad2602": {
          "model_module": "@jupyter-widgets/controls",
          "model_name": "ProgressStyleModel",
          "state": {
            "_view_name": "StyleView",
            "_model_name": "ProgressStyleModel",
            "description_width": "",
            "_view_module": "@jupyter-widgets/base",
            "_model_module_version": "1.5.0",
            "_view_count": null,
            "_view_module_version": "1.2.0",
            "bar_color": null,
            "_model_module": "@jupyter-widgets/controls"
          }
        },
        "7edf0789d91444e084bfaf0e1ae8d9e7": {
          "model_module": "@jupyter-widgets/base",
          "model_name": "LayoutModel",
          "state": {
            "_view_name": "LayoutView",
            "grid_template_rows": null,
            "right": null,
            "justify_content": null,
            "_view_module": "@jupyter-widgets/base",
            "overflow": null,
            "_model_module_version": "1.2.0",
            "_view_count": null,
            "flex_flow": null,
            "width": "50%",
            "min_width": null,
            "border": null,
            "align_items": null,
            "bottom": null,
            "_model_module": "@jupyter-widgets/base",
            "top": null,
            "grid_column": null,
            "overflow_y": null,
            "overflow_x": null,
            "grid_auto_flow": null,
            "grid_area": null,
            "grid_template_columns": null,
            "flex": null,
            "_model_name": "LayoutModel",
            "justify_items": null,
            "grid_row": null,
            "max_height": null,
            "align_content": null,
            "visibility": null,
            "align_self": null,
            "height": "25px",
            "min_height": null,
            "padding": null,
            "grid_auto_rows": null,
            "grid_gap": null,
            "max_width": null,
            "order": null,
            "_view_module_version": "1.2.0",
            "grid_template_areas": null,
            "object_position": null,
            "object_fit": null,
            "grid_auto_columns": null,
            "margin": null,
            "display": null,
            "left": null
          }
        },
        "3bc08abfda06410aab8b18925bf2b515": {
          "model_module": "@jupyter-widgets/controls",
          "model_name": "FloatProgressModel",
          "state": {
            "_view_name": "ProgressView",
            "style": "IPY_MODEL_889ea4b2e209498c82157fb256940dc0",
            "_dom_classes": [],
            "description": "Progress:",
            "_model_name": "FloatProgressModel",
            "bar_style": "info",
            "max": 1,
            "_view_module": "@jupyter-widgets/controls",
            "_model_module_version": "1.5.0",
            "value": 0,
            "_view_count": null,
            "_view_module_version": "1.5.0",
            "orientation": "horizontal",
            "min": 0,
            "description_tooltip": null,
            "_model_module": "@jupyter-widgets/controls",
            "layout": "IPY_MODEL_cef9c80bf9ff4c46b393c32c7093d4a1"
          }
        },
        "889ea4b2e209498c82157fb256940dc0": {
          "model_module": "@jupyter-widgets/controls",
          "model_name": "ProgressStyleModel",
          "state": {
            "_view_name": "StyleView",
            "_model_name": "ProgressStyleModel",
            "description_width": "",
            "_view_module": "@jupyter-widgets/base",
            "_model_module_version": "1.5.0",
            "_view_count": null,
            "_view_module_version": "1.2.0",
            "bar_color": null,
            "_model_module": "@jupyter-widgets/controls"
          }
        },
        "cef9c80bf9ff4c46b393c32c7093d4a1": {
          "model_module": "@jupyter-widgets/base",
          "model_name": "LayoutModel",
          "state": {
            "_view_name": "LayoutView",
            "grid_template_rows": null,
            "right": null,
            "justify_content": null,
            "_view_module": "@jupyter-widgets/base",
            "overflow": null,
            "_model_module_version": "1.2.0",
            "_view_count": null,
            "flex_flow": null,
            "width": "50%",
            "min_width": null,
            "border": null,
            "align_items": null,
            "bottom": null,
            "_model_module": "@jupyter-widgets/base",
            "top": null,
            "grid_column": null,
            "overflow_y": null,
            "overflow_x": null,
            "grid_auto_flow": null,
            "grid_area": null,
            "grid_template_columns": null,
            "flex": null,
            "_model_name": "LayoutModel",
            "justify_items": null,
            "grid_row": null,
            "max_height": null,
            "align_content": null,
            "visibility": null,
            "align_self": null,
            "height": "25px",
            "min_height": null,
            "padding": null,
            "grid_auto_rows": null,
            "grid_gap": null,
            "max_width": null,
            "order": null,
            "_view_module_version": "1.2.0",
            "grid_template_areas": null,
            "object_position": null,
            "object_fit": null,
            "grid_auto_columns": null,
            "margin": null,
            "display": null,
            "left": null
          }
        },
        "6c6de86b5e7f47d295e40b6b1639b026": {
          "model_module": "@jupyter-widgets/controls",
          "model_name": "FloatProgressModel",
          "state": {
            "_view_name": "ProgressView",
            "style": "IPY_MODEL_b77c1c73483e4fa682bdedde499ad8d1",
            "_dom_classes": [],
            "description": "Progress:",
            "_model_name": "FloatProgressModel",
            "bar_style": "info",
            "max": 1,
            "_view_module": "@jupyter-widgets/controls",
            "_model_module_version": "1.5.0",
            "value": 0,
            "_view_count": null,
            "_view_module_version": "1.5.0",
            "orientation": "horizontal",
            "min": 0,
            "description_tooltip": null,
            "_model_module": "@jupyter-widgets/controls",
            "layout": "IPY_MODEL_c420c98bae814d19bfeea768c4386e18"
          }
        },
        "b77c1c73483e4fa682bdedde499ad8d1": {
          "model_module": "@jupyter-widgets/controls",
          "model_name": "ProgressStyleModel",
          "state": {
            "_view_name": "StyleView",
            "_model_name": "ProgressStyleModel",
            "description_width": "",
            "_view_module": "@jupyter-widgets/base",
            "_model_module_version": "1.5.0",
            "_view_count": null,
            "_view_module_version": "1.2.0",
            "bar_color": null,
            "_model_module": "@jupyter-widgets/controls"
          }
        },
        "c420c98bae814d19bfeea768c4386e18": {
          "model_module": "@jupyter-widgets/base",
          "model_name": "LayoutModel",
          "state": {
            "_view_name": "LayoutView",
            "grid_template_rows": null,
            "right": null,
            "justify_content": null,
            "_view_module": "@jupyter-widgets/base",
            "overflow": null,
            "_model_module_version": "1.2.0",
            "_view_count": null,
            "flex_flow": null,
            "width": "50%",
            "min_width": null,
            "border": null,
            "align_items": null,
            "bottom": null,
            "_model_module": "@jupyter-widgets/base",
            "top": null,
            "grid_column": null,
            "overflow_y": null,
            "overflow_x": null,
            "grid_auto_flow": null,
            "grid_area": null,
            "grid_template_columns": null,
            "flex": null,
            "_model_name": "LayoutModel",
            "justify_items": null,
            "grid_row": null,
            "max_height": null,
            "align_content": null,
            "visibility": null,
            "align_self": null,
            "height": "25px",
            "min_height": null,
            "padding": null,
            "grid_auto_rows": null,
            "grid_gap": null,
            "max_width": null,
            "order": null,
            "_view_module_version": "1.2.0",
            "grid_template_areas": null,
            "object_position": null,
            "object_fit": null,
            "grid_auto_columns": null,
            "margin": null,
            "display": null,
            "left": null
          }
        },
        "7e4180ba58574353b0ae6232152ecef1": {
          "model_module": "@jupyter-widgets/controls",
          "model_name": "FloatProgressModel",
          "state": {
            "_view_name": "ProgressView",
            "style": "IPY_MODEL_e4c356110c544dc78250d188554e2934",
            "_dom_classes": [],
            "description": "Progress:",
            "_model_name": "FloatProgressModel",
            "bar_style": "info",
            "max": 1,
            "_view_module": "@jupyter-widgets/controls",
            "_model_module_version": "1.5.0",
            "value": 0,
            "_view_count": null,
            "_view_module_version": "1.5.0",
            "orientation": "horizontal",
            "min": 0,
            "description_tooltip": null,
            "_model_module": "@jupyter-widgets/controls",
            "layout": "IPY_MODEL_40c650d4ab0740b0bbaff7726cf96eb1"
          }
        },
        "e4c356110c544dc78250d188554e2934": {
          "model_module": "@jupyter-widgets/controls",
          "model_name": "ProgressStyleModel",
          "state": {
            "_view_name": "StyleView",
            "_model_name": "ProgressStyleModel",
            "description_width": "",
            "_view_module": "@jupyter-widgets/base",
            "_model_module_version": "1.5.0",
            "_view_count": null,
            "_view_module_version": "1.2.0",
            "bar_color": null,
            "_model_module": "@jupyter-widgets/controls"
          }
        },
        "40c650d4ab0740b0bbaff7726cf96eb1": {
          "model_module": "@jupyter-widgets/base",
          "model_name": "LayoutModel",
          "state": {
            "_view_name": "LayoutView",
            "grid_template_rows": null,
            "right": null,
            "justify_content": null,
            "_view_module": "@jupyter-widgets/base",
            "overflow": null,
            "_model_module_version": "1.2.0",
            "_view_count": null,
            "flex_flow": null,
            "width": "50%",
            "min_width": null,
            "border": null,
            "align_items": null,
            "bottom": null,
            "_model_module": "@jupyter-widgets/base",
            "top": null,
            "grid_column": null,
            "overflow_y": null,
            "overflow_x": null,
            "grid_auto_flow": null,
            "grid_area": null,
            "grid_template_columns": null,
            "flex": null,
            "_model_name": "LayoutModel",
            "justify_items": null,
            "grid_row": null,
            "max_height": null,
            "align_content": null,
            "visibility": null,
            "align_self": null,
            "height": "25px",
            "min_height": null,
            "padding": null,
            "grid_auto_rows": null,
            "grid_gap": null,
            "max_width": null,
            "order": null,
            "_view_module_version": "1.2.0",
            "grid_template_areas": null,
            "object_position": null,
            "object_fit": null,
            "grid_auto_columns": null,
            "margin": null,
            "display": null,
            "left": null
          }
        },
        "58e14a8cca8746bbbe7c8ac0828715d0": {
          "model_module": "@jupyter-widgets/controls",
          "model_name": "FloatProgressModel",
          "state": {
            "_view_name": "ProgressView",
            "style": "IPY_MODEL_c425eba019f44a2db5bef009b086df14",
            "_dom_classes": [],
            "description": "Progress:",
            "_model_name": "FloatProgressModel",
            "bar_style": "info",
            "max": 1,
            "_view_module": "@jupyter-widgets/controls",
            "_model_module_version": "1.5.0",
            "value": 0,
            "_view_count": null,
            "_view_module_version": "1.5.0",
            "orientation": "horizontal",
            "min": 0,
            "description_tooltip": null,
            "_model_module": "@jupyter-widgets/controls",
            "layout": "IPY_MODEL_b7a47d811bcd4681b87bf7e501d2aa69"
          }
        },
        "c425eba019f44a2db5bef009b086df14": {
          "model_module": "@jupyter-widgets/controls",
          "model_name": "ProgressStyleModel",
          "state": {
            "_view_name": "StyleView",
            "_model_name": "ProgressStyleModel",
            "description_width": "",
            "_view_module": "@jupyter-widgets/base",
            "_model_module_version": "1.5.0",
            "_view_count": null,
            "_view_module_version": "1.2.0",
            "bar_color": null,
            "_model_module": "@jupyter-widgets/controls"
          }
        },
        "b7a47d811bcd4681b87bf7e501d2aa69": {
          "model_module": "@jupyter-widgets/base",
          "model_name": "LayoutModel",
          "state": {
            "_view_name": "LayoutView",
            "grid_template_rows": null,
            "right": null,
            "justify_content": null,
            "_view_module": "@jupyter-widgets/base",
            "overflow": null,
            "_model_module_version": "1.2.0",
            "_view_count": null,
            "flex_flow": null,
            "width": "50%",
            "min_width": null,
            "border": null,
            "align_items": null,
            "bottom": null,
            "_model_module": "@jupyter-widgets/base",
            "top": null,
            "grid_column": null,
            "overflow_y": null,
            "overflow_x": null,
            "grid_auto_flow": null,
            "grid_area": null,
            "grid_template_columns": null,
            "flex": null,
            "_model_name": "LayoutModel",
            "justify_items": null,
            "grid_row": null,
            "max_height": null,
            "align_content": null,
            "visibility": null,
            "align_self": null,
            "height": "25px",
            "min_height": null,
            "padding": null,
            "grid_auto_rows": null,
            "grid_gap": null,
            "max_width": null,
            "order": null,
            "_view_module_version": "1.2.0",
            "grid_template_areas": null,
            "object_position": null,
            "object_fit": null,
            "grid_auto_columns": null,
            "margin": null,
            "display": null,
            "left": null
          }
        },
        "f54edf03c1414f24b122c7a19df42aec": {
          "model_module": "@jupyter-widgets/controls",
          "model_name": "FloatProgressModel",
          "state": {
            "_view_name": "ProgressView",
            "style": "IPY_MODEL_a5404d1564854b8b8219917ed8a5d797",
            "_dom_classes": [],
            "description": "Progress:",
            "_model_name": "FloatProgressModel",
            "bar_style": "info",
            "max": 1,
            "_view_module": "@jupyter-widgets/controls",
            "_model_module_version": "1.5.0",
            "value": 0.21875,
            "_view_count": null,
            "_view_module_version": "1.5.0",
            "orientation": "horizontal",
            "min": 0,
            "description_tooltip": null,
            "_model_module": "@jupyter-widgets/controls",
            "layout": "IPY_MODEL_9e1621c19b98478f87cee36f277b22da"
          }
        },
        "a5404d1564854b8b8219917ed8a5d797": {
          "model_module": "@jupyter-widgets/controls",
          "model_name": "ProgressStyleModel",
          "state": {
            "_view_name": "StyleView",
            "_model_name": "ProgressStyleModel",
            "description_width": "",
            "_view_module": "@jupyter-widgets/base",
            "_model_module_version": "1.5.0",
            "_view_count": null,
            "_view_module_version": "1.2.0",
            "bar_color": null,
            "_model_module": "@jupyter-widgets/controls"
          }
        },
        "9e1621c19b98478f87cee36f277b22da": {
          "model_module": "@jupyter-widgets/base",
          "model_name": "LayoutModel",
          "state": {
            "_view_name": "LayoutView",
            "grid_template_rows": null,
            "right": null,
            "justify_content": null,
            "_view_module": "@jupyter-widgets/base",
            "overflow": null,
            "_model_module_version": "1.2.0",
            "_view_count": null,
            "flex_flow": null,
            "width": "50%",
            "min_width": null,
            "border": null,
            "align_items": null,
            "bottom": null,
            "_model_module": "@jupyter-widgets/base",
            "top": null,
            "grid_column": null,
            "overflow_y": null,
            "overflow_x": null,
            "grid_auto_flow": null,
            "grid_area": null,
            "grid_template_columns": null,
            "flex": null,
            "_model_name": "LayoutModel",
            "justify_items": null,
            "grid_row": null,
            "max_height": null,
            "align_content": null,
            "visibility": null,
            "align_self": null,
            "height": "25px",
            "min_height": null,
            "padding": null,
            "grid_auto_rows": null,
            "grid_gap": null,
            "max_width": null,
            "order": null,
            "_view_module_version": "1.2.0",
            "grid_template_areas": null,
            "object_position": null,
            "object_fit": null,
            "grid_auto_columns": null,
            "margin": null,
            "display": null,
            "left": null
          }
        },
        "039c7f7645de4658b12ef747e67031f9": {
          "model_module": "@jupyter-widgets/controls",
          "model_name": "FloatProgressModel",
          "state": {
            "_view_name": "ProgressView",
            "style": "IPY_MODEL_0ded5e9bed23483e9d24596299746d68",
            "_dom_classes": [],
            "description": "Progress:",
            "_model_name": "FloatProgressModel",
            "bar_style": "info",
            "max": 1,
            "_view_module": "@jupyter-widgets/controls",
            "_model_module_version": "1.5.0",
            "value": 0.6505576208178439,
            "_view_count": null,
            "_view_module_version": "1.5.0",
            "orientation": "horizontal",
            "min": 0,
            "description_tooltip": null,
            "_model_module": "@jupyter-widgets/controls",
            "layout": "IPY_MODEL_691e6797e28b4cb4ba26ff5ffa21d1a4"
          }
        },
        "0ded5e9bed23483e9d24596299746d68": {
          "model_module": "@jupyter-widgets/controls",
          "model_name": "ProgressStyleModel",
          "state": {
            "_view_name": "StyleView",
            "_model_name": "ProgressStyleModel",
            "description_width": "",
            "_view_module": "@jupyter-widgets/base",
            "_model_module_version": "1.5.0",
            "_view_count": null,
            "_view_module_version": "1.2.0",
            "bar_color": null,
            "_model_module": "@jupyter-widgets/controls"
          }
        },
        "691e6797e28b4cb4ba26ff5ffa21d1a4": {
          "model_module": "@jupyter-widgets/base",
          "model_name": "LayoutModel",
          "state": {
            "_view_name": "LayoutView",
            "grid_template_rows": null,
            "right": null,
            "justify_content": null,
            "_view_module": "@jupyter-widgets/base",
            "overflow": null,
            "_model_module_version": "1.2.0",
            "_view_count": null,
            "flex_flow": null,
            "width": "50%",
            "min_width": null,
            "border": null,
            "align_items": null,
            "bottom": null,
            "_model_module": "@jupyter-widgets/base",
            "top": null,
            "grid_column": null,
            "overflow_y": null,
            "overflow_x": null,
            "grid_auto_flow": null,
            "grid_area": null,
            "grid_template_columns": null,
            "flex": null,
            "_model_name": "LayoutModel",
            "justify_items": null,
            "grid_row": null,
            "max_height": null,
            "align_content": null,
            "visibility": null,
            "align_self": null,
            "height": "25px",
            "min_height": null,
            "padding": null,
            "grid_auto_rows": null,
            "grid_gap": null,
            "max_width": null,
            "order": null,
            "_view_module_version": "1.2.0",
            "grid_template_areas": null,
            "object_position": null,
            "object_fit": null,
            "grid_auto_columns": null,
            "margin": null,
            "display": null,
            "left": null
          }
        },
        "5f264372c7704e5aad6a954c78e71af6": {
          "model_module": "@jupyter-widgets/controls",
          "model_name": "FloatProgressModel",
          "state": {
            "_view_name": "ProgressView",
            "style": "IPY_MODEL_d5b6521a027b4d5b994f79dc0737dc5d",
            "_dom_classes": [],
            "description": "Progress:",
            "_model_name": "FloatProgressModel",
            "bar_style": "info",
            "max": 1,
            "_view_module": "@jupyter-widgets/controls",
            "_model_module_version": "1.5.0",
            "value": 0.8658536585365854,
            "_view_count": null,
            "_view_module_version": "1.5.0",
            "orientation": "horizontal",
            "min": 0,
            "description_tooltip": null,
            "_model_module": "@jupyter-widgets/controls",
            "layout": "IPY_MODEL_dee631d06a8c4949be227009b8b49f79"
          }
        },
        "d5b6521a027b4d5b994f79dc0737dc5d": {
          "model_module": "@jupyter-widgets/controls",
          "model_name": "ProgressStyleModel",
          "state": {
            "_view_name": "StyleView",
            "_model_name": "ProgressStyleModel",
            "description_width": "",
            "_view_module": "@jupyter-widgets/base",
            "_model_module_version": "1.5.0",
            "_view_count": null,
            "_view_module_version": "1.2.0",
            "bar_color": null,
            "_model_module": "@jupyter-widgets/controls"
          }
        },
        "dee631d06a8c4949be227009b8b49f79": {
          "model_module": "@jupyter-widgets/base",
          "model_name": "LayoutModel",
          "state": {
            "_view_name": "LayoutView",
            "grid_template_rows": null,
            "right": null,
            "justify_content": null,
            "_view_module": "@jupyter-widgets/base",
            "overflow": null,
            "_model_module_version": "1.2.0",
            "_view_count": null,
            "flex_flow": null,
            "width": "50%",
            "min_width": null,
            "border": null,
            "align_items": null,
            "bottom": null,
            "_model_module": "@jupyter-widgets/base",
            "top": null,
            "grid_column": null,
            "overflow_y": null,
            "overflow_x": null,
            "grid_auto_flow": null,
            "grid_area": null,
            "grid_template_columns": null,
            "flex": null,
            "_model_name": "LayoutModel",
            "justify_items": null,
            "grid_row": null,
            "max_height": null,
            "align_content": null,
            "visibility": null,
            "align_self": null,
            "height": "25px",
            "min_height": null,
            "padding": null,
            "grid_auto_rows": null,
            "grid_gap": null,
            "max_width": null,
            "order": null,
            "_view_module_version": "1.2.0",
            "grid_template_areas": null,
            "object_position": null,
            "object_fit": null,
            "grid_auto_columns": null,
            "margin": null,
            "display": null,
            "left": null
          }
        },
        "7dfb1dc20a5043a3b707a05aeb93ac0f": {
          "model_module": "@jupyter-widgets/controls",
          "model_name": "FloatProgressModel",
          "state": {
            "_view_name": "ProgressView",
            "style": "IPY_MODEL_0b8bc7c1b3aa4803a6dd5918e89c6455",
            "_dom_classes": [],
            "description": "Progress:",
            "_model_name": "FloatProgressModel",
            "bar_style": "info",
            "max": 1,
            "_view_module": "@jupyter-widgets/controls",
            "_model_module_version": "1.5.0",
            "value": 0.5363605326049846,
            "_view_count": null,
            "_view_module_version": "1.5.0",
            "orientation": "horizontal",
            "min": 0,
            "description_tooltip": null,
            "_model_module": "@jupyter-widgets/controls",
            "layout": "IPY_MODEL_607b9bf601d141eba40663fef639c7dc"
          }
        },
        "0b8bc7c1b3aa4803a6dd5918e89c6455": {
          "model_module": "@jupyter-widgets/controls",
          "model_name": "ProgressStyleModel",
          "state": {
            "_view_name": "StyleView",
            "_model_name": "ProgressStyleModel",
            "description_width": "",
            "_view_module": "@jupyter-widgets/base",
            "_model_module_version": "1.5.0",
            "_view_count": null,
            "_view_module_version": "1.2.0",
            "bar_color": null,
            "_model_module": "@jupyter-widgets/controls"
          }
        },
        "607b9bf601d141eba40663fef639c7dc": {
          "model_module": "@jupyter-widgets/base",
          "model_name": "LayoutModel",
          "state": {
            "_view_name": "LayoutView",
            "grid_template_rows": null,
            "right": null,
            "justify_content": null,
            "_view_module": "@jupyter-widgets/base",
            "overflow": null,
            "_model_module_version": "1.2.0",
            "_view_count": null,
            "flex_flow": null,
            "width": "50%",
            "min_width": null,
            "border": null,
            "align_items": null,
            "bottom": null,
            "_model_module": "@jupyter-widgets/base",
            "top": null,
            "grid_column": null,
            "overflow_y": null,
            "overflow_x": null,
            "grid_auto_flow": null,
            "grid_area": null,
            "grid_template_columns": null,
            "flex": null,
            "_model_name": "LayoutModel",
            "justify_items": null,
            "grid_row": null,
            "max_height": null,
            "align_content": null,
            "visibility": null,
            "align_self": null,
            "height": "25px",
            "min_height": null,
            "padding": null,
            "grid_auto_rows": null,
            "grid_gap": null,
            "max_width": null,
            "order": null,
            "_view_module_version": "1.2.0",
            "grid_template_areas": null,
            "object_position": null,
            "object_fit": null,
            "grid_auto_columns": null,
            "margin": null,
            "display": null,
            "left": null
          }
        },
        "28dba07877554b74a9e001bf9c9e8af8": {
          "model_module": "@jupyter-widgets/controls",
          "model_name": "FloatProgressModel",
          "state": {
            "_view_name": "ProgressView",
            "style": "IPY_MODEL_358ed57d126c446ea57f93656037162f",
            "_dom_classes": [],
            "description": "Progress:",
            "_model_name": "FloatProgressModel",
            "bar_style": "info",
            "max": 1,
            "_view_module": "@jupyter-widgets/controls",
            "_model_module_version": "1.5.0",
            "value": 0,
            "_view_count": null,
            "_view_module_version": "1.5.0",
            "orientation": "horizontal",
            "min": 0,
            "description_tooltip": null,
            "_model_module": "@jupyter-widgets/controls",
            "layout": "IPY_MODEL_3eef3d37ff8f49a2b7526198e8df23cc"
          }
        },
        "358ed57d126c446ea57f93656037162f": {
          "model_module": "@jupyter-widgets/controls",
          "model_name": "ProgressStyleModel",
          "state": {
            "_view_name": "StyleView",
            "_model_name": "ProgressStyleModel",
            "description_width": "",
            "_view_module": "@jupyter-widgets/base",
            "_model_module_version": "1.5.0",
            "_view_count": null,
            "_view_module_version": "1.2.0",
            "bar_color": null,
            "_model_module": "@jupyter-widgets/controls"
          }
        },
        "3eef3d37ff8f49a2b7526198e8df23cc": {
          "model_module": "@jupyter-widgets/base",
          "model_name": "LayoutModel",
          "state": {
            "_view_name": "LayoutView",
            "grid_template_rows": null,
            "right": null,
            "justify_content": null,
            "_view_module": "@jupyter-widgets/base",
            "overflow": null,
            "_model_module_version": "1.2.0",
            "_view_count": null,
            "flex_flow": null,
            "width": "50%",
            "min_width": null,
            "border": null,
            "align_items": null,
            "bottom": null,
            "_model_module": "@jupyter-widgets/base",
            "top": null,
            "grid_column": null,
            "overflow_y": null,
            "overflow_x": null,
            "grid_auto_flow": null,
            "grid_area": null,
            "grid_template_columns": null,
            "flex": null,
            "_model_name": "LayoutModel",
            "justify_items": null,
            "grid_row": null,
            "max_height": null,
            "align_content": null,
            "visibility": null,
            "align_self": null,
            "height": "25px",
            "min_height": null,
            "padding": null,
            "grid_auto_rows": null,
            "grid_gap": null,
            "max_width": null,
            "order": null,
            "_view_module_version": "1.2.0",
            "grid_template_areas": null,
            "object_position": null,
            "object_fit": null,
            "grid_auto_columns": null,
            "margin": null,
            "display": null,
            "left": null
          }
        },
        "3013367d6d1142fc8d7de996ec4a3dd1": {
          "model_module": "@jupyter-widgets/controls",
          "model_name": "FloatProgressModel",
          "state": {
            "_view_name": "ProgressView",
            "style": "IPY_MODEL_c27bc7d8950b4b40b515d0a00df5eaeb",
            "_dom_classes": [],
            "description": "Progress:",
            "_model_name": "FloatProgressModel",
            "bar_style": "info",
            "max": 1,
            "_view_module": "@jupyter-widgets/controls",
            "_model_module_version": "1.5.0",
            "value": 1,
            "_view_count": null,
            "_view_module_version": "1.5.0",
            "orientation": "horizontal",
            "min": 0,
            "description_tooltip": null,
            "_model_module": "@jupyter-widgets/controls",
            "layout": "IPY_MODEL_a92cfb312a17412b9fcec5794c04bba1"
          }
        },
        "c27bc7d8950b4b40b515d0a00df5eaeb": {
          "model_module": "@jupyter-widgets/controls",
          "model_name": "ProgressStyleModel",
          "state": {
            "_view_name": "StyleView",
            "_model_name": "ProgressStyleModel",
            "description_width": "",
            "_view_module": "@jupyter-widgets/base",
            "_model_module_version": "1.5.0",
            "_view_count": null,
            "_view_module_version": "1.2.0",
            "bar_color": null,
            "_model_module": "@jupyter-widgets/controls"
          }
        },
        "a92cfb312a17412b9fcec5794c04bba1": {
          "model_module": "@jupyter-widgets/base",
          "model_name": "LayoutModel",
          "state": {
            "_view_name": "LayoutView",
            "grid_template_rows": null,
            "right": null,
            "justify_content": null,
            "_view_module": "@jupyter-widgets/base",
            "overflow": null,
            "_model_module_version": "1.2.0",
            "_view_count": null,
            "flex_flow": null,
            "width": "50%",
            "min_width": null,
            "border": null,
            "align_items": null,
            "bottom": null,
            "_model_module": "@jupyter-widgets/base",
            "top": null,
            "grid_column": null,
            "overflow_y": null,
            "overflow_x": null,
            "grid_auto_flow": null,
            "grid_area": null,
            "grid_template_columns": null,
            "flex": null,
            "_model_name": "LayoutModel",
            "justify_items": null,
            "grid_row": null,
            "max_height": null,
            "align_content": null,
            "visibility": null,
            "align_self": null,
            "height": "25px",
            "min_height": null,
            "padding": null,
            "grid_auto_rows": null,
            "grid_gap": null,
            "max_width": null,
            "order": null,
            "_view_module_version": "1.2.0",
            "grid_template_areas": null,
            "object_position": null,
            "object_fit": null,
            "grid_auto_columns": null,
            "margin": null,
            "display": null,
            "left": null
          }
        },
        "ade8380c3bff496d938591be1ba25288": {
          "model_module": "@jupyter-widgets/controls",
          "model_name": "FloatProgressModel",
          "state": {
            "_view_name": "ProgressView",
            "style": "IPY_MODEL_785fc5bd70a44c89acdd7483f8dab7e3",
            "_dom_classes": [],
            "description": "Progress:",
            "_model_name": "FloatProgressModel",
            "bar_style": "info",
            "max": 1,
            "_view_module": "@jupyter-widgets/controls",
            "_model_module_version": "1.5.0",
            "value": 0.8586046511627907,
            "_view_count": null,
            "_view_module_version": "1.5.0",
            "orientation": "horizontal",
            "min": 0,
            "description_tooltip": null,
            "_model_module": "@jupyter-widgets/controls",
            "layout": "IPY_MODEL_fb00c6a0c4384dd1ac2da21f5ea4d0d8"
          }
        },
        "785fc5bd70a44c89acdd7483f8dab7e3": {
          "model_module": "@jupyter-widgets/controls",
          "model_name": "ProgressStyleModel",
          "state": {
            "_view_name": "StyleView",
            "_model_name": "ProgressStyleModel",
            "description_width": "",
            "_view_module": "@jupyter-widgets/base",
            "_model_module_version": "1.5.0",
            "_view_count": null,
            "_view_module_version": "1.2.0",
            "bar_color": null,
            "_model_module": "@jupyter-widgets/controls"
          }
        },
        "fb00c6a0c4384dd1ac2da21f5ea4d0d8": {
          "model_module": "@jupyter-widgets/base",
          "model_name": "LayoutModel",
          "state": {
            "_view_name": "LayoutView",
            "grid_template_rows": null,
            "right": null,
            "justify_content": null,
            "_view_module": "@jupyter-widgets/base",
            "overflow": null,
            "_model_module_version": "1.2.0",
            "_view_count": null,
            "flex_flow": null,
            "width": "50%",
            "min_width": null,
            "border": null,
            "align_items": null,
            "bottom": null,
            "_model_module": "@jupyter-widgets/base",
            "top": null,
            "grid_column": null,
            "overflow_y": null,
            "overflow_x": null,
            "grid_auto_flow": null,
            "grid_area": null,
            "grid_template_columns": null,
            "flex": null,
            "_model_name": "LayoutModel",
            "justify_items": null,
            "grid_row": null,
            "max_height": null,
            "align_content": null,
            "visibility": null,
            "align_self": null,
            "height": "25px",
            "min_height": null,
            "padding": null,
            "grid_auto_rows": null,
            "grid_gap": null,
            "max_width": null,
            "order": null,
            "_view_module_version": "1.2.0",
            "grid_template_areas": null,
            "object_position": null,
            "object_fit": null,
            "grid_auto_columns": null,
            "margin": null,
            "display": null,
            "left": null
          }
        },
        "5a54a7b306ae489e8c60335a70d5685f": {
          "model_module": "@jupyter-widgets/controls",
          "model_name": "FloatProgressModel",
          "state": {
            "_view_name": "ProgressView",
            "style": "IPY_MODEL_51ac0801d01e4b27aa8655800b561681",
            "_dom_classes": [],
            "description": "Progress:",
            "_model_name": "FloatProgressModel",
            "bar_style": "info",
            "max": 1,
            "_view_module": "@jupyter-widgets/controls",
            "_model_module_version": "1.5.0",
            "value": 0,
            "_view_count": null,
            "_view_module_version": "1.5.0",
            "orientation": "horizontal",
            "min": 0,
            "description_tooltip": null,
            "_model_module": "@jupyter-widgets/controls",
            "layout": "IPY_MODEL_2efb179f3f7d4c90a4b9032bceb9c46a"
          }
        },
        "51ac0801d01e4b27aa8655800b561681": {
          "model_module": "@jupyter-widgets/controls",
          "model_name": "ProgressStyleModel",
          "state": {
            "_view_name": "StyleView",
            "_model_name": "ProgressStyleModel",
            "description_width": "",
            "_view_module": "@jupyter-widgets/base",
            "_model_module_version": "1.5.0",
            "_view_count": null,
            "_view_module_version": "1.2.0",
            "bar_color": null,
            "_model_module": "@jupyter-widgets/controls"
          }
        },
        "2efb179f3f7d4c90a4b9032bceb9c46a": {
          "model_module": "@jupyter-widgets/base",
          "model_name": "LayoutModel",
          "state": {
            "_view_name": "LayoutView",
            "grid_template_rows": null,
            "right": null,
            "justify_content": null,
            "_view_module": "@jupyter-widgets/base",
            "overflow": null,
            "_model_module_version": "1.2.0",
            "_view_count": null,
            "flex_flow": null,
            "width": "50%",
            "min_width": null,
            "border": null,
            "align_items": null,
            "bottom": null,
            "_model_module": "@jupyter-widgets/base",
            "top": null,
            "grid_column": null,
            "overflow_y": null,
            "overflow_x": null,
            "grid_auto_flow": null,
            "grid_area": null,
            "grid_template_columns": null,
            "flex": null,
            "_model_name": "LayoutModel",
            "justify_items": null,
            "grid_row": null,
            "max_height": null,
            "align_content": null,
            "visibility": null,
            "align_self": null,
            "height": "25px",
            "min_height": null,
            "padding": null,
            "grid_auto_rows": null,
            "grid_gap": null,
            "max_width": null,
            "order": null,
            "_view_module_version": "1.2.0",
            "grid_template_areas": null,
            "object_position": null,
            "object_fit": null,
            "grid_auto_columns": null,
            "margin": null,
            "display": null,
            "left": null
          }
        },
        "40b2308e295344e4a3006bc2b607390c": {
          "model_module": "@jupyter-widgets/controls",
          "model_name": "FloatProgressModel",
          "state": {
            "_view_name": "ProgressView",
            "style": "IPY_MODEL_1747f5c847754516b0efdf4fa904f150",
            "_dom_classes": [],
            "description": "Progress:",
            "_model_name": "FloatProgressModel",
            "bar_style": "info",
            "max": 1,
            "_view_module": "@jupyter-widgets/controls",
            "_model_module_version": "1.5.0",
            "value": 0,
            "_view_count": null,
            "_view_module_version": "1.5.0",
            "orientation": "horizontal",
            "min": 0,
            "description_tooltip": null,
            "_model_module": "@jupyter-widgets/controls",
            "layout": "IPY_MODEL_229fed5befc24e93acf0c028ac074beb"
          }
        },
        "1747f5c847754516b0efdf4fa904f150": {
          "model_module": "@jupyter-widgets/controls",
          "model_name": "ProgressStyleModel",
          "state": {
            "_view_name": "StyleView",
            "_model_name": "ProgressStyleModel",
            "description_width": "",
            "_view_module": "@jupyter-widgets/base",
            "_model_module_version": "1.5.0",
            "_view_count": null,
            "_view_module_version": "1.2.0",
            "bar_color": null,
            "_model_module": "@jupyter-widgets/controls"
          }
        },
        "229fed5befc24e93acf0c028ac074beb": {
          "model_module": "@jupyter-widgets/base",
          "model_name": "LayoutModel",
          "state": {
            "_view_name": "LayoutView",
            "grid_template_rows": null,
            "right": null,
            "justify_content": null,
            "_view_module": "@jupyter-widgets/base",
            "overflow": null,
            "_model_module_version": "1.2.0",
            "_view_count": null,
            "flex_flow": null,
            "width": "50%",
            "min_width": null,
            "border": null,
            "align_items": null,
            "bottom": null,
            "_model_module": "@jupyter-widgets/base",
            "top": null,
            "grid_column": null,
            "overflow_y": null,
            "overflow_x": null,
            "grid_auto_flow": null,
            "grid_area": null,
            "grid_template_columns": null,
            "flex": null,
            "_model_name": "LayoutModel",
            "justify_items": null,
            "grid_row": null,
            "max_height": null,
            "align_content": null,
            "visibility": null,
            "align_self": null,
            "height": "25px",
            "min_height": null,
            "padding": null,
            "grid_auto_rows": null,
            "grid_gap": null,
            "max_width": null,
            "order": null,
            "_view_module_version": "1.2.0",
            "grid_template_areas": null,
            "object_position": null,
            "object_fit": null,
            "grid_auto_columns": null,
            "margin": null,
            "display": null,
            "left": null
          }
        },
        "082d3c7fa7914165b0ffc1a05734ac36": {
          "model_module": "@jupyter-widgets/controls",
          "model_name": "FloatProgressModel",
          "state": {
            "_view_name": "ProgressView",
            "style": "IPY_MODEL_6ea713db8e214fc8a51101a0d0a73020",
            "_dom_classes": [],
            "description": "Progress:",
            "_model_name": "FloatProgressModel",
            "bar_style": "info",
            "max": 1,
            "_view_module": "@jupyter-widgets/controls",
            "_model_module_version": "1.5.0",
            "value": 0.6393762183235867,
            "_view_count": null,
            "_view_module_version": "1.5.0",
            "orientation": "horizontal",
            "min": 0,
            "description_tooltip": null,
            "_model_module": "@jupyter-widgets/controls",
            "layout": "IPY_MODEL_6ace66738d8d44a48f1462a302aeb13e"
          }
        },
        "6ea713db8e214fc8a51101a0d0a73020": {
          "model_module": "@jupyter-widgets/controls",
          "model_name": "ProgressStyleModel",
          "state": {
            "_view_name": "StyleView",
            "_model_name": "ProgressStyleModel",
            "description_width": "",
            "_view_module": "@jupyter-widgets/base",
            "_model_module_version": "1.5.0",
            "_view_count": null,
            "_view_module_version": "1.2.0",
            "bar_color": null,
            "_model_module": "@jupyter-widgets/controls"
          }
        },
        "6ace66738d8d44a48f1462a302aeb13e": {
          "model_module": "@jupyter-widgets/base",
          "model_name": "LayoutModel",
          "state": {
            "_view_name": "LayoutView",
            "grid_template_rows": null,
            "right": null,
            "justify_content": null,
            "_view_module": "@jupyter-widgets/base",
            "overflow": null,
            "_model_module_version": "1.2.0",
            "_view_count": null,
            "flex_flow": null,
            "width": "50%",
            "min_width": null,
            "border": null,
            "align_items": null,
            "bottom": null,
            "_model_module": "@jupyter-widgets/base",
            "top": null,
            "grid_column": null,
            "overflow_y": null,
            "overflow_x": null,
            "grid_auto_flow": null,
            "grid_area": null,
            "grid_template_columns": null,
            "flex": null,
            "_model_name": "LayoutModel",
            "justify_items": null,
            "grid_row": null,
            "max_height": null,
            "align_content": null,
            "visibility": null,
            "align_self": null,
            "height": "25px",
            "min_height": null,
            "padding": null,
            "grid_auto_rows": null,
            "grid_gap": null,
            "max_width": null,
            "order": null,
            "_view_module_version": "1.2.0",
            "grid_template_areas": null,
            "object_position": null,
            "object_fit": null,
            "grid_auto_columns": null,
            "margin": null,
            "display": null,
            "left": null
          }
        },
        "7e3aa5cd68f140c8bad2965c87ac6890": {
          "model_module": "@jupyter-widgets/controls",
          "model_name": "FloatProgressModel",
          "state": {
            "_view_name": "ProgressView",
            "style": "IPY_MODEL_54e4bf758947403caff005c14d05201f",
            "_dom_classes": [],
            "description": "Progress:",
            "_model_name": "FloatProgressModel",
            "bar_style": "info",
            "max": 1,
            "_view_module": "@jupyter-widgets/controls",
            "_model_module_version": "1.5.0",
            "value": 0,
            "_view_count": null,
            "_view_module_version": "1.5.0",
            "orientation": "horizontal",
            "min": 0,
            "description_tooltip": null,
            "_model_module": "@jupyter-widgets/controls",
            "layout": "IPY_MODEL_348b70e00d0847afad25744df24e8fe3"
          }
        },
        "54e4bf758947403caff005c14d05201f": {
          "model_module": "@jupyter-widgets/controls",
          "model_name": "ProgressStyleModel",
          "state": {
            "_view_name": "StyleView",
            "_model_name": "ProgressStyleModel",
            "description_width": "",
            "_view_module": "@jupyter-widgets/base",
            "_model_module_version": "1.5.0",
            "_view_count": null,
            "_view_module_version": "1.2.0",
            "bar_color": null,
            "_model_module": "@jupyter-widgets/controls"
          }
        },
        "348b70e00d0847afad25744df24e8fe3": {
          "model_module": "@jupyter-widgets/base",
          "model_name": "LayoutModel",
          "state": {
            "_view_name": "LayoutView",
            "grid_template_rows": null,
            "right": null,
            "justify_content": null,
            "_view_module": "@jupyter-widgets/base",
            "overflow": null,
            "_model_module_version": "1.2.0",
            "_view_count": null,
            "flex_flow": null,
            "width": "50%",
            "min_width": null,
            "border": null,
            "align_items": null,
            "bottom": null,
            "_model_module": "@jupyter-widgets/base",
            "top": null,
            "grid_column": null,
            "overflow_y": null,
            "overflow_x": null,
            "grid_auto_flow": null,
            "grid_area": null,
            "grid_template_columns": null,
            "flex": null,
            "_model_name": "LayoutModel",
            "justify_items": null,
            "grid_row": null,
            "max_height": null,
            "align_content": null,
            "visibility": null,
            "align_self": null,
            "height": "25px",
            "min_height": null,
            "padding": null,
            "grid_auto_rows": null,
            "grid_gap": null,
            "max_width": null,
            "order": null,
            "_view_module_version": "1.2.0",
            "grid_template_areas": null,
            "object_position": null,
            "object_fit": null,
            "grid_auto_columns": null,
            "margin": null,
            "display": null,
            "left": null
          }
        },
        "02095def4066420898a4378bb66f31f9": {
          "model_module": "@jupyter-widgets/controls",
          "model_name": "FloatProgressModel",
          "state": {
            "_view_name": "ProgressView",
            "style": "IPY_MODEL_5cef8f3e42a94b5e91de2006729a0428",
            "_dom_classes": [],
            "description": "Progress:",
            "_model_name": "FloatProgressModel",
            "bar_style": "info",
            "max": 1,
            "_view_module": "@jupyter-widgets/controls",
            "_model_module_version": "1.5.0",
            "value": 0,
            "_view_count": null,
            "_view_module_version": "1.5.0",
            "orientation": "horizontal",
            "min": 0,
            "description_tooltip": null,
            "_model_module": "@jupyter-widgets/controls",
            "layout": "IPY_MODEL_4670b890b4fe46c7b42adddedf92bd31"
          }
        },
        "5cef8f3e42a94b5e91de2006729a0428": {
          "model_module": "@jupyter-widgets/controls",
          "model_name": "ProgressStyleModel",
          "state": {
            "_view_name": "StyleView",
            "_model_name": "ProgressStyleModel",
            "description_width": "",
            "_view_module": "@jupyter-widgets/base",
            "_model_module_version": "1.5.0",
            "_view_count": null,
            "_view_module_version": "1.2.0",
            "bar_color": null,
            "_model_module": "@jupyter-widgets/controls"
          }
        },
        "4670b890b4fe46c7b42adddedf92bd31": {
          "model_module": "@jupyter-widgets/base",
          "model_name": "LayoutModel",
          "state": {
            "_view_name": "LayoutView",
            "grid_template_rows": null,
            "right": null,
            "justify_content": null,
            "_view_module": "@jupyter-widgets/base",
            "overflow": null,
            "_model_module_version": "1.2.0",
            "_view_count": null,
            "flex_flow": null,
            "width": "50%",
            "min_width": null,
            "border": null,
            "align_items": null,
            "bottom": null,
            "_model_module": "@jupyter-widgets/base",
            "top": null,
            "grid_column": null,
            "overflow_y": null,
            "overflow_x": null,
            "grid_auto_flow": null,
            "grid_area": null,
            "grid_template_columns": null,
            "flex": null,
            "_model_name": "LayoutModel",
            "justify_items": null,
            "grid_row": null,
            "max_height": null,
            "align_content": null,
            "visibility": null,
            "align_self": null,
            "height": "25px",
            "min_height": null,
            "padding": null,
            "grid_auto_rows": null,
            "grid_gap": null,
            "max_width": null,
            "order": null,
            "_view_module_version": "1.2.0",
            "grid_template_areas": null,
            "object_position": null,
            "object_fit": null,
            "grid_auto_columns": null,
            "margin": null,
            "display": null,
            "left": null
          }
        },
        "8fc2e90cd862475a9e03e787e225207c": {
          "model_module": "@jupyter-widgets/controls",
          "model_name": "FloatProgressModel",
          "state": {
            "_view_name": "ProgressView",
            "style": "IPY_MODEL_f805513082da489e9ee1e61b4f09ec8a",
            "_dom_classes": [],
            "description": "Progress:",
            "_model_name": "FloatProgressModel",
            "bar_style": "info",
            "max": 1,
            "_view_module": "@jupyter-widgets/controls",
            "_model_module_version": "1.5.0",
            "value": 0,
            "_view_count": null,
            "_view_module_version": "1.5.0",
            "orientation": "horizontal",
            "min": 0,
            "description_tooltip": null,
            "_model_module": "@jupyter-widgets/controls",
            "layout": "IPY_MODEL_ccefcde708cd498fa6ce36ec4ed5d2a4"
          }
        },
        "f805513082da489e9ee1e61b4f09ec8a": {
          "model_module": "@jupyter-widgets/controls",
          "model_name": "ProgressStyleModel",
          "state": {
            "_view_name": "StyleView",
            "_model_name": "ProgressStyleModel",
            "description_width": "",
            "_view_module": "@jupyter-widgets/base",
            "_model_module_version": "1.5.0",
            "_view_count": null,
            "_view_module_version": "1.2.0",
            "bar_color": null,
            "_model_module": "@jupyter-widgets/controls"
          }
        },
        "ccefcde708cd498fa6ce36ec4ed5d2a4": {
          "model_module": "@jupyter-widgets/base",
          "model_name": "LayoutModel",
          "state": {
            "_view_name": "LayoutView",
            "grid_template_rows": null,
            "right": null,
            "justify_content": null,
            "_view_module": "@jupyter-widgets/base",
            "overflow": null,
            "_model_module_version": "1.2.0",
            "_view_count": null,
            "flex_flow": null,
            "width": "50%",
            "min_width": null,
            "border": null,
            "align_items": null,
            "bottom": null,
            "_model_module": "@jupyter-widgets/base",
            "top": null,
            "grid_column": null,
            "overflow_y": null,
            "overflow_x": null,
            "grid_auto_flow": null,
            "grid_area": null,
            "grid_template_columns": null,
            "flex": null,
            "_model_name": "LayoutModel",
            "justify_items": null,
            "grid_row": null,
            "max_height": null,
            "align_content": null,
            "visibility": null,
            "align_self": null,
            "height": "25px",
            "min_height": null,
            "padding": null,
            "grid_auto_rows": null,
            "grid_gap": null,
            "max_width": null,
            "order": null,
            "_view_module_version": "1.2.0",
            "grid_template_areas": null,
            "object_position": null,
            "object_fit": null,
            "grid_auto_columns": null,
            "margin": null,
            "display": null,
            "left": null
          }
        },
        "d719fe26402942a793a8497c572ce753": {
          "model_module": "@jupyter-widgets/controls",
          "model_name": "FloatProgressModel",
          "state": {
            "_view_name": "ProgressView",
            "style": "IPY_MODEL_7a62b6f143234af3af6088726cec2587",
            "_dom_classes": [],
            "description": "Progress:",
            "_model_name": "FloatProgressModel",
            "bar_style": "info",
            "max": 1,
            "_view_module": "@jupyter-widgets/controls",
            "_model_module_version": "1.5.0",
            "value": 0,
            "_view_count": null,
            "_view_module_version": "1.5.0",
            "orientation": "horizontal",
            "min": 0,
            "description_tooltip": null,
            "_model_module": "@jupyter-widgets/controls",
            "layout": "IPY_MODEL_68a75da95b8d44699c6ba63f2902a930"
          }
        },
        "7a62b6f143234af3af6088726cec2587": {
          "model_module": "@jupyter-widgets/controls",
          "model_name": "ProgressStyleModel",
          "state": {
            "_view_name": "StyleView",
            "_model_name": "ProgressStyleModel",
            "description_width": "",
            "_view_module": "@jupyter-widgets/base",
            "_model_module_version": "1.5.0",
            "_view_count": null,
            "_view_module_version": "1.2.0",
            "bar_color": null,
            "_model_module": "@jupyter-widgets/controls"
          }
        },
        "68a75da95b8d44699c6ba63f2902a930": {
          "model_module": "@jupyter-widgets/base",
          "model_name": "LayoutModel",
          "state": {
            "_view_name": "LayoutView",
            "grid_template_rows": null,
            "right": null,
            "justify_content": null,
            "_view_module": "@jupyter-widgets/base",
            "overflow": null,
            "_model_module_version": "1.2.0",
            "_view_count": null,
            "flex_flow": null,
            "width": "50%",
            "min_width": null,
            "border": null,
            "align_items": null,
            "bottom": null,
            "_model_module": "@jupyter-widgets/base",
            "top": null,
            "grid_column": null,
            "overflow_y": null,
            "overflow_x": null,
            "grid_auto_flow": null,
            "grid_area": null,
            "grid_template_columns": null,
            "flex": null,
            "_model_name": "LayoutModel",
            "justify_items": null,
            "grid_row": null,
            "max_height": null,
            "align_content": null,
            "visibility": null,
            "align_self": null,
            "height": "25px",
            "min_height": null,
            "padding": null,
            "grid_auto_rows": null,
            "grid_gap": null,
            "max_width": null,
            "order": null,
            "_view_module_version": "1.2.0",
            "grid_template_areas": null,
            "object_position": null,
            "object_fit": null,
            "grid_auto_columns": null,
            "margin": null,
            "display": null,
            "left": null
          }
        },
        "da0e94c14cd34a00b0718ccec3fd13d5": {
          "model_module": "@jupyter-widgets/controls",
          "model_name": "FloatProgressModel",
          "state": {
            "_view_name": "ProgressView",
            "style": "IPY_MODEL_a7f3979a032343c098e69290807a4de8",
            "_dom_classes": [],
            "description": "Progress:",
            "_model_name": "FloatProgressModel",
            "bar_style": "info",
            "max": 1,
            "_view_module": "@jupyter-widgets/controls",
            "_model_module_version": "1.5.0",
            "value": 0,
            "_view_count": null,
            "_view_module_version": "1.5.0",
            "orientation": "horizontal",
            "min": 0,
            "description_tooltip": null,
            "_model_module": "@jupyter-widgets/controls",
            "layout": "IPY_MODEL_ece0f84a3e41442eb037652bdf159a69"
          }
        },
        "a7f3979a032343c098e69290807a4de8": {
          "model_module": "@jupyter-widgets/controls",
          "model_name": "ProgressStyleModel",
          "state": {
            "_view_name": "StyleView",
            "_model_name": "ProgressStyleModel",
            "description_width": "",
            "_view_module": "@jupyter-widgets/base",
            "_model_module_version": "1.5.0",
            "_view_count": null,
            "_view_module_version": "1.2.0",
            "bar_color": null,
            "_model_module": "@jupyter-widgets/controls"
          }
        },
        "ece0f84a3e41442eb037652bdf159a69": {
          "model_module": "@jupyter-widgets/base",
          "model_name": "LayoutModel",
          "state": {
            "_view_name": "LayoutView",
            "grid_template_rows": null,
            "right": null,
            "justify_content": null,
            "_view_module": "@jupyter-widgets/base",
            "overflow": null,
            "_model_module_version": "1.2.0",
            "_view_count": null,
            "flex_flow": null,
            "width": "50%",
            "min_width": null,
            "border": null,
            "align_items": null,
            "bottom": null,
            "_model_module": "@jupyter-widgets/base",
            "top": null,
            "grid_column": null,
            "overflow_y": null,
            "overflow_x": null,
            "grid_auto_flow": null,
            "grid_area": null,
            "grid_template_columns": null,
            "flex": null,
            "_model_name": "LayoutModel",
            "justify_items": null,
            "grid_row": null,
            "max_height": null,
            "align_content": null,
            "visibility": null,
            "align_self": null,
            "height": "25px",
            "min_height": null,
            "padding": null,
            "grid_auto_rows": null,
            "grid_gap": null,
            "max_width": null,
            "order": null,
            "_view_module_version": "1.2.0",
            "grid_template_areas": null,
            "object_position": null,
            "object_fit": null,
            "grid_auto_columns": null,
            "margin": null,
            "display": null,
            "left": null
          }
        },
        "1d91f394d23a4ad8bbeb9c3fcdd065fa": {
          "model_module": "@jupyter-widgets/controls",
          "model_name": "FloatProgressModel",
          "state": {
            "_view_name": "ProgressView",
            "style": "IPY_MODEL_d2e6d474b2db4f069961bc9bb4ef2577",
            "_dom_classes": [],
            "description": "Progress:",
            "_model_name": "FloatProgressModel",
            "bar_style": "info",
            "max": 1,
            "_view_module": "@jupyter-widgets/controls",
            "_model_module_version": "1.5.0",
            "value": 0,
            "_view_count": null,
            "_view_module_version": "1.5.0",
            "orientation": "horizontal",
            "min": 0,
            "description_tooltip": null,
            "_model_module": "@jupyter-widgets/controls",
            "layout": "IPY_MODEL_5d266d996f004a7f8fe869db0c96cc49"
          }
        },
        "d2e6d474b2db4f069961bc9bb4ef2577": {
          "model_module": "@jupyter-widgets/controls",
          "model_name": "ProgressStyleModel",
          "state": {
            "_view_name": "StyleView",
            "_model_name": "ProgressStyleModel",
            "description_width": "",
            "_view_module": "@jupyter-widgets/base",
            "_model_module_version": "1.5.0",
            "_view_count": null,
            "_view_module_version": "1.2.0",
            "bar_color": null,
            "_model_module": "@jupyter-widgets/controls"
          }
        },
        "5d266d996f004a7f8fe869db0c96cc49": {
          "model_module": "@jupyter-widgets/base",
          "model_name": "LayoutModel",
          "state": {
            "_view_name": "LayoutView",
            "grid_template_rows": null,
            "right": null,
            "justify_content": null,
            "_view_module": "@jupyter-widgets/base",
            "overflow": null,
            "_model_module_version": "1.2.0",
            "_view_count": null,
            "flex_flow": null,
            "width": "50%",
            "min_width": null,
            "border": null,
            "align_items": null,
            "bottom": null,
            "_model_module": "@jupyter-widgets/base",
            "top": null,
            "grid_column": null,
            "overflow_y": null,
            "overflow_x": null,
            "grid_auto_flow": null,
            "grid_area": null,
            "grid_template_columns": null,
            "flex": null,
            "_model_name": "LayoutModel",
            "justify_items": null,
            "grid_row": null,
            "max_height": null,
            "align_content": null,
            "visibility": null,
            "align_self": null,
            "height": "25px",
            "min_height": null,
            "padding": null,
            "grid_auto_rows": null,
            "grid_gap": null,
            "max_width": null,
            "order": null,
            "_view_module_version": "1.2.0",
            "grid_template_areas": null,
            "object_position": null,
            "object_fit": null,
            "grid_auto_columns": null,
            "margin": null,
            "display": null,
            "left": null
          }
        },
        "8fba4df8fbaf429b9397a8179d2ee2c8": {
          "model_module": "@jupyter-widgets/controls",
          "model_name": "FloatProgressModel",
          "state": {
            "_view_name": "ProgressView",
            "style": "IPY_MODEL_e882613cff6f4b1287ab6b4da68c5d55",
            "_dom_classes": [],
            "description": "Progress:",
            "_model_name": "FloatProgressModel",
            "bar_style": "info",
            "max": 1,
            "_view_module": "@jupyter-widgets/controls",
            "_model_module_version": "1.5.0",
            "value": 0,
            "_view_count": null,
            "_view_module_version": "1.5.0",
            "orientation": "horizontal",
            "min": 0,
            "description_tooltip": null,
            "_model_module": "@jupyter-widgets/controls",
            "layout": "IPY_MODEL_7aec357cccfc4414a4b2d7dcf97d3bf5"
          }
        },
        "e882613cff6f4b1287ab6b4da68c5d55": {
          "model_module": "@jupyter-widgets/controls",
          "model_name": "ProgressStyleModel",
          "state": {
            "_view_name": "StyleView",
            "_model_name": "ProgressStyleModel",
            "description_width": "",
            "_view_module": "@jupyter-widgets/base",
            "_model_module_version": "1.5.0",
            "_view_count": null,
            "_view_module_version": "1.2.0",
            "bar_color": null,
            "_model_module": "@jupyter-widgets/controls"
          }
        },
        "7aec357cccfc4414a4b2d7dcf97d3bf5": {
          "model_module": "@jupyter-widgets/base",
          "model_name": "LayoutModel",
          "state": {
            "_view_name": "LayoutView",
            "grid_template_rows": null,
            "right": null,
            "justify_content": null,
            "_view_module": "@jupyter-widgets/base",
            "overflow": null,
            "_model_module_version": "1.2.0",
            "_view_count": null,
            "flex_flow": null,
            "width": "50%",
            "min_width": null,
            "border": null,
            "align_items": null,
            "bottom": null,
            "_model_module": "@jupyter-widgets/base",
            "top": null,
            "grid_column": null,
            "overflow_y": null,
            "overflow_x": null,
            "grid_auto_flow": null,
            "grid_area": null,
            "grid_template_columns": null,
            "flex": null,
            "_model_name": "LayoutModel",
            "justify_items": null,
            "grid_row": null,
            "max_height": null,
            "align_content": null,
            "visibility": null,
            "align_self": null,
            "height": "25px",
            "min_height": null,
            "padding": null,
            "grid_auto_rows": null,
            "grid_gap": null,
            "max_width": null,
            "order": null,
            "_view_module_version": "1.2.0",
            "grid_template_areas": null,
            "object_position": null,
            "object_fit": null,
            "grid_auto_columns": null,
            "margin": null,
            "display": null,
            "left": null
          }
        },
        "b6e832ba566d4255942c4381d68c570b": {
          "model_module": "@jupyter-widgets/controls",
          "model_name": "FloatProgressModel",
          "state": {
            "_view_name": "ProgressView",
            "style": "IPY_MODEL_628a0a23a00342398f88514c0e720639",
            "_dom_classes": [],
            "description": "Progress:",
            "_model_name": "FloatProgressModel",
            "bar_style": "info",
            "max": 1,
            "_view_module": "@jupyter-widgets/controls",
            "_model_module_version": "1.5.0",
            "value": 0,
            "_view_count": null,
            "_view_module_version": "1.5.0",
            "orientation": "horizontal",
            "min": 0,
            "description_tooltip": null,
            "_model_module": "@jupyter-widgets/controls",
            "layout": "IPY_MODEL_3137aa8ef3bc4d0fa9175099aef52397"
          }
        },
        "628a0a23a00342398f88514c0e720639": {
          "model_module": "@jupyter-widgets/controls",
          "model_name": "ProgressStyleModel",
          "state": {
            "_view_name": "StyleView",
            "_model_name": "ProgressStyleModel",
            "description_width": "",
            "_view_module": "@jupyter-widgets/base",
            "_model_module_version": "1.5.0",
            "_view_count": null,
            "_view_module_version": "1.2.0",
            "bar_color": null,
            "_model_module": "@jupyter-widgets/controls"
          }
        },
        "3137aa8ef3bc4d0fa9175099aef52397": {
          "model_module": "@jupyter-widgets/base",
          "model_name": "LayoutModel",
          "state": {
            "_view_name": "LayoutView",
            "grid_template_rows": null,
            "right": null,
            "justify_content": null,
            "_view_module": "@jupyter-widgets/base",
            "overflow": null,
            "_model_module_version": "1.2.0",
            "_view_count": null,
            "flex_flow": null,
            "width": "50%",
            "min_width": null,
            "border": null,
            "align_items": null,
            "bottom": null,
            "_model_module": "@jupyter-widgets/base",
            "top": null,
            "grid_column": null,
            "overflow_y": null,
            "overflow_x": null,
            "grid_auto_flow": null,
            "grid_area": null,
            "grid_template_columns": null,
            "flex": null,
            "_model_name": "LayoutModel",
            "justify_items": null,
            "grid_row": null,
            "max_height": null,
            "align_content": null,
            "visibility": null,
            "align_self": null,
            "height": "25px",
            "min_height": null,
            "padding": null,
            "grid_auto_rows": null,
            "grid_gap": null,
            "max_width": null,
            "order": null,
            "_view_module_version": "1.2.0",
            "grid_template_areas": null,
            "object_position": null,
            "object_fit": null,
            "grid_auto_columns": null,
            "margin": null,
            "display": null,
            "left": null
          }
        }
      }
    }
  },
  "cells": [
    {
      "cell_type": "markdown",
      "metadata": {
        "id": "view-in-github",
        "colab_type": "text"
      },
      "source": [
        "<a href=\"https://colab.research.google.com/github/adisb01/COVID-Twitter-Analysis/blob/master/COVID_Twitter_Analysis.ipynb\" target=\"_parent\"><img src=\"https://colab.research.google.com/assets/colab-badge.svg\" alt=\"Open In Colab\"/></a>"
      ]
    },
    {
      "cell_type": "markdown",
      "metadata": {
        "id": "kfavQUrNOY5D",
        "colab_type": "text"
      },
      "source": [
        "#Introduction\n",
        "Despite the realization that our current situation is stressful and unfair, it is also a time in human history that will be studied for a long time due to the socioeconomic, psychological, and physical affects COVID has had on the entire world. One of the best ways to study any time period is to look at primary sources, direct accounts of people in history through their letters, artwork, architecture, and so on. And what better source of primary sources in the 21st century than Twitter? \n",
        "\n",
        "\n",
        "Twitter is home to billions of accounts of hundreds of millions of users, in easy to process, 250 character tweets, gold mine for anyone looking for data. Consequently, researchers have looked towards Tweet data to study everything from geographic differences in public health, to measuring how people cope with global crises (sounds familiar). Now, in an effort to study the world through Tweets once again, Kaggle has released a dataset comprised of **over 12 million tweets** with hashtags related to COVID-19 during March. \n",
        "\n",
        "My aim in this project is to analyze the data to understand the the current state of Tweet sentiment, timing, location, and length, and ultimately use all these features, and more to build a model that predicts how many favorites a Tweet has. Let's see what it takes to be popular on Twitter during times like these. \n",
        "\n",
        "The link to the dataset is here: \n",
        "https://www.kaggle.com/smid80/coronavirus-covid19-tweets"
      ]
    },
    {
      "cell_type": "markdown",
      "metadata": {
        "id": "meeN8gIYgVhR",
        "colab_type": "text"
      },
      "source": [
        "##Setup\n",
        "Due to the massive amount of tweets involved in this project, we need to set up an AWS EMR cluster so we can run computations on multiple machines with Spark. \n",
        "\n"
      ]
    },
    {
      "cell_type": "code",
      "metadata": {
        "id": "qkM0WMC2gaWC",
        "colab_type": "code",
        "colab": {}
      },
      "source": [
        "%%capture\n",
        "!apt update\n",
        "!apt install gcc python-dev libkrb5-dev\n",
        "!pip install sparkmagic"
      ],
      "execution_count": null,
      "outputs": []
    },
    {
      "cell_type": "code",
      "metadata": {
        "id": "3Gv-pWwWgfDZ",
        "colab_type": "code",
        "colab": {}
      },
      "source": [
        "%%capture\n",
        "%load_ext sparkmagic.magics "
      ],
      "execution_count": null,
      "outputs": []
    },
    {
      "cell_type": "code",
      "metadata": {
        "id": "nXTvEPU-gnSD",
        "colab_type": "code",
        "colab": {
          "base_uri": "https://localhost:8080/",
          "referenced_widgets": [
            "1f4603cbdce247a5bb0299da41837fb0",
            "5f39c3ba67d1464ebd5058df7af837fa",
            "3980575d517646e9bac5bd9b3c2b6a08"
          ]
        },
        "outputId": "0c2e7851-7a44-45fb-991a-732896bed91d"
      },
      "source": [
        "%spark add -s my_session1 -l python -u http://ec2-3-84-216-76.compute-1.amazonaws.com:8998"
      ],
      "execution_count": null,
      "outputs": [
        {
          "output_type": "stream",
          "text": [
            "Starting Spark application\n"
          ],
          "name": "stdout"
        },
        {
          "output_type": "display_data",
          "data": {
            "text/html": [
              "<table>\n",
              "<tr><th>ID</th><th>YARN Application ID</th><th>Kind</th><th>State</th><th>Spark UI</th><th>Driver log</th><th>Current session?</th></tr><tr><td>42</td><td>application_1588720070347_0043</td><td>pyspark</td><td>idle</td><td><a target=\"_blank\" href=\"http://ip-172-31-44-228.ec2.internal:20888/proxy/application_1588720070347_0043/\">Link</a></td><td><a target=\"_blank\" href=\"http://ip-172-31-34-76.ec2.internal:8042/node/containerlogs/container_1588720070347_0043_01_000002/livy\">Link</a></td><td>✔</td></tr></table>"
            ],
            "text/plain": [
              "<IPython.core.display.HTML object>"
            ]
          },
          "metadata": {
            "tags": []
          }
        },
        {
          "output_type": "display_data",
          "data": {
            "application/vnd.jupyter.widget-view+json": {
              "model_id": "1f4603cbdce247a5bb0299da41837fb0",
              "version_minor": 0,
              "version_major": 2
            },
            "text/plain": [
              "FloatProgress(value=0.0, bar_style='info', description='Progress:', layout=Layout(height='25px', width='50%'),…"
            ]
          },
          "metadata": {
            "tags": []
          }
        },
        {
          "output_type": "stream",
          "text": [
            "SparkSession available as 'spark'.\n"
          ],
          "name": "stdout"
        }
      ]
    },
    {
      "cell_type": "markdown",
      "metadata": {
        "id": "MQjLMmIDprqI",
        "colab_type": "text"
      },
      "source": [
        "##Handling CSVs\n",
        "The tweet data starts off in 20 different CSV files. Reading from these 20 files and concatenating them each time is slow, so here we combine them and write them as a single JSON\n",
        "file to an AWS S3 bucket we can later read from."
      ]
    },
    {
      "cell_type": "code",
      "metadata": {
        "id": "IecX4mHAdyS6",
        "colab_type": "code",
        "cellView": "both",
        "colab": {
          "base_uri": "https://localhost:8080/",
          "height": 357
        },
        "outputId": "ebcd1391-2f57-44a6-992a-193c7032b06f"
      },
      "source": [
        "import glob\n",
        "file_paths= [i for i in glob.glob('/content/drive/My Drive/CIS 545 Final Project/coronavirus-covid19-tweets/*.CSV'.format('csv'))]\n",
        "file_paths"
      ],
      "execution_count": null,
      "outputs": [
        {
          "output_type": "execute_result",
          "data": {
            "text/plain": [
              "['/content/drive/My Drive/CIS 545 Final Project/coronavirus-covid19-tweets/2020-03-00 Coronavirus Tweets (pre 2020-03-12).CSV',\n",
              " '/content/drive/My Drive/CIS 545 Final Project/coronavirus-covid19-tweets/2020-03-12 Coronavirus Tweets.CSV',\n",
              " '/content/drive/My Drive/CIS 545 Final Project/coronavirus-covid19-tweets/2020-03-13 Coronavirus Tweets.CSV',\n",
              " '/content/drive/My Drive/CIS 545 Final Project/coronavirus-covid19-tweets/2020-03-14 Coronavirus Tweets.CSV',\n",
              " '/content/drive/My Drive/CIS 545 Final Project/coronavirus-covid19-tweets/2020-03-15 Coronavirus Tweets.CSV',\n",
              " '/content/drive/My Drive/CIS 545 Final Project/coronavirus-covid19-tweets/2020-03-16 Coronavirus Tweets.CSV',\n",
              " '/content/drive/My Drive/CIS 545 Final Project/coronavirus-covid19-tweets/2020-03-17 Coronavirus Tweets.CSV',\n",
              " '/content/drive/My Drive/CIS 545 Final Project/coronavirus-covid19-tweets/2020-03-18 Coronavirus Tweets.CSV',\n",
              " '/content/drive/My Drive/CIS 545 Final Project/coronavirus-covid19-tweets/2020-03-19 Coronavirus Tweets.CSV',\n",
              " '/content/drive/My Drive/CIS 545 Final Project/coronavirus-covid19-tweets/2020-03-20 Coronavirus Tweets.CSV',\n",
              " '/content/drive/My Drive/CIS 545 Final Project/coronavirus-covid19-tweets/2020-03-21 Coronavirus Tweets.CSV',\n",
              " '/content/drive/My Drive/CIS 545 Final Project/coronavirus-covid19-tweets/2020-03-22 Coronavirus Tweets.CSV',\n",
              " '/content/drive/My Drive/CIS 545 Final Project/coronavirus-covid19-tweets/2020-03-23 Coronavirus Tweets.CSV',\n",
              " '/content/drive/My Drive/CIS 545 Final Project/coronavirus-covid19-tweets/2020-03-24 Coronavirus Tweets.CSV',\n",
              " '/content/drive/My Drive/CIS 545 Final Project/coronavirus-covid19-tweets/2020-03-25 Coronavirus Tweets.CSV',\n",
              " '/content/drive/My Drive/CIS 545 Final Project/coronavirus-covid19-tweets/2020-03-26 Coronavirus Tweets.CSV',\n",
              " '/content/drive/My Drive/CIS 545 Final Project/coronavirus-covid19-tweets/2020-03-27 Coronavirus Tweets.CSV',\n",
              " '/content/drive/My Drive/CIS 545 Final Project/coronavirus-covid19-tweets/2020-03-28 Coronavirus Tweets.CSV',\n",
              " '/content/drive/My Drive/CIS 545 Final Project/coronavirus-covid19-tweets/Hashtags.CSV',\n",
              " '/content/drive/My Drive/CIS 545 Final Project/coronavirus-covid19-tweets/Countries.CSV']"
            ]
          },
          "metadata": {
            "tags": []
          },
          "execution_count": 4
        }
      ]
    },
    {
      "cell_type": "code",
      "metadata": {
        "id": "HPEUd4DXfcHd",
        "colab_type": "code",
        "colab": {
          "base_uri": "https://localhost:8080/",
          "height": 323
        },
        "outputId": "56c57837-31c8-490c-c6a3-2780bb4d119a"
      },
      "source": [
        "tweet_csvs = []\n",
        "hashtags_csv = \"csv\"\n",
        "countries_csv = \"csv\"\n",
        "for file in file_paths: \n",
        "  if '2020' in file: \n",
        "    tweet_csvs.append(file)\n",
        "  elif 'Hashtags' in file:\n",
        "    hashtags_csv = file\n",
        "  else:\n",
        "    countries_csv = file\n",
        "tweet_csvs"
      ],
      "execution_count": null,
      "outputs": [
        {
          "output_type": "execute_result",
          "data": {
            "text/plain": [
              "['/content/drive/My Drive/CIS 545 Final Project/coronavirus-covid19-tweets/2020-03-00 Coronavirus Tweets (pre 2020-03-12).CSV',\n",
              " '/content/drive/My Drive/CIS 545 Final Project/coronavirus-covid19-tweets/2020-03-12 Coronavirus Tweets.CSV',\n",
              " '/content/drive/My Drive/CIS 545 Final Project/coronavirus-covid19-tweets/2020-03-13 Coronavirus Tweets.CSV',\n",
              " '/content/drive/My Drive/CIS 545 Final Project/coronavirus-covid19-tweets/2020-03-14 Coronavirus Tweets.CSV',\n",
              " '/content/drive/My Drive/CIS 545 Final Project/coronavirus-covid19-tweets/2020-03-15 Coronavirus Tweets.CSV',\n",
              " '/content/drive/My Drive/CIS 545 Final Project/coronavirus-covid19-tweets/2020-03-16 Coronavirus Tweets.CSV',\n",
              " '/content/drive/My Drive/CIS 545 Final Project/coronavirus-covid19-tweets/2020-03-17 Coronavirus Tweets.CSV',\n",
              " '/content/drive/My Drive/CIS 545 Final Project/coronavirus-covid19-tweets/2020-03-18 Coronavirus Tweets.CSV',\n",
              " '/content/drive/My Drive/CIS 545 Final Project/coronavirus-covid19-tweets/2020-03-19 Coronavirus Tweets.CSV',\n",
              " '/content/drive/My Drive/CIS 545 Final Project/coronavirus-covid19-tweets/2020-03-20 Coronavirus Tweets.CSV',\n",
              " '/content/drive/My Drive/CIS 545 Final Project/coronavirus-covid19-tweets/2020-03-21 Coronavirus Tweets.CSV',\n",
              " '/content/drive/My Drive/CIS 545 Final Project/coronavirus-covid19-tweets/2020-03-22 Coronavirus Tweets.CSV',\n",
              " '/content/drive/My Drive/CIS 545 Final Project/coronavirus-covid19-tweets/2020-03-23 Coronavirus Tweets.CSV',\n",
              " '/content/drive/My Drive/CIS 545 Final Project/coronavirus-covid19-tweets/2020-03-24 Coronavirus Tweets.CSV',\n",
              " '/content/drive/My Drive/CIS 545 Final Project/coronavirus-covid19-tweets/2020-03-25 Coronavirus Tweets.CSV',\n",
              " '/content/drive/My Drive/CIS 545 Final Project/coronavirus-covid19-tweets/2020-03-26 Coronavirus Tweets.CSV',\n",
              " '/content/drive/My Drive/CIS 545 Final Project/coronavirus-covid19-tweets/2020-03-27 Coronavirus Tweets.CSV',\n",
              " '/content/drive/My Drive/CIS 545 Final Project/coronavirus-covid19-tweets/2020-03-28 Coronavirus Tweets.CSV']"
            ]
          },
          "metadata": {
            "tags": []
          },
          "execution_count": 5
        }
      ]
    },
    {
      "cell_type": "code",
      "metadata": {
        "id": "u5VK8OTd1iZt",
        "colab_type": "code",
        "colab": {
          "base_uri": "https://localhost:8080/",
          "height": 34
        },
        "outputId": "a8967f6a-a4c2-4997-eaa9-4d49e6a28c03"
      },
      "source": [
        "hashtags_csv"
      ],
      "execution_count": null,
      "outputs": [
        {
          "output_type": "execute_result",
          "data": {
            "text/plain": [
              "'/content/drive/My Drive/CIS 545 Final Project/coronavirus-covid19-tweets/Hashtags.CSV'"
            ]
          },
          "metadata": {
            "tags": []
          },
          "execution_count": 126
        }
      ]
    },
    {
      "cell_type": "code",
      "metadata": {
        "id": "y2Hq8mocTPDE",
        "colab_type": "code",
        "colab": {
          "base_uri": "https://localhost:8080/",
          "height": 377
        },
        "outputId": "9bd50116-2013-457b-a50d-050bb5419448"
      },
      "source": [
        "tweet_df = pd.read_csv(tweet_csvs[0])\n",
        "tweet_df.head(5)"
      ],
      "execution_count": null,
      "outputs": [
        {
          "output_type": "execute_result",
          "data": {
            "text/html": [
              "<div>\n",
              "<style scoped>\n",
              "    .dataframe tbody tr th:only-of-type {\n",
              "        vertical-align: middle;\n",
              "    }\n",
              "\n",
              "    .dataframe tbody tr th {\n",
              "        vertical-align: top;\n",
              "    }\n",
              "\n",
              "    .dataframe thead th {\n",
              "        text-align: right;\n",
              "    }\n",
              "</style>\n",
              "<table border=\"1\" class=\"dataframe\">\n",
              "  <thead>\n",
              "    <tr style=\"text-align: right;\">\n",
              "      <th></th>\n",
              "      <th>status_id</th>\n",
              "      <th>user_id</th>\n",
              "      <th>created_at</th>\n",
              "      <th>screen_name</th>\n",
              "      <th>text</th>\n",
              "      <th>source</th>\n",
              "      <th>reply_to_status_id</th>\n",
              "      <th>reply_to_user_id</th>\n",
              "      <th>reply_to_screen_name</th>\n",
              "      <th>is_quote</th>\n",
              "      <th>is_retweet</th>\n",
              "      <th>favourites_count</th>\n",
              "      <th>retweet_count</th>\n",
              "      <th>country_code</th>\n",
              "      <th>place_full_name</th>\n",
              "      <th>place_type</th>\n",
              "      <th>followers_count</th>\n",
              "      <th>friends_count</th>\n",
              "      <th>account_lang</th>\n",
              "      <th>account_created_at</th>\n",
              "      <th>verified</th>\n",
              "      <th>lang</th>\n",
              "    </tr>\n",
              "  </thead>\n",
              "  <tbody>\n",
              "    <tr>\n",
              "      <th>0</th>\n",
              "      <td>1235160526780416001</td>\n",
              "      <td>1163436067904618496</td>\n",
              "      <td>2020-03-04T11:09:52Z</td>\n",
              "      <td>Nanank08000089</td>\n",
              "      <td>#CoronaVirusIndonesia \\n#CoronaBukaBorokRezim ...</td>\n",
              "      <td>Twitter for Android</td>\n",
              "      <td>NaN</td>\n",
              "      <td>NaN</td>\n",
              "      <td>NaN</td>\n",
              "      <td>False</td>\n",
              "      <td>False</td>\n",
              "      <td>797</td>\n",
              "      <td>0</td>\n",
              "      <td>NaN</td>\n",
              "      <td>NaN</td>\n",
              "      <td>NaN</td>\n",
              "      <td>21</td>\n",
              "      <td>142</td>\n",
              "      <td>NaN</td>\n",
              "      <td>2019-08-19T13:02:45Z</td>\n",
              "      <td>False</td>\n",
              "      <td>und</td>\n",
              "    </tr>\n",
              "    <tr>\n",
              "      <th>1</th>\n",
              "      <td>1235160526780416001</td>\n",
              "      <td>1163436067904618496</td>\n",
              "      <td>2020-03-04T11:09:52Z</td>\n",
              "      <td>Nanank08000089</td>\n",
              "      <td>#CoronaVirusIndonesia \\n#CoronaBukaBorokRezim ...</td>\n",
              "      <td>Twitter for Android</td>\n",
              "      <td>NaN</td>\n",
              "      <td>NaN</td>\n",
              "      <td>NaN</td>\n",
              "      <td>False</td>\n",
              "      <td>False</td>\n",
              "      <td>797</td>\n",
              "      <td>0</td>\n",
              "      <td>NaN</td>\n",
              "      <td>NaN</td>\n",
              "      <td>NaN</td>\n",
              "      <td>21</td>\n",
              "      <td>142</td>\n",
              "      <td>NaN</td>\n",
              "      <td>2019-08-19T13:02:45Z</td>\n",
              "      <td>False</td>\n",
              "      <td>und</td>\n",
              "    </tr>\n",
              "    <tr>\n",
              "      <th>2</th>\n",
              "      <td>1235160546451873797</td>\n",
              "      <td>2255210942</td>\n",
              "      <td>2020-03-04T11:09:57Z</td>\n",
              "      <td>David_Mulroney</td>\n",
              "      <td>China’s wildlife trade via @SCMPgraphics  http...</td>\n",
              "      <td>Twitter for iPad</td>\n",
              "      <td>NaN</td>\n",
              "      <td>NaN</td>\n",
              "      <td>NaN</td>\n",
              "      <td>False</td>\n",
              "      <td>False</td>\n",
              "      <td>1697</td>\n",
              "      <td>2</td>\n",
              "      <td>NaN</td>\n",
              "      <td>NaN</td>\n",
              "      <td>NaN</td>\n",
              "      <td>5666</td>\n",
              "      <td>2796</td>\n",
              "      <td>NaN</td>\n",
              "      <td>2013-12-20T16:14:18Z</td>\n",
              "      <td>False</td>\n",
              "      <td>en</td>\n",
              "    </tr>\n",
              "    <tr>\n",
              "      <th>3</th>\n",
              "      <td>1235160597475602432</td>\n",
              "      <td>366491737</td>\n",
              "      <td>2020-03-04T11:10:09Z</td>\n",
              "      <td>MarykeSchoonen</td>\n",
              "      <td>Proof that the media such as @CNN is unnecessa...</td>\n",
              "      <td>Twitter for iPhone</td>\n",
              "      <td>NaN</td>\n",
              "      <td>NaN</td>\n",
              "      <td>NaN</td>\n",
              "      <td>False</td>\n",
              "      <td>False</td>\n",
              "      <td>833</td>\n",
              "      <td>0</td>\n",
              "      <td>NaN</td>\n",
              "      <td>NaN</td>\n",
              "      <td>NaN</td>\n",
              "      <td>41</td>\n",
              "      <td>94</td>\n",
              "      <td>NaN</td>\n",
              "      <td>2011-09-02T08:22:14Z</td>\n",
              "      <td>False</td>\n",
              "      <td>en</td>\n",
              "    </tr>\n",
              "    <tr>\n",
              "      <th>4</th>\n",
              "      <td>1235160647614291968</td>\n",
              "      <td>61557732</td>\n",
              "      <td>2020-03-04T11:10:21Z</td>\n",
              "      <td>Arjit_Garg</td>\n",
              "      <td>Indians are a shitty breed of humans. With the...</td>\n",
              "      <td>Twitter for Android</td>\n",
              "      <td>NaN</td>\n",
              "      <td>NaN</td>\n",
              "      <td>NaN</td>\n",
              "      <td>False</td>\n",
              "      <td>False</td>\n",
              "      <td>1921</td>\n",
              "      <td>0</td>\n",
              "      <td>IN</td>\n",
              "      <td>Greater Noida, India</td>\n",
              "      <td>city</td>\n",
              "      <td>486</td>\n",
              "      <td>50</td>\n",
              "      <td>NaN</td>\n",
              "      <td>2009-07-30T18:18:25Z</td>\n",
              "      <td>False</td>\n",
              "      <td>en</td>\n",
              "    </tr>\n",
              "  </tbody>\n",
              "</table>\n",
              "</div>"
            ],
            "text/plain": [
              "             status_id              user_id  ... verified lang\n",
              "0  1235160526780416001  1163436067904618496  ...    False  und\n",
              "1  1235160526780416001  1163436067904618496  ...    False  und\n",
              "2  1235160546451873797           2255210942  ...    False   en\n",
              "3  1235160597475602432            366491737  ...    False   en\n",
              "4  1235160647614291968             61557732  ...    False   en\n",
              "\n",
              "[5 rows x 22 columns]"
            ]
          },
          "metadata": {
            "tags": []
          },
          "execution_count": 29
        }
      ]
    },
    {
      "cell_type": "code",
      "metadata": {
        "id": "1Kisy1KRCWLh",
        "colab_type": "code",
        "colab": {
          "base_uri": "https://localhost:8080/",
          "height": 17,
          "referenced_widgets": [
            "cdd6730a52914bff9538dfb781cafcc8",
            "56560361cad1482296a642b671ee4e96",
            "ab01394659e149f0985ab733d6248310"
          ]
        },
        "outputId": "032b1f3e-765b-4964-9f52-58a2d253103b"
      },
      "source": [
        "%%spark \n",
        "hashtag_csv = 'Hashtags.CSV'\n",
        "countries_csv = 'Countries.CSV'\n",
        "tweet_csvs = ['2020-03-00 Coronavirus Tweets (pre 2020-03-12).CSV',\n",
        " '2020-03-12 Coronavirus Tweets.CSV',\n",
        " '2020-03-13 Coronavirus Tweets.CSV',\n",
        " '2020-03-14 Coronavirus Tweets.CSV',\n",
        " '2020-03-15 Coronavirus Tweets.CSV',\n",
        " '2020-03-16 Coronavirus Tweets.CSV',\n",
        " '2020-03-17 Coronavirus Tweets.CSV',\n",
        " '2020-03-18 Coronavirus Tweets.CSV',\n",
        " '2020-03-19 Coronavirus Tweets.CSV',\n",
        " '2020-03-20 Coronavirus Tweets.CSV',\n",
        " '2020-03-21 Coronavirus Tweets.CSV',\n",
        " '2020-03-22 Coronavirus Tweets.CSV',\n",
        " '2020-03-23 Coronavirus Tweets.CSV',\n",
        " '2020-03-24 Coronavirus Tweets.CSV',\n",
        " '2020-03-25 Coronavirus Tweets.CSV',\n",
        " '2020-03-26 Coronavirus Tweets.CSV',\n",
        " '2020-03-27 Coronavirus Tweets.CSV',\n",
        " '2020-03-28 Coronavirus Tweets.CSV']\n"
      ],
      "execution_count": null,
      "outputs": [
        {
          "output_type": "display_data",
          "data": {
            "application/vnd.jupyter.widget-view+json": {
              "model_id": "cdd6730a52914bff9538dfb781cafcc8",
              "version_minor": 0,
              "version_major": 2
            },
            "text/plain": [
              "FloatProgress(value=0.0, bar_style='info', description='Progress:', layout=Layout(height='25px', width='50%'),…"
            ]
          },
          "metadata": {
            "tags": []
          }
        }
      ]
    },
    {
      "cell_type": "code",
      "metadata": {
        "id": "hu_8lDF0jF_d",
        "colab_type": "code",
        "colab": {
          "base_uri": "https://localhost:8080/",
          "height": 17,
          "referenced_widgets": [
            "91ca4363fdb34ac6ba2edf374208cfc0",
            "2829efce79af41aea9d6642e3cd678b7",
            "82fdad47d73345c798864207e841844b"
          ]
        },
        "outputId": "69e3d3a1-8c59-411c-f835-f799577e1795"
      },
      "source": [
        "%%spark\n",
        "\n",
        "from pyspark.sql.types import *\n",
        "\n",
        "tweet_schema = StructType(\n",
        "    [\n",
        "     StructField(\"status_id\", StringType(), nullable = True), \n",
        "     StructField(\"user_id\", StringType(), nullable = True), \n",
        "     StructField(\"created_at\", StringType(), nullable = True ), \n",
        "     StructField(\"screen_name\", StringType(), nullable = True), \n",
        "     StructField(\"text\", StringType(), nullable = True), \n",
        "     StructField(\"source\", StringType(), nullable = True), \n",
        "     StructField(\"reply_to_status_id\", StringType(), nullable = True), \n",
        "     StructField(\"reply_to_user_id\",StringType(), nullable = True), \n",
        "     StructField(\"reply_to_screen_name\", StringType(), nullable = True), \n",
        "     StructField(\"is_quote\", StringType(), nullable = True),\n",
        "     StructField(\"is_retweet\", StringType(), nullable = True), \n",
        "     StructField(\"favourites_count\", StringType(), nullable = True), \n",
        "     StructField(\"retweet_count\", StringType(), nullable = True), \n",
        "     StructField(\"country_code\", StringType(), nullable = True), \n",
        "     StructField(\"place_full_name\", StringType(), nullable = True), \n",
        "     StructField(\"place_type\", StringType(), nullable = True),\n",
        "     StructField(\"followers_count\", StringType(), nullable = True), \n",
        "     StructField(\"friends_count\", StringType(), nullable = True), \n",
        "     StructField(\"account_lang\", StringType(), nullable = True), \n",
        "     StructField(\"account_created_at\", StringType(), nullable = True ),\n",
        "     StructField(\"verified\", StringType(), nullable = True), \n",
        "     StructField(\"lang\", StringType(), nullable = True), \n",
        "    ]\n",
        ")"
      ],
      "execution_count": null,
      "outputs": [
        {
          "output_type": "display_data",
          "data": {
            "application/vnd.jupyter.widget-view+json": {
              "model_id": "91ca4363fdb34ac6ba2edf374208cfc0",
              "version_minor": 0,
              "version_major": 2
            },
            "text/plain": [
              "FloatProgress(value=0.0, bar_style='info', description='Progress:', layout=Layout(height='25px', width='50%'),…"
            ]
          },
          "metadata": {
            "tags": []
          }
        }
      ]
    },
    {
      "cell_type": "code",
      "metadata": {
        "id": "ycSGC1mAUwrr",
        "colab_type": "code",
        "colab": {
          "base_uri": "https://localhost:8080/",
          "height": 408,
          "referenced_widgets": [
            "cf18c1fd93ce468590d04504903d62ab",
            "2be91dc3aa00462294b7c60ffbb11a62",
            "025cf586c86246a2a5f348b55a63c5b6"
          ]
        },
        "outputId": "2369477a-ee42-4f22-a2b0-f2847069ef68"
      },
      "source": [
        "%%spark \n",
        "import pandas as pd\n",
        "bucket_path = \"s3://cis545finalprojectdata/\" \n",
        "path = bucket_path + tweet_csvs[0]\n",
        "df = spark.read.format(\"csv\").option(\"header\", \"true\").option(\"multiline\",\"true\").load(path)\n",
        "df.printSchema()"
      ],
      "execution_count": null,
      "outputs": [
        {
          "output_type": "display_data",
          "data": {
            "application/vnd.jupyter.widget-view+json": {
              "model_id": "cf18c1fd93ce468590d04504903d62ab",
              "version_minor": 0,
              "version_major": 2
            },
            "text/plain": [
              "FloatProgress(value=0.0, bar_style='info', description='Progress:', layout=Layout(height='25px', width='50%'),…"
            ]
          },
          "metadata": {
            "tags": []
          }
        },
        {
          "output_type": "stream",
          "text": [
            "root\n",
            " |-- status_id: string (nullable = true)\n",
            " |-- user_id: string (nullable = true)\n",
            " |-- created_at: string (nullable = true)\n",
            " |-- screen_name: string (nullable = true)\n",
            " |-- text: string (nullable = true)\n",
            " |-- source: string (nullable = true)\n",
            " |-- reply_to_status_id: string (nullable = true)\n",
            " |-- reply_to_user_id: string (nullable = true)\n",
            " |-- reply_to_screen_name: string (nullable = true)\n",
            " |-- is_quote: string (nullable = true)\n",
            " |-- is_retweet: string (nullable = true)\n",
            " |-- favourites_count: string (nullable = true)\n",
            " |-- retweet_count: string (nullable = true)\n",
            " |-- country_code: string (nullable = true)\n",
            " |-- place_full_name: string (nullable = true)\n",
            " |-- place_type: string (nullable = true)\n",
            " |-- followers_count: string (nullable = true)\n",
            " |-- friends_count: string (nullable = true)\n",
            " |-- account_lang: string (nullable = true)\n",
            " |-- account_created_at: string (nullable = true)\n",
            " |-- verified: string (nullable = true)\n",
            " |-- lang: string (nullable = true)"
          ],
          "name": "stdout"
        }
      ]
    },
    {
      "cell_type": "code",
      "metadata": {
        "id": "CXu-7vXhSRm3",
        "colab_type": "code",
        "colab": {
          "base_uri": "https://localhost:8080/",
          "height": 207,
          "referenced_widgets": [
            "79a6ac44f4734b31947d4d1bba51b8d7",
            "7d4810fdf2c54c70a0785ce44c662333",
            "fa147ab7ced0457ebbd0b56ecb7432cf"
          ]
        },
        "outputId": "bd9b0a44-c812-46df-e258-f31d6fedbada"
      },
      "source": [
        "%%spark \n",
        "df.show(5)"
      ],
      "execution_count": null,
      "outputs": [
        {
          "output_type": "display_data",
          "data": {
            "application/vnd.jupyter.widget-view+json": {
              "model_id": "79a6ac44f4734b31947d4d1bba51b8d7",
              "version_minor": 0,
              "version_major": 2
            },
            "text/plain": [
              "FloatProgress(value=0.0, bar_style='info', description='Progress:', layout=Layout(height='25px', width='50%'),…"
            ]
          },
          "metadata": {
            "tags": []
          }
        },
        {
          "output_type": "stream",
          "text": [
            "+-------------------+-------------------+--------------------+--------------+--------------------+-------------------+------------------+----------------+--------------------+--------+----------+----------------+-------------+------------+--------------------+----------+---------------+-------------+------------+--------------------+--------+----+\n",
            "|          status_id|            user_id|          created_at|   screen_name|                text|             source|reply_to_status_id|reply_to_user_id|reply_to_screen_name|is_quote|is_retweet|favourites_count|retweet_count|country_code|     place_full_name|place_type|followers_count|friends_count|account_lang|  account_created_at|verified|lang|\n",
            "+-------------------+-------------------+--------------------+--------------+--------------------+-------------------+------------------+----------------+--------------------+--------+----------+----------------+-------------+------------+--------------------+----------+---------------+-------------+------------+--------------------+--------+----+\n",
            "|1235160526780416001|1163436067904618496|2020-03-04T11:09:52Z|Nanank08000089|#CoronaVirusIndon...|Twitter for Android|              null|            null|                null|   FALSE|     FALSE|             797|            0|        null|                null|      null|             21|          142|        null|2019-08-19T13:02:45Z|   FALSE| und|\n",
            "|1235160526780416001|1163436067904618496|2020-03-04T11:09:52Z|Nanank08000089|#CoronaVirusIndon...|Twitter for Android|              null|            null|                null|   FALSE|     FALSE|             797|            0|        null|                null|      null|             21|          142|        null|2019-08-19T13:02:45Z|   FALSE| und|\n",
            "|1235160546451873797|         2255210942|2020-03-04T11:09:57Z|David_Mulroney|China’s wildlife ...|   Twitter for iPad|              null|            null|                null|   FALSE|     FALSE|            1697|            2|        null|                null|      null|           5666|         2796|        null|2013-12-20T16:14:18Z|   FALSE|  en|\n",
            "|1235160597475602432|          366491737|2020-03-04T11:10:09Z|MarykeSchoonen|Proof that the me...| Twitter for iPhone|              null|            null|                null|   FALSE|     FALSE|             833|            0|        null|                null|      null|             41|           94|        null|2011-09-02T08:22:14Z|   FALSE|  en|\n",
            "|1235160647614291968|           61557732|2020-03-04T11:10:21Z|    Arjit_Garg|Indians are a shi...|Twitter for Android|              null|            null|                null|   FALSE|     FALSE|            1921|            0|          IN|Greater Noida, India|      city|            486|           50|        null|2009-07-30T18:18:25Z|   FALSE|  en|\n",
            "+-------------------+-------------------+--------------------+--------------+--------------------+-------------------+------------------+----------------+--------------------+--------+----------+----------------+-------------+------------+--------------------+----------+---------------+-------------+------------+--------------------+--------+----+\n",
            "only showing top 5 rows"
          ],
          "name": "stdout"
        }
      ]
    },
    {
      "cell_type": "code",
      "metadata": {
        "id": "tpPAT45hjVpX",
        "colab_type": "code",
        "colab": {
          "base_uri": "https://localhost:8080/",
          "height": 629,
          "referenced_widgets": [
            "41f78a62d3a24bcb9fff7a1ad179903d",
            "89362f4ed8a2400dbf695905081dc87d",
            "c3534ee3c2fa4572b7de5aebf1993e00"
          ]
        },
        "outputId": "5704b673-c77a-4b95-99b4-b9e15c3d7648"
      },
      "source": [
        "%%spark \n",
        "import pandas as pd\n",
        "from pyspark.sql import SQLContext\n",
        "sc = spark.sparkContext\n",
        "\n",
        "tweet_sdf = sqlContext.createDataFrame(sc.emptyRDD(), StructType([]))\n",
        "tweet_counts = []\n",
        "num_tweets = 0\n",
        "bucket_path = \"s3://cis545finalprojectdata/\" \n",
        "for file_path in tweet_csvs:\n",
        "  path = bucket_path + file_path\n",
        "  sdf = spark.read.format(\"csv\").option(\"header\", \"true\").option(\"multiline\",\"true\").load(path)\n",
        "  num = sdf.count()\n",
        "  num_tweets += num\n",
        "  tweet_counts.append(num)\n",
        "  if tweet_sdf.count() == 0:\n",
        "    tweet_sdf = sdf\n",
        "  else:\n",
        "    tweet_sdf = tweet_sdf.unionAll(sdf)"
      ],
      "execution_count": null,
      "outputs": [
        {
          "output_type": "display_data",
          "data": {
            "application/vnd.jupyter.widget-view+json": {
              "model_id": "41f78a62d3a24bcb9fff7a1ad179903d",
              "version_minor": 0,
              "version_major": 2
            },
            "text/plain": [
              "FloatProgress(value=0.0, bar_style='info', description='Progress:', layout=Layout(height='25px', width='50%'),…"
            ]
          },
          "metadata": {
            "tags": []
          }
        },
        {
          "output_type": "stream",
          "text": [
            "setting up first tweet_sdf\n",
            "appending sdf\n",
            "size is now 1073988\n",
            "appending sdf\n",
            "size is now 2112620\n",
            "appending sdf\n",
            "size is now 2599860\n",
            "appending sdf\n",
            "size is now 3086161\n",
            "appending sdf\n",
            "size is now 3727167\n",
            "appending sdf\n",
            "size is now 4602033\n",
            "appending sdf\n",
            "size is now 5257941\n",
            "appending sdf\n",
            "size is now 6155844\n",
            "appending sdf\n",
            "size is now 6952863\n",
            "appending sdf\n",
            "size is now 7879343\n",
            "appending sdf\n",
            "size is now 8614578\n",
            "appending sdf\n",
            "size is now 9306255\n",
            "appending sdf\n",
            "size is now 9959540\n",
            "appending sdf\n",
            "size is now 10680138\n",
            "appending sdf\n",
            "size is now 11609436\n",
            "appending sdf\n",
            "size is now 12308102\n",
            "appending sdf\n",
            "size is now 12921416\n",
            "Total number of tweets: 12921416"
          ],
          "name": "stdout"
        }
      ]
    },
    {
      "cell_type": "code",
      "metadata": {
        "id": "6QTfP9spnHEy",
        "colab_type": "code",
        "colab": {
          "base_uri": "https://localhost:8080/",
          "height": 190,
          "referenced_widgets": [
            "36bbedb753344473a4ad12f6f91bc665",
            "42c5c6af846445c986721e5e19f10392",
            "7645d851abd2484db681bc43053be8a4"
          ]
        },
        "outputId": "9beac531-6011-483c-b0da-4d33897975d4"
      },
      "source": [
        "%%spark \n",
        "tweet_sdf.show(4)"
      ],
      "execution_count": null,
      "outputs": [
        {
          "output_type": "display_data",
          "data": {
            "application/vnd.jupyter.widget-view+json": {
              "model_id": "36bbedb753344473a4ad12f6f91bc665",
              "version_minor": 0,
              "version_major": 2
            },
            "text/plain": [
              "FloatProgress(value=0.0, bar_style='info', description='Progress:', layout=Layout(height='25px', width='50%'),…"
            ]
          },
          "metadata": {
            "tags": []
          }
        },
        {
          "output_type": "stream",
          "text": [
            "+-------------------+-------------------+--------------------+--------------+--------------------+-------------------+------------------+----------------+--------------------+--------+----------+----------------+-------------+------------+---------------+----------+---------------+-------------+------------+--------------------+--------+----+\n",
            "|          status_id|            user_id|          created_at|   screen_name|                text|             source|reply_to_status_id|reply_to_user_id|reply_to_screen_name|is_quote|is_retweet|favourites_count|retweet_count|country_code|place_full_name|place_type|followers_count|friends_count|account_lang|  account_created_at|verified|lang|\n",
            "+-------------------+-------------------+--------------------+--------------+--------------------+-------------------+------------------+----------------+--------------------+--------+----------+----------------+-------------+------------+---------------+----------+---------------+-------------+------------+--------------------+--------+----+\n",
            "|1235160526780416001|1163436067904618496|2020-03-04T11:09:52Z|Nanank08000089|#CoronaVirusIndon...|Twitter for Android|              null|            null|                null|   FALSE|     FALSE|             797|            0|        null|           null|      null|             21|          142|        null|2019-08-19T13:02:45Z|   FALSE| und|\n",
            "|1235160526780416001|1163436067904618496|2020-03-04T11:09:52Z|Nanank08000089|#CoronaVirusIndon...|Twitter for Android|              null|            null|                null|   FALSE|     FALSE|             797|            0|        null|           null|      null|             21|          142|        null|2019-08-19T13:02:45Z|   FALSE| und|\n",
            "|1235160546451873797|         2255210942|2020-03-04T11:09:57Z|David_Mulroney|China’s wildlife ...|   Twitter for iPad|              null|            null|                null|   FALSE|     FALSE|            1697|            2|        null|           null|      null|           5666|         2796|        null|2013-12-20T16:14:18Z|   FALSE|  en|\n",
            "|1235160597475602432|          366491737|2020-03-04T11:10:09Z|MarykeSchoonen|Proof that the me...| Twitter for iPhone|              null|            null|                null|   FALSE|     FALSE|             833|            0|        null|           null|      null|             41|           94|        null|2011-09-02T08:22:14Z|   FALSE|  en|\n",
            "+-------------------+-------------------+--------------------+--------------+--------------------+-------------------+------------------+----------------+--------------------+--------+----------+----------------+-------------+------------+---------------+----------+---------------+-------------+------------+--------------------+--------+----+\n",
            "only showing top 4 rows"
          ],
          "name": "stdout"
        }
      ]
    },
    {
      "cell_type": "code",
      "metadata": {
        "id": "FWlvq7Smt04f",
        "colab_type": "code",
        "colab": {
          "base_uri": "https://localhost:8080/",
          "height": 54,
          "referenced_widgets": [
            "3c87b84bf5ee4f8fa00cff58625fc40e",
            "ba1c59cfc90c411095cc379ab76560a6",
            "c90301f1cbf845aaae5a17dc1c9a45c3"
          ]
        },
        "outputId": "bc695ecb-942d-4331-f986-33b245ab86b1"
      },
      "source": [
        "%%spark\n",
        "tweet_sdf.schema"
      ],
      "execution_count": null,
      "outputs": [
        {
          "output_type": "display_data",
          "data": {
            "application/vnd.jupyter.widget-view+json": {
              "model_id": "3c87b84bf5ee4f8fa00cff58625fc40e",
              "version_minor": 0,
              "version_major": 2
            },
            "text/plain": [
              "FloatProgress(value=0.0, bar_style='info', description='Progress:', layout=Layout(height='25px', width='50%'),…"
            ]
          },
          "metadata": {
            "tags": []
          }
        },
        {
          "output_type": "stream",
          "text": [
            "StructType(List(StructField(status_id,StringType,true),StructField(user_id,StringType,true),StructField(created_at,StringType,true),StructField(screen_name,StringType,true),StructField(text,StringType,true),StructField(source,StringType,true),StructField(reply_to_status_id,StringType,true),StructField(reply_to_user_id,StringType,true),StructField(reply_to_screen_name,StringType,true),StructField(is_quote,StringType,true),StructField(is_retweet,StringType,true),StructField(favourites_count,StringType,true),StructField(retweet_count,StringType,true),StructField(country_code,StringType,true),StructField(place_full_name,StringType,true),StructField(place_type,StringType,true),StructField(followers_count,StringType,true),StructField(friends_count,StringType,true),StructField(account_lang,StringType,true),StructField(account_created_at,StringType,true),StructField(verified,StringType,true),StructField(lang,StringType,true)))"
          ],
          "name": "stdout"
        }
      ]
    },
    {
      "cell_type": "code",
      "metadata": {
        "id": "rw5DyxGapPGp",
        "colab_type": "code",
        "colab": {
          "base_uri": "https://localhost:8080/",
          "height": 17,
          "referenced_widgets": [
            "b61b0072083a4f1f856d5c8548dfc11e",
            "257c9721e9864cc89dd76df153950242",
            "17fb170853d8406e88d674658998d856"
          ]
        },
        "outputId": "74ae656e-a29c-40d2-ce81-2c5865ce945c"
      },
      "source": [
        "%%spark\n",
        "path = bucket_path + \"tweets.json\"\n",
        "tweet_sdf.write.json(path)"
      ],
      "execution_count": null,
      "outputs": [
        {
          "output_type": "display_data",
          "data": {
            "application/vnd.jupyter.widget-view+json": {
              "model_id": "b61b0072083a4f1f856d5c8548dfc11e",
              "version_minor": 0,
              "version_major": 2
            },
            "text/plain": [
              "FloatProgress(value=0.0, bar_style='info', description='Progress:', layout=Layout(height='25px', width='50%'),…"
            ]
          },
          "metadata": {
            "tags": []
          }
        }
      ]
    },
    {
      "cell_type": "markdown",
      "metadata": {
        "id": "hX_ZESnjFKl6",
        "colab_type": "text"
      },
      "source": [
        "## Loading Combined Data\n",
        "Now that all of the large CSV files have been concatenated into one JSON file in an S3 bucket, we can simply create a Spark dataframe by loading from this JSON file. "
      ]
    },
    {
      "cell_type": "code",
      "metadata": {
        "id": "BUDtPRxMu0gT",
        "colab_type": "code",
        "colab": {
          "base_uri": "https://localhost:8080/",
          "referenced_widgets": [
            "7d274553efed47bbbdb5a98f8b777989",
            "8ee63194ecff4792a55bc0acb4de2d4a",
            "c4e8310b2a06470a81ae942603a33109"
          ]
        },
        "outputId": "8919b974-000c-445b-e1f5-04592539e438"
      },
      "source": [
        "%%spark \n",
        "path = \"s3://cis545finalprojectdata/tweets.json\" \n",
        "raw_tweet_sdf = spark.read.json(path)"
      ],
      "execution_count": null,
      "outputs": [
        {
          "output_type": "display_data",
          "data": {
            "application/vnd.jupyter.widget-view+json": {
              "model_id": "7d274553efed47bbbdb5a98f8b777989",
              "version_minor": 0,
              "version_major": 2
            },
            "text/plain": [
              "FloatProgress(value=0.0, bar_style='info', description='Progress:', layout=Layout(height='25px', width='50%'),…"
            ]
          },
          "metadata": {
            "tags": []
          }
        }
      ]
    },
    {
      "cell_type": "code",
      "metadata": {
        "id": "4Ps-Oc5qvDBz",
        "colab_type": "code",
        "colab": {
          "base_uri": "https://localhost:8080/",
          "height": 173,
          "referenced_widgets": [
            "414be2a914bb4f94870fe4c98de4b947",
            "558b4f49f785491582a7b938aa22c10a",
            "9adc8fe77bff403e82385c207504d661"
          ]
        },
        "outputId": "9b8d059f-9a8d-4415-e3c2-1ab423a3738d"
      },
      "source": [
        "%%spark\n",
        "raw_tweet_sdf.show(3)"
      ],
      "execution_count": null,
      "outputs": [
        {
          "output_type": "display_data",
          "data": {
            "application/vnd.jupyter.widget-view+json": {
              "model_id": "414be2a914bb4f94870fe4c98de4b947",
              "version_minor": 0,
              "version_major": 2
            },
            "text/plain": [
              "FloatProgress(value=0.0, bar_style='info', description='Progress:', layout=Layout(height='25px', width='50%'),…"
            ]
          },
          "metadata": {
            "tags": []
          }
        },
        {
          "output_type": "stream",
          "text": [
            "+--------------------+------------+------------+--------------------+----------------+---------------+-------------+--------+----------+----+---------------+----------+--------------------+------------------+----------------+-------------+--------------+-------------------+-------------------+--------------------+-------------------+--------+\n",
            "|  account_created_at|account_lang|country_code|          created_at|favourites_count|followers_count|friends_count|is_quote|is_retweet|lang|place_full_name|place_type|reply_to_screen_name|reply_to_status_id|reply_to_user_id|retweet_count|   screen_name|             source|          status_id|                text|            user_id|verified|\n",
            "+--------------------+------------+------------+--------------------+----------------+---------------+-------------+--------+----------+----+---------------+----------+--------------------+------------------+----------------+-------------+--------------+-------------------+-------------------+--------------------+-------------------+--------+\n",
            "|2019-08-19T13:02:45Z|        null|        null|2020-03-04T11:09:52Z|             797|             21|          142|   FALSE|     FALSE| und|           null|      null|                null|              null|            null|            0|Nanank08000089|Twitter for Android|1235160526780416001|#CoronaVirusIndon...|1163436067904618496|   FALSE|\n",
            "|2019-08-19T13:02:45Z|        null|        null|2020-03-04T11:09:52Z|             797|             21|          142|   FALSE|     FALSE| und|           null|      null|                null|              null|            null|            0|Nanank08000089|Twitter for Android|1235160526780416001|#CoronaVirusIndon...|1163436067904618496|   FALSE|\n",
            "|2013-12-20T16:14:18Z|        null|        null|2020-03-04T11:09:57Z|            1697|           5666|         2796|   FALSE|     FALSE|  en|           null|      null|                null|              null|            null|            2|David_Mulroney|   Twitter for iPad|1235160546451873797|China’s wildlife ...|         2255210942|   FALSE|\n",
            "+--------------------+------------+------------+--------------------+----------------+---------------+-------------+--------+----------+----+---------------+----------+--------------------+------------------+----------------+-------------+--------------+-------------------+-------------------+--------------------+-------------------+--------+\n",
            "only showing top 3 rows"
          ],
          "name": "stdout"
        }
      ]
    },
    {
      "cell_type": "code",
      "metadata": {
        "id": "mL7P0dWFvcSo",
        "colab_type": "code",
        "colab": {
          "base_uri": "https://localhost:8080/",
          "height": 34,
          "referenced_widgets": [
            "e9a6bed0216d44058c88de9c0029a7a4",
            "b4995a4afc7349298a67890c78f0691c",
            "fe9c97c3ba8e43f0bde0a66010599b3b"
          ]
        },
        "outputId": "723f365e-22a6-436f-b71b-fe535c15a3b1"
      },
      "source": [
        "%%spark \n",
        "raw_tweet_sdf.count()"
      ],
      "execution_count": null,
      "outputs": [
        {
          "output_type": "display_data",
          "data": {
            "application/vnd.jupyter.widget-view+json": {
              "model_id": "e9a6bed0216d44058c88de9c0029a7a4",
              "version_minor": 0,
              "version_major": 2
            },
            "text/plain": [
              "FloatProgress(value=0.0, bar_style='info', description='Progress:', layout=Layout(height='25px', width='50%'),…"
            ]
          },
          "metadata": {
            "tags": []
          }
        },
        {
          "output_type": "stream",
          "text": [
            "12921416"
          ],
          "name": "stdout"
        }
      ]
    },
    {
      "cell_type": "code",
      "metadata": {
        "id": "0AMeka1KHhsQ",
        "colab_type": "code",
        "colab": {
          "base_uri": "https://localhost:8080/",
          "referenced_widgets": [
            "d00063c56d514693a4b828ea3d1da8be",
            "ca492b0241c04885ac36442a5f2f38ed",
            "9b87234a5df14f568f3306a50f503251"
          ]
        },
        "outputId": "fbfca9b0-5018-4895-915a-e5b333562cb1"
      },
      "source": [
        "%%spark \n",
        "from pyspark.sql.types import *\n",
        "import pandas as pd\n",
        "import matplotlib.pyplot as plt\n",
        "raw_tweet_sdf.createOrReplaceTempView(\"raw_tweets\")\n",
        "bucket_path = \"s3://cis545finalprojectdata/\" "
      ],
      "execution_count": null,
      "outputs": [
        {
          "output_type": "display_data",
          "data": {
            "application/vnd.jupyter.widget-view+json": {
              "model_id": "d00063c56d514693a4b828ea3d1da8be",
              "version_minor": 0,
              "version_major": 2
            },
            "text/plain": [
              "FloatProgress(value=0.0, bar_style='info', description='Progress:', layout=Layout(height='25px', width='50%'),…"
            ]
          },
          "metadata": {
            "tags": []
          }
        }
      ]
    },
    {
      "cell_type": "markdown",
      "metadata": {
        "id": "hmRpdTulAVE-",
        "colab_type": "text"
      },
      "source": [
        "#Exploratory Data Analysis\n",
        "We now have a single dataframe containing data for **over 12 million tweets!** This is a lot to take in, so here, we will attempt to extract and analyze larger trends and characteristics of the data at hand to get a better idea of what we're working with. \n"
      ]
    },
    {
      "cell_type": "markdown",
      "metadata": {
        "id": "U6X0u7wff8Ka",
        "colab_type": "text"
      },
      "source": [
        "##Basic Characteristics\n",
        "First, let's analyze the distributions of some basic features of the tweets such as the number of favorites, retweets, characters, mentions, and hashtags. Since these values can all take on a wide range of values, we can take their logs to reduce the range and thus also make less susceptible to instability issues when loading it into the models.\n",
        "\n",
        "However, once we take the logs of the data, they become decimal numbers and there is no easy way to aggregate the data into a smaller dataframe. This is neccessary because we need to convert our data to a Pandas dataframe in order to plot the data and visualize it. Thus, we will take a random selection of around 4 million tweets and do our analysis from there. "
      ]
    },
    {
      "cell_type": "code",
      "metadata": {
        "id": "yT2LvcPWy242",
        "colab_type": "code",
        "colab": {
          "base_uri": "https://localhost:8080/",
          "referenced_widgets": [
            "b3b6b8a06b7849478f164740fd5edd3e",
            "6026716628924f079537ea100472c887",
            "1ac7092ba720482188065cae05a10803"
          ]
        },
        "outputId": "529421c5-443d-486d-eb7e-a1653c134ddc"
      },
      "source": [
        "%%spark \n",
        "import numpy as np\n",
        "\n",
        "#randomly sampling 30% of data and converting to correct data types for log calcs\n",
        "subset_tweets_sdf = raw_tweet_sdf.sample(False, .3, 1)\n",
        "\n",
        "subset_tweets_sdf['favourites_count'].cast(IntegerType())\n",
        "subset_tweets_sdf['followers_count'].cast(IntegerType())\n",
        "subset_tweets_sdf['friends_count'].cast(IntegerType())\n",
        "subset_tweets_sdf['retweet_count'].cast(IntegerType())\n",
        "subset_tweets_sdf.createOrReplaceTempView(\"subset_tweets_sdf\")\n",
        "subset_tweets_sdf.show(5)"
      ],
      "execution_count": null,
      "outputs": [
        {
          "output_type": "display_data",
          "data": {
            "application/vnd.jupyter.widget-view+json": {
              "model_id": "b3b6b8a06b7849478f164740fd5edd3e",
              "version_minor": 0,
              "version_major": 2
            },
            "text/plain": [
              "FloatProgress(value=0.0, bar_style='info', description='Progress:', layout=Layout(height='25px', width='50%'),…"
            ]
          },
          "metadata": {
            "tags": []
          }
        },
        {
          "output_type": "stream",
          "text": [
            "+--------------------+------------+------------+--------------------+----------------+---------------+-------------+--------+----------+----+---------------+----------+--------------------+------------------+----------------+-------------+--------------+-------------------+-------------------+--------------------+-------------------+--------+\n",
            "|  account_created_at|account_lang|country_code|          created_at|favourites_count|followers_count|friends_count|is_quote|is_retweet|lang|place_full_name|place_type|reply_to_screen_name|reply_to_status_id|reply_to_user_id|retweet_count|   screen_name|             source|          status_id|                text|            user_id|verified|\n",
            "+--------------------+------------+------------+--------------------+----------------+---------------+-------------+--------+----------+----+---------------+----------+--------------------+------------------+----------------+-------------+--------------+-------------------+-------------------+--------------------+-------------------+--------+\n",
            "|2019-08-19T13:02:45Z|        null|        null|2020-03-04T11:09:52Z|             797|             21|          142|   FALSE|     FALSE| und|           null|      null|                null|              null|            null|            0|Nanank08000089|Twitter for Android|1235160526780416001|#CoronaVirusIndon...|1163436067904618496|   FALSE|\n",
            "|2013-12-20T16:14:18Z|        null|        null|2020-03-04T11:09:57Z|            1697|           5666|         2796|   FALSE|     FALSE|  en|           null|      null|                null|              null|            null|            2|David_Mulroney|   Twitter for iPad|1235160546451873797|China’s wildlife ...|         2255210942|   FALSE|\n",
            "|2011-09-02T08:22:14Z|        null|        null|2020-03-04T11:10:09Z|             833|             41|           94|   FALSE|     FALSE|  en|           null|      null|                null|              null|            null|            0|MarykeSchoonen| Twitter for iPhone|1235160597475602432|Proof that the me...|          366491737|   FALSE|\n",
            "|2017-01-12T10:15:55Z|        null|        null|2020-03-04T11:11:39Z|            8074|          35093|          602|   FALSE|     FALSE|  en|           null|      null|                null|              null|            null|            4|  daily_thetha| Twitter for iPhone|1235160976682553348|Today’s insightfu...| 819488066251423744|   FALSE|\n",
            "|2014-04-28T18:46:09Z|        null|        null|2020-03-04T11:13:22Z|             245|           4570|         1178|   FALSE|     FALSE|  en|           null|      null|                null|              null|            null|            0|     1stnewsng|     Hootsuite Inc.|1235161408062488577|#Dangote donates ...|         2468131248|   FALSE|\n",
            "+--------------------+------------+------------+--------------------+----------------+---------------+-------------+--------+----------+----+---------------+----------+--------------------+------------------+----------------+-------------+--------------+-------------------+-------------------+--------------------+-------------------+--------+\n",
            "only showing top 5 rows"
          ],
          "name": "stdout"
        }
      ]
    },
    {
      "cell_type": "code",
      "metadata": {
        "id": "is6uxdOVizTL",
        "colab_type": "code",
        "colab": {
          "base_uri": "https://localhost:8080/",
          "height": 187,
          "referenced_widgets": [
            "5af67fb0ccbb41ddab4814103b113df3",
            "b9adbc5966ea4b13aab8ada28e54ff8f",
            "990bf7041ff1477a81685ee5e54eb676"
          ]
        },
        "outputId": "53e60e5d-950b-4668-ef9a-4f0d94b67c14"
      },
      "source": [
        "%%spark\n",
        "#get retweet data\n",
        "q = \"\"\"\n",
        "SELECT retweet_count, favourites_count\n",
        "FROM subset_tweets_sdf\n",
        "WHERE retweet_count IS NOT NULL \n",
        "\"\"\"\n",
        "rt_favs_sdf = spark.sql(q)\n",
        "rt_favs_sdf.show(5)\n",
        "rt_favs_df = rt_favs_sdf.toPandas()"
      ],
      "execution_count": null,
      "outputs": [
        {
          "output_type": "display_data",
          "data": {
            "application/vnd.jupyter.widget-view+json": {
              "model_id": "5af67fb0ccbb41ddab4814103b113df3",
              "version_minor": 0,
              "version_major": 2
            },
            "text/plain": [
              "FloatProgress(value=0.0, bar_style='info', description='Progress:', layout=Layout(height='25px', width='50%'),…"
            ]
          },
          "metadata": {
            "tags": []
          }
        },
        {
          "output_type": "stream",
          "text": [
            "+-------------+----------------+\n",
            "|retweet_count|favourites_count|\n",
            "+-------------+----------------+\n",
            "|            0|             797|\n",
            "|            2|            1697|\n",
            "|            0|             833|\n",
            "|            4|            8074|\n",
            "|            0|             245|\n",
            "+-------------+----------------+\n",
            "only showing top 5 rows"
          ],
          "name": "stdout"
        }
      ]
    },
    {
      "cell_type": "code",
      "metadata": {
        "id": "G9hcJiKCQWAw",
        "colab_type": "code",
        "colab": {
          "base_uri": "https://localhost:8080/",
          "height": 17,
          "referenced_widgets": [
            "b1883c671b4545b0aa2fcfdb999b0730",
            "bed1f9476e41447b9403dc4d6e8d0f6a",
            "dcc9fc4e38544ce3b1d2e1be6ff5d2c6"
          ]
        },
        "outputId": "5481752f-b1fe-48b0-b5e1-4454171866f7"
      },
      "source": [
        "%%spark \n",
        "import numpy as np\n",
        "\n",
        "#plot a scatterplot\n",
        "rt_favs_df['retweet_count'] = rt_favs_df['retweet_count'].astype(int)\n",
        "rt_favs_df['retweet_count'] = pd.to_numeric(rt_favs_df['retweet_count'], errors='coerce')\n",
        "rt_favs_df['retweet_count'] = rt_favs_df['retweet_count'].dropna()\n",
        "rt_favs_df['retweet_log'] = np.log(rt_favs_df['retweet_count'])\n",
        "rt_favs_df['retweet_log'] = rt_favs_df['retweet_log'].dropna()\n"
      ],
      "execution_count": null,
      "outputs": [
        {
          "output_type": "display_data",
          "data": {
            "application/vnd.jupyter.widget-view+json": {
              "model_id": "b1883c671b4545b0aa2fcfdb999b0730",
              "version_minor": 0,
              "version_major": 2
            },
            "text/plain": [
              "FloatProgress(value=0.0, bar_style='info', description='Progress:', layout=Layout(height='25px', width='50%'),…"
            ]
          },
          "metadata": {
            "tags": []
          }
        }
      ]
    },
    {
      "cell_type": "code",
      "metadata": {
        "id": "_L7ovrRtBLlc",
        "colab_type": "code",
        "colab": {
          "base_uri": "https://localhost:8080/",
          "height": 238,
          "referenced_widgets": [
            "dac37f22e05e42bf8091260f69365ab1",
            "42d47092396e4dd4a2922e936e083088",
            "70e48431daa44dea96e27cda1e21ba4c"
          ]
        },
        "outputId": "b0f40bc4-518c-4ebe-c9bd-590d3c1ae97f"
      },
      "source": [
        "%%spark \n",
        "\n",
        "n_bins= 10\n",
        "plt.hist(rt_favs_df['retweet_log'], n_bins, histtype='step', stacked=True, fill = True)\n",
        "plt.title('Histogram of Retweets')\n",
        "plt.ylabel('Number of Tweets')\n",
        "plt.xlabel('Retweets')\n",
        "\n",
        "%matplot plt"
      ],
      "execution_count": null,
      "outputs": [
        {
          "output_type": "display_data",
          "data": {
            "application/vnd.jupyter.widget-view+json": {
              "model_id": "dac37f22e05e42bf8091260f69365ab1",
              "version_minor": 0,
              "version_major": 2
            },
            "text/plain": [
              "FloatProgress(value=0.0, bar_style='info', description='Progress:', layout=Layout(height='25px', width='50%'),…"
            ]
          },
          "metadata": {
            "tags": []
          }
        },
        {
          "output_type": "stream",
          "text": [
            "An error was encountered:\n",
            "range parameter must be finite.\n",
            "Traceback (most recent call last):\n",
            "  File \"/usr/local/lib64/python3.6/site-packages/matplotlib/pyplot.py\", line 2610, in hist\n",
            "    if data is not None else {}), **kwargs)\n",
            "  File \"/usr/local/lib64/python3.6/site-packages/matplotlib/__init__.py\", line 1565, in inner\n",
            "    return func(ax, *map(sanitize_sequence, args), **kwargs)\n",
            "  File \"/usr/local/lib64/python3.6/site-packages/matplotlib/axes/_axes.py\", line 6649, in hist\n",
            "    m, bins = np.histogram(x[i], bins, weights=w[i], **hist_kwargs)\n",
            "  File \"/usr/local/lib64/python3.6/site-packages/numpy/lib/function_base.py\", line 670, in histogram\n",
            "    'range parameter must be finite.')\n",
            "ValueError: range parameter must be finite.\n",
            "\n"
          ],
          "name": "stderr"
        }
      ]
    },
    {
      "cell_type": "markdown",
      "metadata": {
        "id": "UDcbrdRRBiR6",
        "colab_type": "text"
      },
      "source": [
        "###Hashtags\n",
        "Now, let's try to see what the distribution of hashtags is like in our data. Note that most posts have 0 hastags, so that will definitely skew our distribution. "
      ]
    },
    {
      "cell_type": "code",
      "metadata": {
        "id": "V3fYtyu1gvzd",
        "colab_type": "code",
        "colab": {
          "base_uri": "https://localhost:8080/",
          "height": 187,
          "referenced_widgets": [
            "594a0df91d454562931a875488e5840d",
            "9e749bf1c11e4f98bd923f5a6bad2602",
            "7edf0789d91444e084bfaf0e1ae8d9e7"
          ]
        },
        "outputId": "fd6ed89e-c515-46d8-823c-857f72b78cc9"
      },
      "source": [
        "%%spark \n",
        "#get number of hashtags\n",
        "import re \n",
        "\n",
        "def get_num_hashtags(text): \n",
        "  tags = re.findall(\"[#]\\w+\", text)\n",
        "  return len(tags)\n",
        "\n",
        "spark.udf.register(\"GET_NUM_HASHTAGS\", get_num_hashtags, IntegerType())\n",
        "q = \"\"\"\n",
        "SELECT GET_NUM_HASHTAGS(text) as num_hashtags, favourites_count\n",
        "FROM subset_tweets_sdf\n",
        "WHERE text IS NOT NULL AND favourites_count IS NOT NULL\n",
        "\"\"\"\n",
        "tags_favs_sdf = spark.sql(q)\n",
        "tags_favs_sdf.show(5)\n",
        "tags_favs_sdf.createOrReplaceTempView(\"tags_favs_sdf\")\n",
        "tags_favs_df = tags_favs_sdf.toPandas()"
      ],
      "execution_count": null,
      "outputs": [
        {
          "output_type": "display_data",
          "data": {
            "application/vnd.jupyter.widget-view+json": {
              "model_id": "594a0df91d454562931a875488e5840d",
              "version_minor": 0,
              "version_major": 2
            },
            "text/plain": [
              "FloatProgress(value=0.0, bar_style='info', description='Progress:', layout=Layout(height='25px', width='50%'),…"
            ]
          },
          "metadata": {
            "tags": []
          }
        },
        {
          "output_type": "stream",
          "text": [
            "+------------+----------------+\n",
            "|num_hashtags|favourites_count|\n",
            "+------------+----------------+\n",
            "|           4|             797|\n",
            "|           8|            1697|\n",
            "|           5|             833|\n",
            "|           2|            8074|\n",
            "|           6|             245|\n",
            "+------------+----------------+\n",
            "only showing top 5 rows"
          ],
          "name": "stdout"
        }
      ]
    },
    {
      "cell_type": "code",
      "metadata": {
        "id": "ufg0jg8eCb50",
        "colab_type": "code",
        "colab": {
          "base_uri": "https://localhost:8080/",
          "height": 51,
          "referenced_widgets": [
            "3bc08abfda06410aab8b18925bf2b515",
            "889ea4b2e209498c82157fb256940dc0",
            "cef9c80bf9ff4c46b393c32c7093d4a1"
          ]
        },
        "outputId": "75c6a385-6613-4105-d059-1376b891d44a"
      },
      "source": [
        "%%spark \n",
        "#scale data with log\n",
        "tags_favs_df['hashtags_log'] = np.log(tags_favs_df['num_hashtags'])"
      ],
      "execution_count": null,
      "outputs": [
        {
          "output_type": "display_data",
          "data": {
            "application/vnd.jupyter.widget-view+json": {
              "model_id": "3bc08abfda06410aab8b18925bf2b515",
              "version_minor": 0,
              "version_major": 2
            },
            "text/plain": [
              "FloatProgress(value=0.0, bar_style='info', description='Progress:', layout=Layout(height='25px', width='50%'),…"
            ]
          },
          "metadata": {
            "tags": []
          }
        },
        {
          "output_type": "stream",
          "text": [
            "/usr/local/lib64/python3.6/site-packages/pandas/core/series.py:679: RuntimeWarning: divide by zero encountered in log\n",
            "  result = getattr(ufunc, method)(*inputs, **kwargs)"
          ],
          "name": "stdout"
        }
      ]
    },
    {
      "cell_type": "code",
      "metadata": {
        "id": "dxQYQNoOCa5f",
        "colab_type": "code",
        "colab": {
          "base_uri": "https://localhost:8080/",
          "height": 34,
          "referenced_widgets": [
            "6c6de86b5e7f47d295e40b6b1639b026",
            "b77c1c73483e4fa682bdedde499ad8d1",
            "c420c98bae814d19bfeea768c4386e18"
          ]
        },
        "outputId": "1ecd20a6-ac26-4e64-cae8-d7aa398e7745"
      },
      "source": [
        "%%spark \n",
        "#plot line for hashtags vs av_fav_count\n",
        "plt.clf()\n",
        "plt.title(\"Hashtags vs Favorite Count\")\n",
        "plt.plot(tags_favs_df.hashtags_log, tags_favs_df.favourites_count, '.-')\n",
        "plt.xlabel('Number of Hashtags')\n",
        "plt.ylabel(\"Average Number of Favorites\")\n",
        "%matplot plt"
      ],
      "execution_count": null,
      "outputs": [
        {
          "output_type": "display_data",
          "data": {
            "application/vnd.jupyter.widget-view+json": {
              "model_id": "6c6de86b5e7f47d295e40b6b1639b026",
              "version_minor": 0,
              "version_major": 2
            },
            "text/plain": [
              "FloatProgress(value=0.0, bar_style='info', description='Progress:', layout=Layout(height='25px', width='50%'),…"
            ]
          },
          "metadata": {
            "tags": []
          }
        },
        {
          "output_type": "stream",
          "text": [
            "Text(0, 0.5, 'Average Number of Favorites')"
          ],
          "name": "stdout"
        }
      ]
    },
    {
      "cell_type": "code",
      "metadata": {
        "id": "P06Pn8IFbJXW",
        "colab_type": "code",
        "colab": {}
      },
      "source": [
        "%%spark \n",
        "#plot histogram? "
      ],
      "execution_count": null,
      "outputs": []
    },
    {
      "cell_type": "markdown",
      "metadata": {
        "id": "fRmBe7HkKAH1",
        "colab_type": "text"
      },
      "source": [
        "###Mentions\n",
        "Now, let's look at distribution of the number of mentions over the tweets. Note that once again, most tweets have 0 mentions so this will skew the distribution. "
      ]
    },
    {
      "cell_type": "code",
      "metadata": {
        "id": "DvaZHEOPiMmT",
        "colab_type": "code",
        "colab": {
          "base_uri": "https://localhost:8080/",
          "height": 187,
          "referenced_widgets": [
            "7e4180ba58574353b0ae6232152ecef1",
            "e4c356110c544dc78250d188554e2934",
            "40c650d4ab0740b0bbaff7726cf96eb1"
          ]
        },
        "outputId": "5e8f1fcc-94fa-46b0-ae2f-f4acdde57fd9"
      },
      "source": [
        "%%spark \n",
        "#get number of mentions\n",
        "\n",
        "def get_num_mentions(text): \n",
        "  mentions = re.findall(\"[@]\\w+\", text)\n",
        "  return len(mentions)\n",
        "\n",
        "spark.udf.register(\"GET_NUM_MENTIONS\", get_num_mentions, IntegerType())\n",
        "q = \"\"\"\n",
        "SELECT GET_NUM_MENTIONS(text) as num_mentions, favourites_count\n",
        "FROM subset_tweets_sdf\n",
        "WHERE text IS NOT NULL\n",
        "\"\"\"\n",
        "mentions_favs_sdf = spark.sql(q)\n",
        "mentions_favs_sdf.show(5)\n",
        "# path = bucket_path + \"mentions_and_favs.json\"\n",
        "# mentions_favs_sdf.write.json(path)"
      ],
      "execution_count": null,
      "outputs": [
        {
          "output_type": "display_data",
          "data": {
            "application/vnd.jupyter.widget-view+json": {
              "model_id": "7e4180ba58574353b0ae6232152ecef1",
              "version_minor": 0,
              "version_major": 2
            },
            "text/plain": [
              "FloatProgress(value=0.0, bar_style='info', description='Progress:', layout=Layout(height='25px', width='50%'),…"
            ]
          },
          "metadata": {
            "tags": []
          }
        },
        {
          "output_type": "stream",
          "text": [
            "+------------+----------------+\n",
            "|num_mentions|favourites_count|\n",
            "+------------+----------------+\n",
            "|           0|             797|\n",
            "|           0|             797|\n",
            "|           1|            1697|\n",
            "|           1|             833|\n",
            "|           0|            1921|\n",
            "+------------+----------------+\n",
            "only showing top 5 rows"
          ],
          "name": "stdout"
        }
      ]
    },
    {
      "cell_type": "markdown",
      "metadata": {
        "id": "g9c0wbygKWQE",
        "colab_type": "text"
      },
      "source": [
        "###Length\n",
        "Now, let's look at how many characters these tweets will have. There isn't much insight into this field, so it will be interesting to see what the result is. "
      ]
    },
    {
      "cell_type": "code",
      "metadata": {
        "id": "Lix4y_fHifOB",
        "colab_type": "code",
        "colab": {
          "base_uri": "https://localhost:8080/",
          "height": 187,
          "referenced_widgets": [
            "58e14a8cca8746bbbe7c8ac0828715d0",
            "c425eba019f44a2db5bef009b086df14",
            "b7a47d811bcd4681b87bf7e501d2aa69"
          ]
        },
        "outputId": "f2738be7-f74d-481d-fbec-37bd7f24eb05"
      },
      "source": [
        "%%spark \n",
        "#get number of characters in actual tweet\n",
        "def clean_text(text): \n",
        "  text = re.sub(r'@[A-Za-z0-]+', '', text) # remove @mentions\n",
        "  text = re.sub(r'RT[\\s]+', '', text) # remove RT from end of retweets\n",
        "  text = re.sub(r'https?:\\/\\/\\S+', '', text) # remove hyperlinks\n",
        "  return text\n",
        "\n",
        "def get_num_chars(text):\n",
        "  cleaned = clean_text(text)\n",
        "  return len(cleaned)\n",
        "\n",
        "spark.udf.register(\"GET_NUM_CHARS\", get_num_chars, IntegerType())\n",
        "q = \"\"\"\n",
        "SELECT GET_NUM_CHARS(text) as length, favourites_count\n",
        "FROM subset_tweets_sdf\n",
        "WHERE text IS NOT NULL\n",
        "\"\"\"\n",
        "lengths_favs_sdf = spark.sql(q)\n",
        "lengths_favs_sdf.show(5)\n",
        "lenghts_favs_df = lengths_favs_sdf.toPandas()"
      ],
      "execution_count": null,
      "outputs": [
        {
          "output_type": "display_data",
          "data": {
            "application/vnd.jupyter.widget-view+json": {
              "model_id": "58e14a8cca8746bbbe7c8ac0828715d0",
              "version_minor": 0,
              "version_major": 2
            },
            "text/plain": [
              "FloatProgress(value=0.0, bar_style='info', description='Progress:', layout=Layout(height='25px', width='50%'),…"
            ]
          },
          "metadata": {
            "tags": []
          }
        },
        {
          "output_type": "stream",
          "text": [
            "+------+----------------+\n",
            "|length|favourites_count|\n",
            "+------+----------------+\n",
            "|    87|             797|\n",
            "|    87|             797|\n",
            "|   125|            1697|\n",
            "|   237|             833|\n",
            "|   195|            1921|\n",
            "+------+----------------+\n",
            "only showing top 5 rows"
          ],
          "name": "stdout"
        }
      ]
    },
    {
      "cell_type": "markdown",
      "metadata": {
        "id": "nthoMQkZf8Sg",
        "colab_type": "text"
      },
      "source": [
        "\n",
        "##When did people tweet? \n",
        "The tweets are from March 2020, but let's try to see how the tweets are distributed across the Month. Did the hype die down, or rise during this period? Note that since here we have a clear aggreagation function, there is no reason to downsample the data. "
      ]
    },
    {
      "cell_type": "code",
      "metadata": {
        "id": "X1Vp0dXzIKSy",
        "colab_type": "code",
        "colab": {
          "base_uri": "https://localhost:8080/",
          "height": 442,
          "referenced_widgets": [
            "f54edf03c1414f24b122c7a19df42aec",
            "a5404d1564854b8b8219917ed8a5d797",
            "9e1621c19b98478f87cee36f277b22da"
          ]
        },
        "outputId": "1ccc635c-7ef0-4d94-e97f-3958e51f06dc"
      },
      "source": [
        "%%spark\n",
        "\n",
        "q = \"\"\"\n",
        "SELECT EXTRACT(DAY FROM TO_DATE(created_at)) as day_posted, COUNT(*) AS num_tweets\n",
        "FROM raw_tweets\n",
        "WHERE created_at IS NOT NULL AND EXTRACT(MONTH FROM TO_DATE(created_at)) != 0\n",
        "GROUP BY day_posted\n",
        "ORDER BY day_posted\n",
        "\"\"\"\n",
        "days_sdf = spark.sql(q)\n",
        "days_sdf.show()\n",
        "days_sdf.createOrReplaceTempView('dates_sdf')\n",
        "# path = bucket_path + \"day_and_tweets.json\"\n",
        "# days_sdf.write.json(path)"
      ],
      "execution_count": null,
      "outputs": [
        {
          "output_type": "display_data",
          "data": {
            "application/vnd.jupyter.widget-view+json": {
              "model_id": "f54edf03c1414f24b122c7a19df42aec",
              "version_minor": 0,
              "version_major": 2
            },
            "text/plain": [
              "FloatProgress(value=0.0, bar_style='info', description='Progress:', layout=Layout(height='25px', width='50%'),…"
            ]
          },
          "metadata": {
            "tags": []
          }
        },
        {
          "output_type": "stream",
          "text": [
            "+----------+----------+\n",
            "|day_posted|num_tweets|\n",
            "+----------+----------+\n",
            "|         1|         1|\n",
            "|         4|      7680|\n",
            "|         5|     20142|\n",
            "|         6|     14703|\n",
            "|         7|     10183|\n",
            "|         8|     10620|\n",
            "|         9|     48478|\n",
            "|        10|    155730|\n",
            "|        11|    259247|\n",
            "|        12|    497295|\n",
            "|        13|    994594|\n",
            "|        14|    465448|\n",
            "|        15|    464384|\n",
            "|        16|    612466|\n",
            "|        17|    834932|\n",
            "|        18|    626191|\n",
            "|        19|    855831|\n",
            "|        20|    758603|\n",
            "|        21|    881939|\n",
            "|        22|    700921|\n",
            "+----------+----------+\n",
            "only showing top 20 rows"
          ],
          "name": "stdout"
        }
      ]
    },
    {
      "cell_type": "code",
      "metadata": {
        "id": "5eMNGAaANM7G",
        "colab_type": "code",
        "colab": {
          "base_uri": "https://localhost:8080/",
          "height": 497,
          "referenced_widgets": [
            "039c7f7645de4658b12ef747e67031f9",
            "0ded5e9bed23483e9d24596299746d68",
            "691e6797e28b4cb4ba26ff5ffa21d1a4"
          ]
        },
        "outputId": "6ba9a5ca-74d8-4c77-9a2c-a029f190ba0b"
      },
      "source": [
        "%%spark \n",
        "days_df = days_sdf.toPandas()\n",
        "plt.clf()\n",
        "plt.title(\"COVID Tweets during March 2020\")\n",
        "plt.plot(days_df.day_posted, days_df.num_tweets, '.-')\n",
        "plt.xlabel('Day in March 2020')\n",
        "plt.ylabel(\"Number of Tweets Posted (Hundreds of Thousands)\")\n",
        "%matplot plt"
      ],
      "execution_count": null,
      "outputs": [
        {
          "output_type": "display_data",
          "data": {
            "application/vnd.jupyter.widget-view+json": {
              "model_id": "039c7f7645de4658b12ef747e67031f9",
              "version_minor": 0,
              "version_major": 2
            },
            "text/plain": [
              "FloatProgress(value=0.0, bar_style='info', description='Progress:', layout=Layout(height='25px', width='50%'),…"
            ]
          },
          "metadata": {
            "tags": []
          }
        },
        {
          "output_type": "display_data",
          "data": {
            "image/png": "[encoded data removed]",
            "text/plain": [
              "<IPython.core.display.Image object>"
            ]
          },
          "metadata": {
            "tags": []
          }
        }
      ]
    },
    {
      "cell_type": "markdown",
      "metadata": {
        "id": "mNZgV0BYCEl6",
        "colab_type": "text"
      },
      "source": [
        "Below is a depiction the daily cases worldwide from the Johns Hopkins Coronavirus Resource Center. As we can see, cases started really picking up near March end, but in our dataset, tweets didn't continue to increase in accordance, instead peaking around March 13. This is probably because the tweets in our dataset are exhaustive, but it could also be because people started having other things to worry about over Twitter"
      ]
    },
    {
      "cell_type": "markdown",
      "metadata": {
        "id": "XFYOXXEdp2Pv",
        "colab_type": "text"
      },
      "source": [
        "![image.png](data:image/png;base64,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)"
      ]
    },
    {
      "cell_type": "markdown",
      "metadata": {
        "id": "K1QVZjLHL_Bv",
        "colab_type": "text"
      },
      "source": [
        "Let's also see if people post more often on certain days of the week \n"
      ]
    },
    {
      "cell_type": "code",
      "metadata": {
        "id": "CSLXCVgvMK7W",
        "colab_type": "code",
        "colab": {
          "base_uri": "https://localhost:8080/",
          "height": 204,
          "referenced_widgets": [
            "5f264372c7704e5aad6a954c78e71af6",
            "d5b6521a027b4d5b994f79dc0737dc5d",
            "dee631d06a8c4949be227009b8b49f79"
          ]
        },
        "outputId": "b097ec2e-7552-4267-abe6-5cb3d920c0c4"
      },
      "source": [
        "%%spark \n",
        "\n",
        "weekdays = { \n",
        "  1: 'Sunday', \n",
        "  2: 'Monday', \n",
        "  3: 'Tuesday', \n",
        "  4:'Wednesday', \n",
        "  5: 'Thursday', \n",
        "  6: 'Friday', \n",
        "  7: 'Saturday'\n",
        "}\n",
        "\n",
        "def get_weekday(date):\n",
        "  weekday = date % 7\n",
        "  if weekday == 0:\n",
        "    return 7\n",
        "  else:\n",
        "    return weekday\n",
        "spark.udf.register(\"GET_WEEKDAY\", get_weekday, IntegerType())\n",
        "\n",
        "q = \"\"\"\n",
        "SELECT GET_WEEKDAY(day_posted) as weekday_posted, SUM(num_tweets) as num_tweets\n",
        "FROM dates_sdf\n",
        "GROUP BY weekday_posted\n",
        "ORDER BY weekday_posted\n",
        "\"\"\"\n",
        "weekdays_sdf = spark.sql(q)\n",
        "weekdays_sdf.show()\n",
        "# path = bucket_path + \"weekday_and_tweets.json\"\n",
        "# lengths_favs_sdf.write.json(path)"
      ],
      "execution_count": null,
      "outputs": [
        {
          "output_type": "display_data",
          "data": {
            "application/vnd.jupyter.widget-view+json": {
              "model_id": "5f264372c7704e5aad6a954c78e71af6",
              "version_minor": 0,
              "version_major": 2
            },
            "text/plain": [
              "FloatProgress(value=0.0, bar_style='info', description='Progress:', layout=Layout(height='25px', width='50%'),…"
            ]
          },
          "metadata": {
            "tags": []
          }
        },
        {
          "output_type": "stream",
          "text": [
            "+--------------+----------+\n",
            "|weekday_posted|num_tweets|\n",
            "+--------------+----------+\n",
            "|             1|   1175926|\n",
            "|             2|   1319156|\n",
            "|             3|   1611513|\n",
            "|             4|   1577666|\n",
            "|             5|   2254524|\n",
            "|             6|   2432006|\n",
            "|             7|   1939615|\n",
            "+--------------+----------+"
          ],
          "name": "stdout"
        }
      ]
    },
    {
      "cell_type": "code",
      "metadata": {
        "id": "W-pIn7Jq3mNg",
        "colab_type": "code",
        "colab": {
          "base_uri": "https://localhost:8080/",
          "height": 204,
          "referenced_widgets": [
            "7dfb1dc20a5043a3b707a05aeb93ac0f",
            "0b8bc7c1b3aa4803a6dd5918e89c6455",
            "607b9bf601d141eba40663fef639c7dc"
          ]
        },
        "outputId": "3640bd43-da5f-45fc-fe44-5097bdc2c6ae"
      },
      "source": [
        "%%spark \n",
        "def get_weekday_name(num):\n",
        "  return weekdays[num]\n",
        "\n",
        "spark.udf.register(\"GET_WEEKDAY_NAME\", get_weekday_name, StringType())\n",
        "weekdays_sdf.createOrReplaceTempView(\"weekdays_sdf\")\n",
        "\n",
        "q = \"\"\"\n",
        "SELECT GET_WEEKDAY_NAME(weekday_posted) AS weekday, num_tweets\n",
        "FROM weekdays_sdf\n",
        "\"\"\"\n",
        "\n",
        "weekdays_sdf = spark.sql(q)\n",
        "weekdays_sdf.show()\n",
        "weekdays_df = weekdays_sdf.toPandas()\n"
      ],
      "execution_count": null,
      "outputs": [
        {
          "output_type": "display_data",
          "data": {
            "application/vnd.jupyter.widget-view+json": {
              "model_id": "7dfb1dc20a5043a3b707a05aeb93ac0f",
              "version_minor": 0,
              "version_major": 2
            },
            "text/plain": [
              "FloatProgress(value=0.0, bar_style='info', description='Progress:', layout=Layout(height='25px', width='50%'),…"
            ]
          },
          "metadata": {
            "tags": []
          }
        },
        {
          "output_type": "stream",
          "text": [
            "+---------+----------+\n",
            "|  weekday|num_tweets|\n",
            "+---------+----------+\n",
            "|   Sunday|   1175926|\n",
            "|   Monday|   1319156|\n",
            "|  Tuesday|   1611513|\n",
            "|Wednesday|   1577666|\n",
            "| Thursday|   2254524|\n",
            "|   Friday|   2432006|\n",
            "| Saturday|   1939615|\n",
            "+---------+----------+"
          ],
          "name": "stdout"
        }
      ]
    },
    {
      "cell_type": "code",
      "metadata": {
        "id": "zj-B9sxQ-a8I",
        "colab_type": "code",
        "colab": {
          "base_uri": "https://localhost:8080/",
          "height": 497,
          "referenced_widgets": [
            "28dba07877554b74a9e001bf9c9e8af8",
            "358ed57d126c446ea57f93656037162f",
            "3eef3d37ff8f49a2b7526198e8df23cc"
          ]
        },
        "outputId": "a9d66b3b-fcb3-447a-fa43-c827c483ea61"
      },
      "source": [
        "%%spark \n",
        "plt.clf()\n",
        "fig = plt.figure()\n",
        "ax = fig.add_axes([.2,.2,.7,.7])\n",
        "ax.bar(weekdays_df.weekday, weekdays_df.num_tweets)\n",
        "plt.ylabel('Number of Tweets (Millions)')\n",
        "plt.xlabel('Weekday')\n",
        "plt.xticks(rotation = 90)\n",
        "plt.title('Tweets per Weekday in March 2020')\n",
        "%matplot plt"
      ],
      "execution_count": null,
      "outputs": [
        {
          "output_type": "display_data",
          "data": {
            "application/vnd.jupyter.widget-view+json": {
              "model_id": "28dba07877554b74a9e001bf9c9e8af8",
              "version_minor": 0,
              "version_major": 2
            },
            "text/plain": [
              "FloatProgress(value=0.0, bar_style='info', description='Progress:', layout=Layout(height='25px', width='50%'),…"
            ]
          },
          "metadata": {
            "tags": []
          }
        },
        {
          "output_type": "display_data",
          "data": {
            "image/png": "[encoded data removed]",
            "text/plain": [
              "<IPython.core.display.Image object>"
            ]
          },
          "metadata": {
            "tags": []
          }
        }
      ]
    },
    {
      "cell_type": "markdown",
      "metadata": {
        "id": "LdN9bEJiPoqo",
        "colab_type": "text"
      },
      "source": [
        "We see that tweets rise up during the work week and decrease on the weekends. This could be due to the fact that people want to procrastinate from work and as they progress throughout the week, their stress builds, leading to more procrastination and tweeting. Or, it could be something entirely different. It would be fascinating to look at the overall number of tweets by day on Twitter and see how this distribution compares. "
      ]
    },
    {
      "cell_type": "markdown",
      "metadata": {
        "id": "1hsyDXgFCZtv",
        "colab_type": "text"
      },
      "source": [
        "##Where are people tweeting from? \n",
        "Another important fact to consider is not only when people are tweeting, but where they're tweeting from. The virus has affected different parts of the world, and let's see if this correlates to how many tweets are made from those places in the world. Note that our dataset doesn't have a valid country value for each tweet, so the total number of tweets below will be less than our 1.3 million. Furthermore, the tweet dataset only has country codes, so we will use a table that maps country codes to countries to make the data readable. Note that once again, we have a clear aggregation function so we will be able to use all of the data. "
      ]
    },
    {
      "cell_type": "code",
      "metadata": {
        "id": "kNFzT2gbVwbn",
        "colab_type": "code",
        "colab": {
          "base_uri": "https://localhost:8080/",
          "height": 170,
          "referenced_widgets": [
            "3013367d6d1142fc8d7de996ec4a3dd1",
            "c27bc7d8950b4b40b515d0a00df5eaeb",
            "a92cfb312a17412b9fcec5794c04bba1"
          ]
        },
        "outputId": "5587f06f-5495-45b2-bb0a-09676dae2ba4"
      },
      "source": [
        "%%spark \n",
        "countries_sdf = spark.read.format(\"csv\").option(\"header\", \"true\").load(\"s3://cis545finalprojectdata/Countries.CSV\")\n",
        "countries_sdf.show(4)\n",
        "countries_sdf.createOrReplaceTempView('countries_sdf')"
      ],
      "execution_count": null,
      "outputs": [
        {
          "output_type": "display_data",
          "data": {
            "application/vnd.jupyter.widget-view+json": {
              "model_id": "3013367d6d1142fc8d7de996ec4a3dd1",
              "version_minor": 0,
              "version_major": 2
            },
            "text/plain": [
              "FloatProgress(value=0.0, bar_style='info', description='Progress:', layout=Layout(height='25px', width='50%'),…"
            ]
          },
          "metadata": {
            "tags": []
          }
        },
        {
          "output_type": "stream",
          "text": [
            "+-------------+------------+\n",
            "|      country|country_code|\n",
            "+-------------+------------+\n",
            "|         null|        null|\n",
            "|  Afghanistan|          AF|\n",
            "|Aland Islands|          AX|\n",
            "|      Albania|          AL|\n",
            "+-------------+------------+\n",
            "only showing top 4 rows"
          ],
          "name": "stdout"
        }
      ]
    },
    {
      "cell_type": "markdown",
      "metadata": {
        "id": "KouGy1wdDSQ9",
        "colab_type": "text"
      },
      "source": [
        "### Worldwide\n",
        "Here, we see the top 10 countries in terms of COVID tweet output. Unsurprisingly, USA has the most, having a large population, large access to technology, and the highest number of cases at the time. However, the rest of the countries are interesting. The UK doesn't have the second most cases, but it could just have a population with greater access to technology. It could also be because of countries Kaggle was looking at  "
      ]
    },
    {
      "cell_type": "code",
      "metadata": {
        "id": "1lR3-37abC5k",
        "colab_type": "code",
        "colab": {
          "base_uri": "https://localhost:8080/",
          "height": 153,
          "referenced_widgets": [
            "ade8380c3bff496d938591be1ba25288",
            "785fc5bd70a44c89acdd7483f8dab7e3",
            "fb00c6a0c4384dd1ac2da21f5ea4d0d8"
          ]
        },
        "outputId": "c8c76678-ade4-481d-9051-b3d25450352f"
      },
      "source": [
        "%%spark\n",
        "q = \"\"\"\n",
        "SELECT country_code, COUNT(*) as num_tweets\n",
        "FROM raw_tweets\n",
        "WHERE country_code IS NOT NULL\n",
        "GROUP BY country_code\n",
        "ORDER BY num_tweets DESC\n",
        "\"\"\"\n",
        "sdf1 = spark.sql(q)\n",
        "sdf1.createOrReplaceTempView('sdf1')\n",
        "\n",
        "q2 = \"\"\"\n",
        "SELECT countries_sdf.country AS country, sdf1.num_tweets as num_tweets\n",
        "FROM sdf1\n",
        "JOIN countries_sdf\n",
        "ON sdf1.country_code == countries_sdf.country_code\n",
        "LIMIT 10\n",
        "\"\"\"\n",
        "country_to_tweets_sdf = spark.sql(q2)\n",
        "country_to_tweets_sdf.show(3)\n",
        "country_to_tweets_df = country_to_tweets_sdf.toPandas()\n",
        "# path = bucket_path + \"country_and_tweets.json\"\n",
        "# country_to_tweets_sdf.write.json(path)"
      ],
      "execution_count": null,
      "outputs": [
        {
          "output_type": "display_data",
          "data": {
            "application/vnd.jupyter.widget-view+json": {
              "model_id": "ade8380c3bff496d938591be1ba25288",
              "version_minor": 0,
              "version_major": 2
            },
            "text/plain": [
              "FloatProgress(value=0.0, bar_style='info', description='Progress:', layout=Layout(height='25px', width='50%'),…"
            ]
          },
          "metadata": {
            "tags": []
          }
        },
        {
          "output_type": "stream",
          "text": [
            "+-------------------+----------+\n",
            "|            country|num_tweets|\n",
            "+-------------------+----------+\n",
            "|            Ukraine|       240|\n",
            "|Republic of Croatia|       234|\n",
            "|            Namibia|       221|\n",
            "+-------------------+----------+\n",
            "only showing top 3 rows"
          ],
          "name": "stdout"
        }
      ]
    },
    {
      "cell_type": "code",
      "metadata": {
        "id": "oBZgPLR2_LLS",
        "colab_type": "code",
        "colab": {
          "base_uri": "https://localhost:8080/",
          "height": 497,
          "referenced_widgets": [
            "5a54a7b306ae489e8c60335a70d5685f",
            "51ac0801d01e4b27aa8655800b561681",
            "2efb179f3f7d4c90a4b9032bceb9c46a"
          ]
        },
        "outputId": "a4feced1-a7ff-49df-ee57-88cc47fa525a"
      },
      "source": [
        "%%spark \n",
        "plt.clf()\n",
        "fig = plt.figure()\n",
        "ax = fig.add_axes([.2,.4,.7,.5])\n",
        "ax.bar(country_to_tweets_df.country, country_to_tweets_df.num_tweets)\n",
        "plt.ylabel('Number of Tweets')\n",
        "plt.xlabel('Country')\n",
        "plt.xticks(rotation = 90)\n",
        "plt.title('Tweets by Country in March 2020')\n",
        "%matplot plt"
      ],
      "execution_count": null,
      "outputs": [
        {
          "output_type": "display_data",
          "data": {
            "application/vnd.jupyter.widget-view+json": {
              "model_id": "5a54a7b306ae489e8c60335a70d5685f",
              "version_minor": 0,
              "version_major": 2
            },
            "text/plain": [
              "FloatProgress(value=0.0, bar_style='info', description='Progress:', layout=Layout(height='25px', width='50%'),…"
            ]
          },
          "metadata": {
            "tags": []
          }
        },
        {
          "output_type": "display_data",
          "data": {
            "image/png": "[encoded data removed]",
            "text/plain": [
              "<IPython.core.display.Image object>"
            ]
          },
          "metadata": {
            "tags": []
          }
        }
      ]
    },
    {
      "cell_type": "markdown",
      "metadata": {
        "id": "txipisoUDpOH",
        "colab_type": "text"
      },
      "source": [
        "###Within the United States\n",
        "The USA is large and diverse, with the virus affecting different parts of the country at drastically varying magnitudes. Thus, it's also insightful to see how many tweets are being generated from each state in the USA and see how that correlates to the actual distribution of cases. This might not be fully accurate given that not all tweets have a \"place_full_name\" attribute which contains more specialized data about the tweets' geographic origin. Once again, the places with the number of highest tweets might just be because they have larger populations as opposed to the most COVID cases. "
      ]
    },
    {
      "cell_type": "code",
      "metadata": {
        "id": "9kzn2L7hlQt8",
        "colab_type": "code",
        "colab": {
          "base_uri": "https://localhost:8080/",
          "height": 17,
          "referenced_widgets": [
            "40b2308e295344e4a3006bc2b607390c",
            "1747f5c847754516b0efdf4fa904f150",
            "229fed5befc24e93acf0c028ac074beb"
          ]
        },
        "outputId": "f360618f-96a6-4202-bdd9-cd7f727d1c5c"
      },
      "source": [
        "%%spark \n",
        "states = {\n",
        "        'AK': 'Alaska',\n",
        "        'AL': 'Alabama',\n",
        "        'AR': 'Arkansas',\n",
        "        'AS': 'American Samoa',\n",
        "        'AZ': 'Arizona',\n",
        "        'CA': 'California',\n",
        "        'CO': 'Colorado',\n",
        "        'CT': 'Connecticut',\n",
        "        'DC': 'District of Columbia',\n",
        "        'DE': 'Delaware',\n",
        "        'FL': 'Florida',\n",
        "        'GA': 'Georgia',\n",
        "        'GU': 'Guam',\n",
        "        'HI': 'Hawaii',\n",
        "        'IA': 'Iowa',\n",
        "        'ID': 'Idaho',\n",
        "        'IL': 'Illinois',\n",
        "        'IN': 'Indiana',\n",
        "        'KS': 'Kansas',\n",
        "        'KY': 'Kentucky',\n",
        "        'LA': 'Louisiana',\n",
        "        'MA': 'Massachusetts',\n",
        "        'MD': 'Maryland',\n",
        "        'ME': 'Maine',\n",
        "        'MI': 'Michigan',\n",
        "        'MN': 'Minnesota',\n",
        "        'MO': 'Missouri',\n",
        "        'MP': 'Northern Mariana Islands',\n",
        "        'MS': 'Mississippi',\n",
        "        'MT': 'Montana',\n",
        "        'NA': 'National',\n",
        "        'NC': 'North Carolina',\n",
        "        'ND': 'North Dakota',\n",
        "        'NE': 'Nebraska',\n",
        "        'NH': 'New Hampshire',\n",
        "        'NJ': 'New Jersey',\n",
        "        'NM': 'New Mexico',\n",
        "        'NV': 'Nevada',\n",
        "        'NY': 'New York',\n",
        "        'OH': 'Ohio',\n",
        "        'OK': 'Oklahoma',\n",
        "        'OR': 'Oregon',\n",
        "        'PA': 'Pennsylvania',\n",
        "        'PR': 'Puerto Rico',\n",
        "        'RI': 'Rhode Island',\n",
        "        'SC': 'South Carolina',\n",
        "        'SD': 'South Dakota',\n",
        "        'TN': 'Tennessee',\n",
        "        'TX': 'Texas',\n",
        "        'UT': 'Utah',\n",
        "        'VA': 'Virginia',\n",
        "        'VI': 'Virgin Islands',\n",
        "        'VT': 'Vermont',\n",
        "        'WA': 'Washington',\n",
        "        'WI': 'Wisconsin',\n",
        "        'WV': 'West Virginia',\n",
        "        'WY': 'Wyoming'\n",
        "}"
      ],
      "execution_count": null,
      "outputs": [
        {
          "output_type": "display_data",
          "data": {
            "application/vnd.jupyter.widget-view+json": {
              "model_id": "40b2308e295344e4a3006bc2b607390c",
              "version_minor": 0,
              "version_major": 2
            },
            "text/plain": [
              "FloatProgress(value=0.0, bar_style='info', description='Progress:', layout=Layout(height='25px', width='50%'),…"
            ]
          },
          "metadata": {
            "tags": []
          }
        }
      ]
    },
    {
      "cell_type": "code",
      "metadata": {
        "id": "SySKx5bVkZxd",
        "colab_type": "code",
        "colab": {
          "base_uri": "https://localhost:8080/",
          "height": 255,
          "referenced_widgets": [
            "082d3c7fa7914165b0ffc1a05734ac36",
            "6ea713db8e214fc8a51101a0d0a73020",
            "6ace66738d8d44a48f1462a302aeb13e"
          ]
        },
        "outputId": "cc057348-06f9-40b6-ca7c-e35e93768930"
      },
      "source": [
        "%%spark \n",
        "from pyspark.sql.types import *\n",
        "\n",
        "def get_state(text): \n",
        "  regions = text.split(',')\n",
        "  if len(regions) == 1:\n",
        "    return \"NONE\"\n",
        "  first = regions[0].strip()\n",
        "  second = regions[1].strip()\n",
        "  if second in states:\n",
        "    return states[second]\n",
        "  elif second == \"USA\":\n",
        "    return first\n",
        "  else: \n",
        "    return \"NONE\"\n",
        "\n",
        "spark.udf.register(\"GET_STATE\", get_state, StringType())\n",
        "q = \"\"\"\n",
        "SELECT GET_STATE(place_full_name) as State, COUNT(*) as num_tweets\n",
        "FROM raw_tweets\n",
        "WHERE country_code == 'US' AND place_full_name IS NOT NULL \n",
        "AND GET_STATE(place_full_name) != 'NONE'\n",
        "GROUP BY State\n",
        "ORDER BY num_tweets DESC\n",
        "LIMIT 10 \n",
        "\"\"\"\n",
        "state_tweets_sdf = spark.sql(q)\n",
        "state_tweets_sdf.show()\n",
        "state_tweets_df = state_tweets_sdf.toPandas()"
      ],
      "execution_count": null,
      "outputs": [
        {
          "output_type": "display_data",
          "data": {
            "application/vnd.jupyter.widget-view+json": {
              "model_id": "082d3c7fa7914165b0ffc1a05734ac36",
              "version_minor": 0,
              "version_major": 2
            },
            "text/plain": [
              "FloatProgress(value=0.0, bar_style='info', description='Progress:', layout=Layout(height='25px', width='50%'),…"
            ]
          },
          "metadata": {
            "tags": []
          }
        },
        {
          "output_type": "stream",
          "text": [
            "+-------------+----------+\n",
            "|        State|num_tweets|\n",
            "+-------------+----------+\n",
            "|   California|     29013|\n",
            "|     New York|     19909|\n",
            "|      Florida|     16757|\n",
            "|        Texas|     15973|\n",
            "| Pennsylvania|      6581|\n",
            "|     Illinois|      6461|\n",
            "|         Ohio|      5762|\n",
            "|      Georgia|      5718|\n",
            "|Massachusetts|      5701|\n",
            "|   Washington|      5059|\n",
            "+-------------+----------+"
          ],
          "name": "stdout"
        }
      ]
    },
    {
      "cell_type": "code",
      "metadata": {
        "id": "M4MShBlNMEjr",
        "colab_type": "code",
        "colab": {
          "base_uri": "https://localhost:8080/",
          "height": 497,
          "referenced_widgets": [
            "7e3aa5cd68f140c8bad2965c87ac6890",
            "54e4bf758947403caff005c14d05201f",
            "348b70e00d0847afad25744df24e8fe3"
          ]
        },
        "outputId": "ae673532-f0a5-411d-a97f-99e6326f4779"
      },
      "source": [
        "%%spark \n",
        "#plot tweets by state\n",
        "plt.clf()\n",
        "fig = plt.figure()\n",
        "ax = fig.add_axes([.2,.4,.7,.5])\n",
        "ax.bar(state_tweets_df.State, state_tweets_df.num_tweets)\n",
        "plt.ylabel('Number of Tweets')\n",
        "plt.xlabel('State')\n",
        "plt.xticks(rotation = 90)\n",
        "plt.title('Tweets by State in March 2020')\n",
        "%matplot plt"
      ],
      "execution_count": null,
      "outputs": [
        {
          "output_type": "display_data",
          "data": {
            "application/vnd.jupyter.widget-view+json": {
              "model_id": "7e3aa5cd68f140c8bad2965c87ac6890",
              "version_minor": 0,
              "version_major": 2
            },
            "text/plain": [
              "FloatProgress(value=0.0, bar_style='info', description='Progress:', layout=Layout(height='25px', width='50%'),…"
            ]
          },
          "metadata": {
            "tags": []
          }
        },
        {
          "output_type": "display_data",
          "data": {
            "image/png": "[encoded data removed]",
            "text/plain": [
              "<IPython.core.display.Image object>"
            ]
          },
          "metadata": {
            "tags": []
          }
        }
      ]
    },
    {
      "cell_type": "markdown",
      "metadata": {
        "id": "ZZ5wG3ZndbIO",
        "colab_type": "text"
      },
      "source": [
        "##What are people tweeting?\n",
        "The pandemic is an event that has touched the lives of us all and has led to many different types of charged emotions. Using the python NLTK library (developed here at Penn!), we can analyze the sentiment of each of the tweets and look at the distribution. Note that a more positive index represents a more postive tweet, and similarly with negative index and a negative attitude. \n",
        "\n",
        "These computations did work but for some reason crashed. Evidence that it did at once work is in the Cleaning & Feature Engineering section under Word Vectorization where I left the outputs unchanged. "
      ]
    },
    {
      "cell_type": "markdown",
      "metadata": {
        "id": "0DQrMFmkPSvr",
        "colab_type": "text"
      },
      "source": [
        ""
      ]
    },
    {
      "cell_type": "code",
      "metadata": {
        "id": "crZ0sOHMd-n4",
        "colab_type": "code",
        "colab": {
          "base_uri": "https://localhost:8080/",
          "height": 460
        },
        "outputId": "8ecf3239-40d7-4bc6-ff47-37879e70d5d9"
      },
      "source": [
        "%%spark \n",
        "\n",
        "import nltk\n",
        "import re\n",
        "from nltk.sentiment.vader import SentimentIntensityAnalyzer\n",
        "\n",
        "def clean_text(text): \n",
        "  text = re.sub(r'@[A-Za-z0-]+', '', text) # remove @mentions\n",
        "  text = re.sub(r'RT[\\s]+', '', text) # remove RT from end of retweets\n",
        "  text = re.sub(r'https?:\\/\\/\\S+', '', text) # remove hyperlinks\n",
        "  return text\n",
        "\n",
        "def get_sentiment(text): \n",
        "  cleaned_text = clean_text(text)\n",
        "  score = SentimentIntensityAnalyzer().polarity_scores(cleaned_text)\n",
        "  return score['compound']\n",
        "\n",
        "spark.udf.register(\"GET_SENTIMENT\", get_sentiment, FloatType())\n",
        "\n",
        "q = \"\"\"\n",
        "SELECT GET_SENTIMENT(text) AS sentiment\n",
        "FROM subset_tweets_sdf\n",
        "WHERE text IS NOT NULL\n",
        "\"\"\"\n",
        "sentiments_sdf = spark.sql(q)\n",
        "sentiments_sdf.show(3)"
      ],
      "execution_count": null,
      "outputs": [
        {
          "output_type": "error",
          "ename": "KeyboardInterrupt",
          "evalue": "ignored",
          "traceback": [
            "\u001b[0;31m---------------------------------------------------------------------------\u001b[0m",
            "\u001b[0;31mTypeError\u001b[0m                                 Traceback (most recent call last)",
            "\u001b[0;32m/usr/local/lib/python3.6/dist-packages/urllib3/connectionpool.py\u001b[0m in \u001b[0;36m_make_request\u001b[0;34m(self, conn, method, url, timeout, chunked, **httplib_request_kw)\u001b[0m\n\u001b[1;32m    376\u001b[0m             \u001b[0;32mtry\u001b[0m\u001b[0;34m:\u001b[0m  \u001b[0;31m# Python 2.7, use buffering of HTTP responses\u001b[0m\u001b[0;34m\u001b[0m\u001b[0;34m\u001b[0m\u001b[0m\n\u001b[0;32m--> 377\u001b[0;31m                 \u001b[0mhttplib_response\u001b[0m \u001b[0;34m=\u001b[0m \u001b[0mconn\u001b[0m\u001b[0;34m.\u001b[0m\u001b[0mgetresponse\u001b[0m\u001b[0;34m(\u001b[0m\u001b[0mbuffering\u001b[0m\u001b[0;34m=\u001b[0m\u001b[0;32mTrue\u001b[0m\u001b[0;34m)\u001b[0m\u001b[0;34m\u001b[0m\u001b[0;34m\u001b[0m\u001b[0m\n\u001b[0m\u001b[1;32m    378\u001b[0m             \u001b[0;32mexcept\u001b[0m \u001b[0mTypeError\u001b[0m\u001b[0;34m:\u001b[0m  \u001b[0;31m# Python 3\u001b[0m\u001b[0;34m\u001b[0m\u001b[0;34m\u001b[0m\u001b[0m\n",
            "\u001b[0;31mTypeError\u001b[0m: getresponse() got an unexpected keyword argument 'buffering'",
            "\nDuring handling of the above exception, another exception occurred:\n",
            "\u001b[0;31mKeyboardInterrupt\u001b[0m                         Traceback (most recent call last)",
            "\u001b[0;32m<ipython-input-11-3619bb46595d>\u001b[0m in \u001b[0;36m<module>\u001b[0;34m()\u001b[0m\n\u001b[0;32m----> 1\u001b[0;31m \u001b[0mget_ipython\u001b[0m\u001b[0;34m(\u001b[0m\u001b[0;34m)\u001b[0m\u001b[0;34m.\u001b[0m\u001b[0mrun_cell_magic\u001b[0m\u001b[0;34m(\u001b[0m\u001b[0;34m'spark'\u001b[0m\u001b[0;34m,\u001b[0m \u001b[0;34m''\u001b[0m\u001b[0;34m,\u001b[0m \u001b[0;34m'\\nimport nltk\\nimport re\\nfrom nltk.sentiment.vader import SentimentIntensityAnalyzer\\n\\ndef clean_text(text): \\n  text = re.sub(r\\'@[A-Za-z0-]+\\', \\'\\', text) # remove @mentions\\n  text = re.sub(r\\'RT[\\\\s]+\\', \\'\\', text) # remove RT from end of retweets\\n  text = re.sub(r\\'https?:\\\\/\\\\/\\\\S+\\', \\'\\', text) # remove hyperlinks\\n  return text\\n\\ndef get_sentiment(text): \\n  cleaned_text = clean_text(text)\\n  score = SentimentIntensityAnalyzer().polarity_scores(cleaned_text)\\n  return score[\\'compound\\']\\n\\nspark.udf.register(\"GET_SENTIMENT\", get_sentiment, FloatType())\\n\\nq = \"\"\"\\nSELECT GET_SENTIMENT(text) AS sentiment\\nFROM raw_tweets \\nWHERE text IS NOT NULL\\n\"\"\"\\nsentiments_sdf = spark.sql(q)\\nsentiments_sdf.show(3)'\u001b[0m\u001b[0;34m)\u001b[0m\u001b[0;34m\u001b[0m\u001b[0;34m\u001b[0m\u001b[0m\n\u001b[0m",
            "\u001b[0;32m/usr/local/lib/python3.6/dist-packages/IPython/core/interactiveshell.py\u001b[0m in \u001b[0;36mrun_cell_magic\u001b[0;34m(self, magic_name, line, cell)\u001b[0m\n\u001b[1;32m   2115\u001b[0m             \u001b[0mmagic_arg_s\u001b[0m \u001b[0;34m=\u001b[0m \u001b[0mself\u001b[0m\u001b[0;34m.\u001b[0m\u001b[0mvar_expand\u001b[0m\u001b[0;34m(\u001b[0m\u001b[0mline\u001b[0m\u001b[0;34m,\u001b[0m \u001b[0mstack_depth\u001b[0m\u001b[0;34m)\u001b[0m\u001b[0;34m\u001b[0m\u001b[0;34m\u001b[0m\u001b[0m\n\u001b[1;32m   2116\u001b[0m             \u001b[0;32mwith\u001b[0m \u001b[0mself\u001b[0m\u001b[0;34m.\u001b[0m\u001b[0mbuiltin_trap\u001b[0m\u001b[0;34m:\u001b[0m\u001b[0;34m\u001b[0m\u001b[0;34m\u001b[0m\u001b[0m\n\u001b[0;32m-> 2117\u001b[0;31m                 \u001b[0mresult\u001b[0m \u001b[0;34m=\u001b[0m \u001b[0mfn\u001b[0m\u001b[0;34m(\u001b[0m\u001b[0mmagic_arg_s\u001b[0m\u001b[0;34m,\u001b[0m \u001b[0mcell\u001b[0m\u001b[0;34m)\u001b[0m\u001b[0;34m\u001b[0m\u001b[0;34m\u001b[0m\u001b[0m\n\u001b[0m\u001b[1;32m   2118\u001b[0m             \u001b[0;32mreturn\u001b[0m \u001b[0mresult\u001b[0m\u001b[0;34m\u001b[0m\u001b[0;34m\u001b[0m\u001b[0m\n\u001b[1;32m   2119\u001b[0m \u001b[0;34m\u001b[0m\u001b[0m\n",
            "\u001b[0;32m<decorator-gen-125>\u001b[0m in \u001b[0;36mspark\u001b[0;34m(self, *args, **kwargs)\u001b[0m\n",
            "\u001b[0;32m/usr/local/lib/python3.6/dist-packages/IPython/core/magic.py\u001b[0m in \u001b[0;36m<lambda>\u001b[0;34m(f, *a, **k)\u001b[0m\n\u001b[1;32m    186\u001b[0m     \u001b[0;31m# but it's overkill for just that one bit of state.\u001b[0m\u001b[0;34m\u001b[0m\u001b[0;34m\u001b[0m\u001b[0;34m\u001b[0m\u001b[0m\n\u001b[1;32m    187\u001b[0m     \u001b[0;32mdef\u001b[0m \u001b[0mmagic_deco\u001b[0m\u001b[0;34m(\u001b[0m\u001b[0marg\u001b[0m\u001b[0;34m)\u001b[0m\u001b[0;34m:\u001b[0m\u001b[0;34m\u001b[0m\u001b[0;34m\u001b[0m\u001b[0m\n\u001b[0;32m--> 188\u001b[0;31m         \u001b[0mcall\u001b[0m \u001b[0;34m=\u001b[0m \u001b[0;32mlambda\u001b[0m \u001b[0mf\u001b[0m\u001b[0;34m,\u001b[0m \u001b[0;34m*\u001b[0m\u001b[0ma\u001b[0m\u001b[0;34m,\u001b[0m \u001b[0;34m**\u001b[0m\u001b[0mk\u001b[0m\u001b[0;34m:\u001b[0m \u001b[0mf\u001b[0m\u001b[0;34m(\u001b[0m\u001b[0;34m*\u001b[0m\u001b[0ma\u001b[0m\u001b[0;34m,\u001b[0m \u001b[0;34m**\u001b[0m\u001b[0mk\u001b[0m\u001b[0;34m)\u001b[0m\u001b[0;34m\u001b[0m\u001b[0;34m\u001b[0m\u001b[0m\n\u001b[0m\u001b[1;32m    189\u001b[0m \u001b[0;34m\u001b[0m\u001b[0m\n\u001b[1;32m    190\u001b[0m         \u001b[0;32mif\u001b[0m \u001b[0mcallable\u001b[0m\u001b[0;34m(\u001b[0m\u001b[0marg\u001b[0m\u001b[0;34m)\u001b[0m\u001b[0;34m:\u001b[0m\u001b[0;34m\u001b[0m\u001b[0;34m\u001b[0m\u001b[0m\n",
            "\u001b[0;32m/usr/local/lib/python3.6/dist-packages/sparkmagic/livyclientlib/exceptions.py\u001b[0m in \u001b[0;36mwrapped\u001b[0;34m(self, *args, **kwargs)\u001b[0m\n\u001b[1;32m     72\u001b[0m     \u001b[0;32mdef\u001b[0m \u001b[0mwrapped\u001b[0m\u001b[0;34m(\u001b[0m\u001b[0mself\u001b[0m\u001b[0;34m,\u001b[0m \u001b[0;34m*\u001b[0m\u001b[0margs\u001b[0m\u001b[0;34m,\u001b[0m \u001b[0;34m**\u001b[0m\u001b[0mkwargs\u001b[0m\u001b[0;34m)\u001b[0m\u001b[0;34m:\u001b[0m\u001b[0;34m\u001b[0m\u001b[0;34m\u001b[0m\u001b[0m\n\u001b[1;32m     73\u001b[0m         \u001b[0;32mtry\u001b[0m\u001b[0;34m:\u001b[0m\u001b[0;34m\u001b[0m\u001b[0;34m\u001b[0m\u001b[0m\n\u001b[0;32m---> 74\u001b[0;31m             \u001b[0mout\u001b[0m \u001b[0;34m=\u001b[0m \u001b[0mf\u001b[0m\u001b[0;34m(\u001b[0m\u001b[0mself\u001b[0m\u001b[0;34m,\u001b[0m \u001b[0;34m*\u001b[0m\u001b[0margs\u001b[0m\u001b[0;34m,\u001b[0m \u001b[0;34m**\u001b[0m\u001b[0mkwargs\u001b[0m\u001b[0;34m)\u001b[0m\u001b[0;34m\u001b[0m\u001b[0;34m\u001b[0m\u001b[0m\n\u001b[0m\u001b[1;32m     75\u001b[0m         \u001b[0;32mexcept\u001b[0m \u001b[0mexceptions_to_handle\u001b[0m \u001b[0;32mas\u001b[0m \u001b[0merr\u001b[0m\u001b[0;34m:\u001b[0m\u001b[0;34m\u001b[0m\u001b[0;34m\u001b[0m\u001b[0m\n\u001b[1;32m     76\u001b[0m             \u001b[0;32mif\u001b[0m \u001b[0mconf\u001b[0m\u001b[0;34m.\u001b[0m\u001b[0mall_errors_are_fatal\u001b[0m\u001b[0;34m(\u001b[0m\u001b[0;34m)\u001b[0m\u001b[0;34m:\u001b[0m\u001b[0;34m\u001b[0m\u001b[0;34m\u001b[0m\u001b[0m\n",
            "\u001b[0;32m/usr/local/lib/python3.6/dist-packages/sparkmagic/magics/remotesparkmagics.py\u001b[0m in \u001b[0;36mspark\u001b[0;34m(self, line, cell, local_ns)\u001b[0m\n\u001b[1;32m    171\u001b[0m             \u001b[0;32mif\u001b[0m \u001b[0margs\u001b[0m\u001b[0;34m.\u001b[0m\u001b[0mcontext\u001b[0m \u001b[0;34m==\u001b[0m \u001b[0mCONTEXT_NAME_SPARK\u001b[0m\u001b[0;34m:\u001b[0m\u001b[0;34m\u001b[0m\u001b[0;34m\u001b[0m\u001b[0m\n\u001b[1;32m    172\u001b[0m                 return self.execute_spark(cell, args.output, args.samplemethod,\n\u001b[0;32m--> 173\u001b[0;31m                                           args.maxrows, args.samplefraction, args.session, coerce)\n\u001b[0m\u001b[1;32m    174\u001b[0m             \u001b[0;32melif\u001b[0m \u001b[0margs\u001b[0m\u001b[0;34m.\u001b[0m\u001b[0mcontext\u001b[0m \u001b[0;34m==\u001b[0m \u001b[0mCONTEXT_NAME_SQL\u001b[0m\u001b[0;34m:\u001b[0m\u001b[0;34m\u001b[0m\u001b[0;34m\u001b[0m\u001b[0m\n\u001b[1;32m    175\u001b[0m                 return self.execute_sqlquery(cell, args.samplemethod, args.maxrows, args.samplefraction,\n",
            "\u001b[0;32m/usr/local/lib/python3.6/dist-packages/sparkmagic/magics/sparkmagicsbase.py\u001b[0m in \u001b[0;36mexecute_spark\u001b[0;34m(self, cell, output_var, samplemethod, maxrows, samplefraction, session_name, coerce)\u001b[0m\n\u001b[1;32m     79\u001b[0m \u001b[0;34m\u001b[0m\u001b[0m\n\u001b[1;32m     80\u001b[0m     \u001b[0;32mdef\u001b[0m \u001b[0mexecute_spark\u001b[0m\u001b[0;34m(\u001b[0m\u001b[0mself\u001b[0m\u001b[0;34m,\u001b[0m \u001b[0mcell\u001b[0m\u001b[0;34m,\u001b[0m \u001b[0moutput_var\u001b[0m\u001b[0;34m,\u001b[0m \u001b[0msamplemethod\u001b[0m\u001b[0;34m,\u001b[0m \u001b[0mmaxrows\u001b[0m\u001b[0;34m,\u001b[0m \u001b[0msamplefraction\u001b[0m\u001b[0;34m,\u001b[0m \u001b[0msession_name\u001b[0m\u001b[0;34m,\u001b[0m \u001b[0mcoerce\u001b[0m\u001b[0;34m)\u001b[0m\u001b[0;34m:\u001b[0m\u001b[0;34m\u001b[0m\u001b[0;34m\u001b[0m\u001b[0m\n\u001b[0;32m---> 81\u001b[0;31m         \u001b[0;34m(\u001b[0m\u001b[0msuccess\u001b[0m\u001b[0;34m,\u001b[0m \u001b[0mout\u001b[0m\u001b[0;34m,\u001b[0m \u001b[0mmimetype\u001b[0m\u001b[0;34m)\u001b[0m \u001b[0;34m=\u001b[0m \u001b[0mself\u001b[0m\u001b[0;34m.\u001b[0m\u001b[0mspark_controller\u001b[0m\u001b[0;34m.\u001b[0m\u001b[0mrun_command\u001b[0m\u001b[0;34m(\u001b[0m\u001b[0mCommand\u001b[0m\u001b[0;34m(\u001b[0m\u001b[0mcell\u001b[0m\u001b[0;34m)\u001b[0m\u001b[0;34m,\u001b[0m \u001b[0msession_name\u001b[0m\u001b[0;34m)\u001b[0m\u001b[0;34m\u001b[0m\u001b[0;34m\u001b[0m\u001b[0m\n\u001b[0m\u001b[1;32m     82\u001b[0m         \u001b[0;32mif\u001b[0m \u001b[0;32mnot\u001b[0m \u001b[0msuccess\u001b[0m\u001b[0;34m:\u001b[0m\u001b[0;34m\u001b[0m\u001b[0;34m\u001b[0m\u001b[0m\n\u001b[1;32m     83\u001b[0m             \u001b[0;32mif\u001b[0m \u001b[0mconf\u001b[0m\u001b[0;34m.\u001b[0m\u001b[0mshutdown_session_on_spark_statement_errors\u001b[0m\u001b[0;34m(\u001b[0m\u001b[0;34m)\u001b[0m\u001b[0;34m:\u001b[0m\u001b[0;34m\u001b[0m\u001b[0;34m\u001b[0m\u001b[0m\n",
            "\u001b[0;32m/usr/local/lib/python3.6/dist-packages/sparkmagic/livyclientlib/sparkcontroller.py\u001b[0m in \u001b[0;36mrun_command\u001b[0;34m(self, command, client_name)\u001b[0m\n\u001b[1;32m     38\u001b[0m     \u001b[0;32mdef\u001b[0m \u001b[0mrun_command\u001b[0m\u001b[0;34m(\u001b[0m\u001b[0mself\u001b[0m\u001b[0;34m,\u001b[0m \u001b[0mcommand\u001b[0m\u001b[0;34m,\u001b[0m \u001b[0mclient_name\u001b[0m\u001b[0;34m=\u001b[0m\u001b[0;32mNone\u001b[0m\u001b[0;34m)\u001b[0m\u001b[0;34m:\u001b[0m\u001b[0;34m\u001b[0m\u001b[0;34m\u001b[0m\u001b[0m\n\u001b[1;32m     39\u001b[0m         \u001b[0msession_to_use\u001b[0m \u001b[0;34m=\u001b[0m \u001b[0mself\u001b[0m\u001b[0;34m.\u001b[0m\u001b[0mget_session_by_name_or_default\u001b[0m\u001b[0;34m(\u001b[0m\u001b[0mclient_name\u001b[0m\u001b[0;34m)\u001b[0m\u001b[0;34m\u001b[0m\u001b[0;34m\u001b[0m\u001b[0m\n\u001b[0;32m---> 40\u001b[0;31m         \u001b[0;32mreturn\u001b[0m \u001b[0mcommand\u001b[0m\u001b[0;34m.\u001b[0m\u001b[0mexecute\u001b[0m\u001b[0;34m(\u001b[0m\u001b[0msession_to_use\u001b[0m\u001b[0;34m)\u001b[0m\u001b[0;34m\u001b[0m\u001b[0;34m\u001b[0m\u001b[0m\n\u001b[0m\u001b[1;32m     41\u001b[0m \u001b[0;34m\u001b[0m\u001b[0m\n\u001b[1;32m     42\u001b[0m     \u001b[0;32mdef\u001b[0m \u001b[0mrun_sqlquery\u001b[0m\u001b[0;34m(\u001b[0m\u001b[0mself\u001b[0m\u001b[0;34m,\u001b[0m \u001b[0msqlquery\u001b[0m\u001b[0;34m,\u001b[0m \u001b[0mclient_name\u001b[0m\u001b[0;34m=\u001b[0m\u001b[0;32mNone\u001b[0m\u001b[0;34m)\u001b[0m\u001b[0;34m:\u001b[0m\u001b[0;34m\u001b[0m\u001b[0;34m\u001b[0m\u001b[0m\n",
            "\u001b[0;32m/usr/local/lib/python3.6/dist-packages/sparkmagic/livyclientlib/command.py\u001b[0m in \u001b[0;36mexecute\u001b[0;34m(self, session)\u001b[0m\n\u001b[1;32m     38\u001b[0m         \u001b[0mstatement_id\u001b[0m \u001b[0;34m=\u001b[0m \u001b[0;34m-\u001b[0m\u001b[0;36m1\u001b[0m\u001b[0;34m\u001b[0m\u001b[0;34m\u001b[0m\u001b[0m\n\u001b[1;32m     39\u001b[0m         \u001b[0;32mtry\u001b[0m\u001b[0;34m:\u001b[0m\u001b[0;34m\u001b[0m\u001b[0;34m\u001b[0m\u001b[0m\n\u001b[0;32m---> 40\u001b[0;31m             \u001b[0msession\u001b[0m\u001b[0;34m.\u001b[0m\u001b[0mwait_for_idle\u001b[0m\u001b[0;34m(\u001b[0m\u001b[0;34m)\u001b[0m\u001b[0;34m\u001b[0m\u001b[0;34m\u001b[0m\u001b[0m\n\u001b[0m\u001b[1;32m     41\u001b[0m             \u001b[0mdata\u001b[0m \u001b[0;34m=\u001b[0m \u001b[0;34m{\u001b[0m\u001b[0;34mu\"code\"\u001b[0m\u001b[0;34m:\u001b[0m \u001b[0mself\u001b[0m\u001b[0;34m.\u001b[0m\u001b[0mcode\u001b[0m\u001b[0;34m}\u001b[0m\u001b[0;34m\u001b[0m\u001b[0;34m\u001b[0m\u001b[0m\n\u001b[1;32m     42\u001b[0m             \u001b[0mresponse\u001b[0m \u001b[0;34m=\u001b[0m \u001b[0msession\u001b[0m\u001b[0;34m.\u001b[0m\u001b[0mhttp_client\u001b[0m\u001b[0;34m.\u001b[0m\u001b[0mpost_statement\u001b[0m\u001b[0;34m(\u001b[0m\u001b[0msession\u001b[0m\u001b[0;34m.\u001b[0m\u001b[0mid\u001b[0m\u001b[0;34m,\u001b[0m \u001b[0mdata\u001b[0m\u001b[0;34m)\u001b[0m\u001b[0;34m\u001b[0m\u001b[0;34m\u001b[0m\u001b[0m\n",
            "\u001b[0;32m/usr/local/lib/python3.6/dist-packages/sparkmagic/livyclientlib/livysession.py\u001b[0m in \u001b[0;36mwait_for_idle\u001b[0;34m(self, seconds_to_wait)\u001b[0m\n\u001b[1;32m    248\u001b[0m         \u001b[0mretries\u001b[0m \u001b[0;34m=\u001b[0m \u001b[0;36m1\u001b[0m\u001b[0;34m\u001b[0m\u001b[0;34m\u001b[0m\u001b[0m\n\u001b[1;32m    249\u001b[0m         \u001b[0;32mwhile\u001b[0m \u001b[0;32mTrue\u001b[0m\u001b[0;34m:\u001b[0m\u001b[0;34m\u001b[0m\u001b[0;34m\u001b[0m\u001b[0m\n\u001b[0;32m--> 250\u001b[0;31m             \u001b[0mself\u001b[0m\u001b[0;34m.\u001b[0m\u001b[0mrefresh_status_and_info\u001b[0m\u001b[0;34m(\u001b[0m\u001b[0;34m)\u001b[0m\u001b[0;34m\u001b[0m\u001b[0;34m\u001b[0m\u001b[0m\n\u001b[0m\u001b[1;32m    251\u001b[0m             \u001b[0;32mif\u001b[0m \u001b[0mself\u001b[0m\u001b[0;34m.\u001b[0m\u001b[0mstatus\u001b[0m \u001b[0;34m==\u001b[0m \u001b[0mconstants\u001b[0m\u001b[0;34m.\u001b[0m\u001b[0mIDLE_SESSION_STATUS\u001b[0m\u001b[0;34m:\u001b[0m\u001b[0;34m\u001b[0m\u001b[0;34m\u001b[0m\u001b[0m\n\u001b[1;32m    252\u001b[0m                 \u001b[0;32mreturn\u001b[0m\u001b[0;34m\u001b[0m\u001b[0;34m\u001b[0m\u001b[0m\n",
            "\u001b[0;32m/usr/local/lib/python3.6/dist-packages/sparkmagic/livyclientlib/livysession.py\u001b[0m in \u001b[0;36mrefresh_status_and_info\u001b[0;34m(self)\u001b[0m\n\u001b[1;32m    285\u001b[0m     \u001b[0;31m# Only the status will be returned as the return value.\u001b[0m\u001b[0;34m\u001b[0m\u001b[0;34m\u001b[0m\u001b[0;34m\u001b[0m\u001b[0m\n\u001b[1;32m    286\u001b[0m     \u001b[0;32mdef\u001b[0m \u001b[0mrefresh_status_and_info\u001b[0m\u001b[0;34m(\u001b[0m\u001b[0mself\u001b[0m\u001b[0;34m)\u001b[0m\u001b[0;34m:\u001b[0m\u001b[0;34m\u001b[0m\u001b[0;34m\u001b[0m\u001b[0m\n\u001b[0;32m--> 287\u001b[0;31m         \u001b[0mresponse\u001b[0m \u001b[0;34m=\u001b[0m \u001b[0mself\u001b[0m\u001b[0;34m.\u001b[0m\u001b[0m_http_client\u001b[0m\u001b[0;34m.\u001b[0m\u001b[0mget_session\u001b[0m\u001b[0;34m(\u001b[0m\u001b[0mself\u001b[0m\u001b[0;34m.\u001b[0m\u001b[0mid\u001b[0m\u001b[0;34m)\u001b[0m\u001b[0;34m\u001b[0m\u001b[0;34m\u001b[0m\u001b[0m\n\u001b[0m\u001b[1;32m    288\u001b[0m         \u001b[0mstatus\u001b[0m \u001b[0;34m=\u001b[0m \u001b[0mresponse\u001b[0m\u001b[0;34m[\u001b[0m\u001b[0;34mu'state'\u001b[0m\u001b[0;34m]\u001b[0m\u001b[0;34m\u001b[0m\u001b[0;34m\u001b[0m\u001b[0m\n\u001b[1;32m    289\u001b[0m         \u001b[0mlog_array\u001b[0m \u001b[0;34m=\u001b[0m \u001b[0mresponse\u001b[0m\u001b[0;34m[\u001b[0m\u001b[0;34mu'log'\u001b[0m\u001b[0;34m]\u001b[0m\u001b[0;34m\u001b[0m\u001b[0;34m\u001b[0m\u001b[0m\n",
            "\u001b[0;32m/usr/local/lib/python3.6/dist-packages/sparkmagic/livyclientlib/livyreliablehttpclient.py\u001b[0m in \u001b[0;36mget_session\u001b[0;34m(self, session_id)\u001b[0m\n\u001b[1;32m     37\u001b[0m \u001b[0;34m\u001b[0m\u001b[0m\n\u001b[1;32m     38\u001b[0m     \u001b[0;32mdef\u001b[0m \u001b[0mget_session\u001b[0m\u001b[0;34m(\u001b[0m\u001b[0mself\u001b[0m\u001b[0;34m,\u001b[0m \u001b[0msession_id\u001b[0m\u001b[0;34m)\u001b[0m\u001b[0;34m:\u001b[0m\u001b[0;34m\u001b[0m\u001b[0;34m\u001b[0m\u001b[0m\n\u001b[0;32m---> 39\u001b[0;31m         \u001b[0;32mreturn\u001b[0m \u001b[0mself\u001b[0m\u001b[0;34m.\u001b[0m\u001b[0m_http_client\u001b[0m\u001b[0;34m.\u001b[0m\u001b[0mget\u001b[0m\u001b[0;34m(\u001b[0m\u001b[0mself\u001b[0m\u001b[0;34m.\u001b[0m\u001b[0m_session_url\u001b[0m\u001b[0;34m(\u001b[0m\u001b[0msession_id\u001b[0m\u001b[0;34m)\u001b[0m\u001b[0;34m,\u001b[0m \u001b[0;34m[\u001b[0m\u001b[0;36m200\u001b[0m\u001b[0;34m]\u001b[0m\u001b[0;34m)\u001b[0m\u001b[0;34m.\u001b[0m\u001b[0mjson\u001b[0m\u001b[0;34m(\u001b[0m\u001b[0;34m)\u001b[0m\u001b[0;34m\u001b[0m\u001b[0;34m\u001b[0m\u001b[0m\n\u001b[0m\u001b[1;32m     40\u001b[0m \u001b[0;34m\u001b[0m\u001b[0m\n\u001b[1;32m     41\u001b[0m     \u001b[0;32mdef\u001b[0m \u001b[0mdelete_session\u001b[0m\u001b[0;34m(\u001b[0m\u001b[0mself\u001b[0m\u001b[0;34m,\u001b[0m \u001b[0msession_id\u001b[0m\u001b[0;34m)\u001b[0m\u001b[0;34m:\u001b[0m\u001b[0;34m\u001b[0m\u001b[0;34m\u001b[0m\u001b[0m\n",
            "\u001b[0;32m/usr/local/lib/python3.6/dist-packages/sparkmagic/livyclientlib/reliablehttpclient.py\u001b[0m in \u001b[0;36mget\u001b[0;34m(self, relative_url, accepted_status_codes)\u001b[0m\n\u001b[1;32m     45\u001b[0m     \u001b[0;32mdef\u001b[0m \u001b[0mget\u001b[0m\u001b[0;34m(\u001b[0m\u001b[0mself\u001b[0m\u001b[0;34m,\u001b[0m \u001b[0mrelative_url\u001b[0m\u001b[0;34m,\u001b[0m \u001b[0maccepted_status_codes\u001b[0m\u001b[0;34m)\u001b[0m\u001b[0;34m:\u001b[0m\u001b[0;34m\u001b[0m\u001b[0;34m\u001b[0m\u001b[0m\n\u001b[1;32m     46\u001b[0m         \u001b[0;34m\"\"\"Sends a get request. Returns a response.\"\"\"\u001b[0m\u001b[0;34m\u001b[0m\u001b[0;34m\u001b[0m\u001b[0m\n\u001b[0;32m---> 47\u001b[0;31m         \u001b[0;32mreturn\u001b[0m \u001b[0mself\u001b[0m\u001b[0;34m.\u001b[0m\u001b[0m_send_request\u001b[0m\u001b[0;34m(\u001b[0m\u001b[0mrelative_url\u001b[0m\u001b[0;34m,\u001b[0m \u001b[0maccepted_status_codes\u001b[0m\u001b[0;34m,\u001b[0m \u001b[0mself\u001b[0m\u001b[0;34m.\u001b[0m\u001b[0m_session\u001b[0m\u001b[0;34m.\u001b[0m\u001b[0mget\u001b[0m\u001b[0;34m)\u001b[0m\u001b[0;34m\u001b[0m\u001b[0;34m\u001b[0m\u001b[0m\n\u001b[0m\u001b[1;32m     48\u001b[0m \u001b[0;34m\u001b[0m\u001b[0m\n\u001b[1;32m     49\u001b[0m     \u001b[0;32mdef\u001b[0m \u001b[0mpost\u001b[0m\u001b[0;34m(\u001b[0m\u001b[0mself\u001b[0m\u001b[0;34m,\u001b[0m \u001b[0mrelative_url\u001b[0m\u001b[0;34m,\u001b[0m \u001b[0maccepted_status_codes\u001b[0m\u001b[0;34m,\u001b[0m \u001b[0mdata\u001b[0m\u001b[0;34m)\u001b[0m\u001b[0;34m:\u001b[0m\u001b[0;34m\u001b[0m\u001b[0;34m\u001b[0m\u001b[0m\n",
            "\u001b[0;32m/usr/local/lib/python3.6/dist-packages/sparkmagic/livyclientlib/reliablehttpclient.py\u001b[0m in \u001b[0;36m_send_request\u001b[0;34m(self, relative_url, accepted_status_codes, function, data)\u001b[0m\n\u001b[1;32m     56\u001b[0m \u001b[0;34m\u001b[0m\u001b[0m\n\u001b[1;32m     57\u001b[0m     \u001b[0;32mdef\u001b[0m \u001b[0m_send_request\u001b[0m\u001b[0;34m(\u001b[0m\u001b[0mself\u001b[0m\u001b[0;34m,\u001b[0m \u001b[0mrelative_url\u001b[0m\u001b[0;34m,\u001b[0m \u001b[0maccepted_status_codes\u001b[0m\u001b[0;34m,\u001b[0m \u001b[0mfunction\u001b[0m\u001b[0;34m,\u001b[0m \u001b[0mdata\u001b[0m\u001b[0;34m=\u001b[0m\u001b[0;32mNone\u001b[0m\u001b[0;34m)\u001b[0m\u001b[0;34m:\u001b[0m\u001b[0;34m\u001b[0m\u001b[0;34m\u001b[0m\u001b[0m\n\u001b[0;32m---> 58\u001b[0;31m         \u001b[0;32mreturn\u001b[0m \u001b[0mself\u001b[0m\u001b[0;34m.\u001b[0m\u001b[0m_send_request_helper\u001b[0m\u001b[0;34m(\u001b[0m\u001b[0mself\u001b[0m\u001b[0;34m.\u001b[0m\u001b[0mcompose_url\u001b[0m\u001b[0;34m(\u001b[0m\u001b[0mrelative_url\u001b[0m\u001b[0;34m)\u001b[0m\u001b[0;34m,\u001b[0m \u001b[0maccepted_status_codes\u001b[0m\u001b[0;34m,\u001b[0m \u001b[0mfunction\u001b[0m\u001b[0;34m,\u001b[0m \u001b[0mdata\u001b[0m\u001b[0;34m,\u001b[0m \u001b[0;36m0\u001b[0m\u001b[0;34m)\u001b[0m\u001b[0;34m\u001b[0m\u001b[0;34m\u001b[0m\u001b[0m\n\u001b[0m\u001b[1;32m     59\u001b[0m \u001b[0;34m\u001b[0m\u001b[0m\n\u001b[1;32m     60\u001b[0m     \u001b[0;32mdef\u001b[0m \u001b[0m_send_request_helper\u001b[0m\u001b[0;34m(\u001b[0m\u001b[0mself\u001b[0m\u001b[0;34m,\u001b[0m \u001b[0murl\u001b[0m\u001b[0;34m,\u001b[0m \u001b[0maccepted_status_codes\u001b[0m\u001b[0;34m,\u001b[0m \u001b[0mfunction\u001b[0m\u001b[0;34m,\u001b[0m \u001b[0mdata\u001b[0m\u001b[0;34m,\u001b[0m \u001b[0mretry_count\u001b[0m\u001b[0;34m)\u001b[0m\u001b[0;34m:\u001b[0m\u001b[0;34m\u001b[0m\u001b[0;34m\u001b[0m\u001b[0m\n",
            "\u001b[0;32m/usr/local/lib/python3.6/dist-packages/sparkmagic/livyclientlib/reliablehttpclient.py\u001b[0m in \u001b[0;36m_send_request_helper\u001b[0;34m(self, url, accepted_status_codes, function, data, retry_count)\u001b[0m\n\u001b[1;32m     63\u001b[0m                 \u001b[0;32mif\u001b[0m \u001b[0mself\u001b[0m\u001b[0;34m.\u001b[0m\u001b[0m_endpoint\u001b[0m\u001b[0;34m.\u001b[0m\u001b[0mauth\u001b[0m \u001b[0;34m==\u001b[0m \u001b[0mconstants\u001b[0m\u001b[0;34m.\u001b[0m\u001b[0mNO_AUTH\u001b[0m\u001b[0;34m:\u001b[0m\u001b[0;34m\u001b[0m\u001b[0;34m\u001b[0m\u001b[0m\n\u001b[1;32m     64\u001b[0m                     \u001b[0;32mif\u001b[0m \u001b[0mdata\u001b[0m \u001b[0;32mis\u001b[0m \u001b[0;32mNone\u001b[0m\u001b[0;34m:\u001b[0m\u001b[0;34m\u001b[0m\u001b[0;34m\u001b[0m\u001b[0m\n\u001b[0;32m---> 65\u001b[0;31m                         \u001b[0mr\u001b[0m \u001b[0;34m=\u001b[0m \u001b[0mfunction\u001b[0m\u001b[0;34m(\u001b[0m\u001b[0murl\u001b[0m\u001b[0;34m,\u001b[0m \u001b[0mheaders\u001b[0m\u001b[0;34m=\u001b[0m\u001b[0mself\u001b[0m\u001b[0;34m.\u001b[0m\u001b[0m_headers\u001b[0m\u001b[0;34m,\u001b[0m \u001b[0mverify\u001b[0m\u001b[0;34m=\u001b[0m\u001b[0mself\u001b[0m\u001b[0;34m.\u001b[0m\u001b[0mverify_ssl\u001b[0m\u001b[0;34m)\u001b[0m\u001b[0;34m\u001b[0m\u001b[0;34m\u001b[0m\u001b[0m\n\u001b[0m\u001b[1;32m     66\u001b[0m                     \u001b[0;32melse\u001b[0m\u001b[0;34m:\u001b[0m\u001b[0;34m\u001b[0m\u001b[0;34m\u001b[0m\u001b[0m\n\u001b[1;32m     67\u001b[0m                         \u001b[0mr\u001b[0m \u001b[0;34m=\u001b[0m \u001b[0mfunction\u001b[0m\u001b[0;34m(\u001b[0m\u001b[0murl\u001b[0m\u001b[0;34m,\u001b[0m \u001b[0mheaders\u001b[0m\u001b[0;34m=\u001b[0m\u001b[0mself\u001b[0m\u001b[0;34m.\u001b[0m\u001b[0m_headers\u001b[0m\u001b[0;34m,\u001b[0m \u001b[0mdata\u001b[0m\u001b[0;34m=\u001b[0m\u001b[0mjson\u001b[0m\u001b[0;34m.\u001b[0m\u001b[0mdumps\u001b[0m\u001b[0;34m(\u001b[0m\u001b[0mdata\u001b[0m\u001b[0;34m)\u001b[0m\u001b[0;34m,\u001b[0m \u001b[0mverify\u001b[0m\u001b[0;34m=\u001b[0m\u001b[0mself\u001b[0m\u001b[0;34m.\u001b[0m\u001b[0mverify_ssl\u001b[0m\u001b[0;34m)\u001b[0m\u001b[0;34m\u001b[0m\u001b[0;34m\u001b[0m\u001b[0m\n",
            "\u001b[0;32m/usr/local/lib/python3.6/dist-packages/requests/sessions.py\u001b[0m in \u001b[0;36mget\u001b[0;34m(self, url, **kwargs)\u001b[0m\n\u001b[1;32m    541\u001b[0m \u001b[0;34m\u001b[0m\u001b[0m\n\u001b[1;32m    542\u001b[0m         \u001b[0mkwargs\u001b[0m\u001b[0;34m.\u001b[0m\u001b[0msetdefault\u001b[0m\u001b[0;34m(\u001b[0m\u001b[0;34m'allow_redirects'\u001b[0m\u001b[0;34m,\u001b[0m \u001b[0;32mTrue\u001b[0m\u001b[0;34m)\u001b[0m\u001b[0;34m\u001b[0m\u001b[0;34m\u001b[0m\u001b[0m\n\u001b[0;32m--> 543\u001b[0;31m         \u001b[0;32mreturn\u001b[0m \u001b[0mself\u001b[0m\u001b[0;34m.\u001b[0m\u001b[0mrequest\u001b[0m\u001b[0;34m(\u001b[0m\u001b[0;34m'GET'\u001b[0m\u001b[0;34m,\u001b[0m \u001b[0murl\u001b[0m\u001b[0;34m,\u001b[0m \u001b[0;34m**\u001b[0m\u001b[0mkwargs\u001b[0m\u001b[0;34m)\u001b[0m\u001b[0;34m\u001b[0m\u001b[0;34m\u001b[0m\u001b[0m\n\u001b[0m\u001b[1;32m    544\u001b[0m \u001b[0;34m\u001b[0m\u001b[0m\n\u001b[1;32m    545\u001b[0m     \u001b[0;32mdef\u001b[0m \u001b[0moptions\u001b[0m\u001b[0;34m(\u001b[0m\u001b[0mself\u001b[0m\u001b[0;34m,\u001b[0m \u001b[0murl\u001b[0m\u001b[0;34m,\u001b[0m \u001b[0;34m**\u001b[0m\u001b[0mkwargs\u001b[0m\u001b[0;34m)\u001b[0m\u001b[0;34m:\u001b[0m\u001b[0;34m\u001b[0m\u001b[0;34m\u001b[0m\u001b[0m\n",
            "\u001b[0;32m/usr/local/lib/python3.6/dist-packages/requests/sessions.py\u001b[0m in \u001b[0;36mrequest\u001b[0;34m(self, method, url, params, data, headers, cookies, files, auth, timeout, allow_redirects, proxies, hooks, stream, verify, cert, json)\u001b[0m\n\u001b[1;32m    528\u001b[0m         }\n\u001b[1;32m    529\u001b[0m         \u001b[0msend_kwargs\u001b[0m\u001b[0;34m.\u001b[0m\u001b[0mupdate\u001b[0m\u001b[0;34m(\u001b[0m\u001b[0msettings\u001b[0m\u001b[0;34m)\u001b[0m\u001b[0;34m\u001b[0m\u001b[0;34m\u001b[0m\u001b[0m\n\u001b[0;32m--> 530\u001b[0;31m         \u001b[0mresp\u001b[0m \u001b[0;34m=\u001b[0m \u001b[0mself\u001b[0m\u001b[0;34m.\u001b[0m\u001b[0msend\u001b[0m\u001b[0;34m(\u001b[0m\u001b[0mprep\u001b[0m\u001b[0;34m,\u001b[0m \u001b[0;34m**\u001b[0m\u001b[0msend_kwargs\u001b[0m\u001b[0;34m)\u001b[0m\u001b[0;34m\u001b[0m\u001b[0;34m\u001b[0m\u001b[0m\n\u001b[0m\u001b[1;32m    531\u001b[0m \u001b[0;34m\u001b[0m\u001b[0m\n\u001b[1;32m    532\u001b[0m         \u001b[0;32mreturn\u001b[0m \u001b[0mresp\u001b[0m\u001b[0;34m\u001b[0m\u001b[0;34m\u001b[0m\u001b[0m\n",
            "\u001b[0;32m/usr/local/lib/python3.6/dist-packages/requests/sessions.py\u001b[0m in \u001b[0;36msend\u001b[0;34m(self, request, **kwargs)\u001b[0m\n\u001b[1;32m    641\u001b[0m \u001b[0;34m\u001b[0m\u001b[0m\n\u001b[1;32m    642\u001b[0m         \u001b[0;31m# Send the request\u001b[0m\u001b[0;34m\u001b[0m\u001b[0;34m\u001b[0m\u001b[0;34m\u001b[0m\u001b[0m\n\u001b[0;32m--> 643\u001b[0;31m         \u001b[0mr\u001b[0m \u001b[0;34m=\u001b[0m \u001b[0madapter\u001b[0m\u001b[0;34m.\u001b[0m\u001b[0msend\u001b[0m\u001b[0;34m(\u001b[0m\u001b[0mrequest\u001b[0m\u001b[0;34m,\u001b[0m \u001b[0;34m**\u001b[0m\u001b[0mkwargs\u001b[0m\u001b[0;34m)\u001b[0m\u001b[0;34m\u001b[0m\u001b[0;34m\u001b[0m\u001b[0m\n\u001b[0m\u001b[1;32m    644\u001b[0m \u001b[0;34m\u001b[0m\u001b[0m\n\u001b[1;32m    645\u001b[0m         \u001b[0;31m# Total elapsed time of the request (approximately)\u001b[0m\u001b[0;34m\u001b[0m\u001b[0;34m\u001b[0m\u001b[0;34m\u001b[0m\u001b[0m\n",
            "\u001b[0;32m/usr/local/lib/python3.6/dist-packages/requests/adapters.py\u001b[0m in \u001b[0;36msend\u001b[0;34m(self, request, stream, timeout, verify, cert, proxies)\u001b[0m\n\u001b[1;32m    447\u001b[0m                     \u001b[0mdecode_content\u001b[0m\u001b[0;34m=\u001b[0m\u001b[0;32mFalse\u001b[0m\u001b[0;34m,\u001b[0m\u001b[0;34m\u001b[0m\u001b[0;34m\u001b[0m\u001b[0m\n\u001b[1;32m    448\u001b[0m                     \u001b[0mretries\u001b[0m\u001b[0;34m=\u001b[0m\u001b[0mself\u001b[0m\u001b[0;34m.\u001b[0m\u001b[0mmax_retries\u001b[0m\u001b[0;34m,\u001b[0m\u001b[0;34m\u001b[0m\u001b[0;34m\u001b[0m\u001b[0m\n\u001b[0;32m--> 449\u001b[0;31m                     \u001b[0mtimeout\u001b[0m\u001b[0;34m=\u001b[0m\u001b[0mtimeout\u001b[0m\u001b[0;34m\u001b[0m\u001b[0;34m\u001b[0m\u001b[0m\n\u001b[0m\u001b[1;32m    450\u001b[0m                 )\n\u001b[1;32m    451\u001b[0m \u001b[0;34m\u001b[0m\u001b[0m\n",
            "\u001b[0;32m/usr/local/lib/python3.6/dist-packages/urllib3/connectionpool.py\u001b[0m in \u001b[0;36murlopen\u001b[0;34m(self, method, url, body, headers, retries, redirect, assert_same_host, timeout, pool_timeout, release_conn, chunked, body_pos, **response_kw)\u001b[0m\n\u001b[1;32m    598\u001b[0m                                                   \u001b[0mtimeout\u001b[0m\u001b[0;34m=\u001b[0m\u001b[0mtimeout_obj\u001b[0m\u001b[0;34m,\u001b[0m\u001b[0;34m\u001b[0m\u001b[0;34m\u001b[0m\u001b[0m\n\u001b[1;32m    599\u001b[0m                                                   \u001b[0mbody\u001b[0m\u001b[0;34m=\u001b[0m\u001b[0mbody\u001b[0m\u001b[0;34m,\u001b[0m \u001b[0mheaders\u001b[0m\u001b[0;34m=\u001b[0m\u001b[0mheaders\u001b[0m\u001b[0;34m,\u001b[0m\u001b[0;34m\u001b[0m\u001b[0;34m\u001b[0m\u001b[0m\n\u001b[0;32m--> 600\u001b[0;31m                                                   chunked=chunked)\n\u001b[0m\u001b[1;32m    601\u001b[0m \u001b[0;34m\u001b[0m\u001b[0m\n\u001b[1;32m    602\u001b[0m             \u001b[0;31m# If we're going to release the connection in ``finally:``, then\u001b[0m\u001b[0;34m\u001b[0m\u001b[0;34m\u001b[0m\u001b[0;34m\u001b[0m\u001b[0m\n",
            "\u001b[0;32m/usr/local/lib/python3.6/dist-packages/urllib3/connectionpool.py\u001b[0m in \u001b[0;36m_make_request\u001b[0;34m(self, conn, method, url, timeout, chunked, **httplib_request_kw)\u001b[0m\n\u001b[1;32m    378\u001b[0m             \u001b[0;32mexcept\u001b[0m \u001b[0mTypeError\u001b[0m\u001b[0;34m:\u001b[0m  \u001b[0;31m# Python 3\u001b[0m\u001b[0;34m\u001b[0m\u001b[0;34m\u001b[0m\u001b[0m\n\u001b[1;32m    379\u001b[0m                 \u001b[0;32mtry\u001b[0m\u001b[0;34m:\u001b[0m\u001b[0;34m\u001b[0m\u001b[0;34m\u001b[0m\u001b[0m\n\u001b[0;32m--> 380\u001b[0;31m                     \u001b[0mhttplib_response\u001b[0m \u001b[0;34m=\u001b[0m \u001b[0mconn\u001b[0m\u001b[0;34m.\u001b[0m\u001b[0mgetresponse\u001b[0m\u001b[0;34m(\u001b[0m\u001b[0;34m)\u001b[0m\u001b[0;34m\u001b[0m\u001b[0;34m\u001b[0m\u001b[0m\n\u001b[0m\u001b[1;32m    381\u001b[0m                 \u001b[0;32mexcept\u001b[0m \u001b[0mException\u001b[0m \u001b[0;32mas\u001b[0m \u001b[0me\u001b[0m\u001b[0;34m:\u001b[0m\u001b[0;34m\u001b[0m\u001b[0;34m\u001b[0m\u001b[0m\n\u001b[1;32m    382\u001b[0m                     \u001b[0;31m# Remove the TypeError from the exception chain in Python 3;\u001b[0m\u001b[0;34m\u001b[0m\u001b[0;34m\u001b[0m\u001b[0;34m\u001b[0m\u001b[0m\n",
            "\u001b[0;32m/usr/lib/python3.6/http/client.py\u001b[0m in \u001b[0;36mgetresponse\u001b[0;34m(self)\u001b[0m\n\u001b[1;32m   1354\u001b[0m         \u001b[0;32mtry\u001b[0m\u001b[0;34m:\u001b[0m\u001b[0;34m\u001b[0m\u001b[0;34m\u001b[0m\u001b[0m\n\u001b[1;32m   1355\u001b[0m             \u001b[0;32mtry\u001b[0m\u001b[0;34m:\u001b[0m\u001b[0;34m\u001b[0m\u001b[0;34m\u001b[0m\u001b[0m\n\u001b[0;32m-> 1356\u001b[0;31m                 \u001b[0mresponse\u001b[0m\u001b[0;34m.\u001b[0m\u001b[0mbegin\u001b[0m\u001b[0;34m(\u001b[0m\u001b[0;34m)\u001b[0m\u001b[0;34m\u001b[0m\u001b[0;34m\u001b[0m\u001b[0m\n\u001b[0m\u001b[1;32m   1357\u001b[0m             \u001b[0;32mexcept\u001b[0m \u001b[0mConnectionError\u001b[0m\u001b[0;34m:\u001b[0m\u001b[0;34m\u001b[0m\u001b[0;34m\u001b[0m\u001b[0m\n\u001b[1;32m   1358\u001b[0m                 \u001b[0mself\u001b[0m\u001b[0;34m.\u001b[0m\u001b[0mclose\u001b[0m\u001b[0;34m(\u001b[0m\u001b[0;34m)\u001b[0m\u001b[0;34m\u001b[0m\u001b[0;34m\u001b[0m\u001b[0m\n",
            "\u001b[0;32m/usr/lib/python3.6/http/client.py\u001b[0m in \u001b[0;36mbegin\u001b[0;34m(self)\u001b[0m\n\u001b[1;32m    305\u001b[0m         \u001b[0;31m# read until we get a non-100 response\u001b[0m\u001b[0;34m\u001b[0m\u001b[0;34m\u001b[0m\u001b[0;34m\u001b[0m\u001b[0m\n\u001b[1;32m    306\u001b[0m         \u001b[0;32mwhile\u001b[0m \u001b[0;32mTrue\u001b[0m\u001b[0;34m:\u001b[0m\u001b[0;34m\u001b[0m\u001b[0;34m\u001b[0m\u001b[0m\n\u001b[0;32m--> 307\u001b[0;31m             \u001b[0mversion\u001b[0m\u001b[0;34m,\u001b[0m \u001b[0mstatus\u001b[0m\u001b[0;34m,\u001b[0m \u001b[0mreason\u001b[0m \u001b[0;34m=\u001b[0m \u001b[0mself\u001b[0m\u001b[0;34m.\u001b[0m\u001b[0m_read_status\u001b[0m\u001b[0;34m(\u001b[0m\u001b[0;34m)\u001b[0m\u001b[0;34m\u001b[0m\u001b[0;34m\u001b[0m\u001b[0m\n\u001b[0m\u001b[1;32m    308\u001b[0m             \u001b[0;32mif\u001b[0m \u001b[0mstatus\u001b[0m \u001b[0;34m!=\u001b[0m \u001b[0mCONTINUE\u001b[0m\u001b[0;34m:\u001b[0m\u001b[0;34m\u001b[0m\u001b[0;34m\u001b[0m\u001b[0m\n\u001b[1;32m    309\u001b[0m                 \u001b[0;32mbreak\u001b[0m\u001b[0;34m\u001b[0m\u001b[0;34m\u001b[0m\u001b[0m\n",
            "\u001b[0;32m/usr/lib/python3.6/http/client.py\u001b[0m in \u001b[0;36m_read_status\u001b[0;34m(self)\u001b[0m\n\u001b[1;32m    266\u001b[0m \u001b[0;34m\u001b[0m\u001b[0m\n\u001b[1;32m    267\u001b[0m     \u001b[0;32mdef\u001b[0m \u001b[0m_read_status\u001b[0m\u001b[0;34m(\u001b[0m\u001b[0mself\u001b[0m\u001b[0;34m)\u001b[0m\u001b[0;34m:\u001b[0m\u001b[0;34m\u001b[0m\u001b[0;34m\u001b[0m\u001b[0m\n\u001b[0;32m--> 268\u001b[0;31m         \u001b[0mline\u001b[0m \u001b[0;34m=\u001b[0m \u001b[0mstr\u001b[0m\u001b[0;34m(\u001b[0m\u001b[0mself\u001b[0m\u001b[0;34m.\u001b[0m\u001b[0mfp\u001b[0m\u001b[0;34m.\u001b[0m\u001b[0mreadline\u001b[0m\u001b[0;34m(\u001b[0m\u001b[0m_MAXLINE\u001b[0m \u001b[0;34m+\u001b[0m \u001b[0;36m1\u001b[0m\u001b[0;34m)\u001b[0m\u001b[0;34m,\u001b[0m \u001b[0;34m\"iso-8859-1\"\u001b[0m\u001b[0;34m)\u001b[0m\u001b[0;34m\u001b[0m\u001b[0;34m\u001b[0m\u001b[0m\n\u001b[0m\u001b[1;32m    269\u001b[0m         \u001b[0;32mif\u001b[0m \u001b[0mlen\u001b[0m\u001b[0;34m(\u001b[0m\u001b[0mline\u001b[0m\u001b[0;34m)\u001b[0m \u001b[0;34m>\u001b[0m \u001b[0m_MAXLINE\u001b[0m\u001b[0;34m:\u001b[0m\u001b[0;34m\u001b[0m\u001b[0;34m\u001b[0m\u001b[0m\n\u001b[1;32m    270\u001b[0m             \u001b[0;32mraise\u001b[0m \u001b[0mLineTooLong\u001b[0m\u001b[0;34m(\u001b[0m\u001b[0;34m\"status line\"\u001b[0m\u001b[0;34m)\u001b[0m\u001b[0;34m\u001b[0m\u001b[0;34m\u001b[0m\u001b[0m\n",
            "\u001b[0;32m/usr/lib/python3.6/socket.py\u001b[0m in \u001b[0;36mreadinto\u001b[0;34m(self, b)\u001b[0m\n\u001b[1;32m    584\u001b[0m         \u001b[0;32mwhile\u001b[0m \u001b[0;32mTrue\u001b[0m\u001b[0;34m:\u001b[0m\u001b[0;34m\u001b[0m\u001b[0;34m\u001b[0m\u001b[0m\n\u001b[1;32m    585\u001b[0m             \u001b[0;32mtry\u001b[0m\u001b[0;34m:\u001b[0m\u001b[0;34m\u001b[0m\u001b[0;34m\u001b[0m\u001b[0m\n\u001b[0;32m--> 586\u001b[0;31m                 \u001b[0;32mreturn\u001b[0m \u001b[0mself\u001b[0m\u001b[0;34m.\u001b[0m\u001b[0m_sock\u001b[0m\u001b[0;34m.\u001b[0m\u001b[0mrecv_into\u001b[0m\u001b[0;34m(\u001b[0m\u001b[0mb\u001b[0m\u001b[0;34m)\u001b[0m\u001b[0;34m\u001b[0m\u001b[0;34m\u001b[0m\u001b[0m\n\u001b[0m\u001b[1;32m    587\u001b[0m             \u001b[0;32mexcept\u001b[0m \u001b[0mtimeout\u001b[0m\u001b[0;34m:\u001b[0m\u001b[0;34m\u001b[0m\u001b[0;34m\u001b[0m\u001b[0m\n\u001b[1;32m    588\u001b[0m                 \u001b[0mself\u001b[0m\u001b[0;34m.\u001b[0m\u001b[0m_timeout_occurred\u001b[0m \u001b[0;34m=\u001b[0m \u001b[0;32mTrue\u001b[0m\u001b[0;34m\u001b[0m\u001b[0;34m\u001b[0m\u001b[0m\n",
            "\u001b[0;31mKeyboardInterrupt\u001b[0m: "
          ]
        }
      ]
    },
    {
      "cell_type": "code",
      "metadata": {
        "id": "gNSemFzsOAFP",
        "colab_type": "code",
        "colab": {
          "base_uri": "https://localhost:8080/",
          "height": 361
        },
        "outputId": "c103313f-6dc2-4f70-a858-187f66538a55"
      },
      "source": [
        "%%spark \n",
        "#plot a histogram \n",
        "n_bins= 10\n",
        "plt.hist(sentiments_df['sentiment'], n_bins, histtype='step', stacked=True, fill = True)\n",
        "plt.title('Histogram of Tweet Sentiments')\n",
        "plt.ylabel('Number of Tweets')\n",
        "plt.xlabel('Sentiment')\n",
        "%matplot plt"
      ],
      "execution_count": null,
      "outputs": [
        {
          "output_type": "error",
          "ename": "KeyboardInterrupt",
          "evalue": "ignored",
          "traceback": [
            "\u001b[0;31m---------------------------------------------------------------------------\u001b[0m",
            "\u001b[0;31mKeyboardInterrupt\u001b[0m                         Traceback (most recent call last)",
            "\u001b[0;32m<ipython-input-8-c21982e4a823>\u001b[0m in \u001b[0;36m<module>\u001b[0;34m()\u001b[0m\n\u001b[0;32m----> 1\u001b[0;31m \u001b[0mget_ipython\u001b[0m\u001b[0;34m(\u001b[0m\u001b[0;34m)\u001b[0m\u001b[0;34m.\u001b[0m\u001b[0mrun_cell_magic\u001b[0m\u001b[0;34m(\u001b[0m\u001b[0;34m'spark'\u001b[0m\u001b[0;34m,\u001b[0m \u001b[0;34m''\u001b[0m\u001b[0;34m,\u001b[0m \u001b[0;34m\"#plot a histogram \\nn_bins= 10\\nplt.hist(sentiments_df['sentiment'], n_bins, histtype='step', stacked=True, fill = True)\\nplt.title('Histogram of Tweet Sentiments')\\nplt.ylabel('Number of Tweets')\\nplt.xlabel('Sentiment')\\n%matplot plt\"\u001b[0m\u001b[0;34m)\u001b[0m\u001b[0;34m\u001b[0m\u001b[0;34m\u001b[0m\u001b[0m\n\u001b[0m",
            "\u001b[0;32m/usr/local/lib/python3.6/dist-packages/IPython/core/interactiveshell.py\u001b[0m in \u001b[0;36mrun_cell_magic\u001b[0;34m(self, magic_name, line, cell)\u001b[0m\n\u001b[1;32m   2115\u001b[0m             \u001b[0mmagic_arg_s\u001b[0m \u001b[0;34m=\u001b[0m \u001b[0mself\u001b[0m\u001b[0;34m.\u001b[0m\u001b[0mvar_expand\u001b[0m\u001b[0;34m(\u001b[0m\u001b[0mline\u001b[0m\u001b[0;34m,\u001b[0m \u001b[0mstack_depth\u001b[0m\u001b[0;34m)\u001b[0m\u001b[0;34m\u001b[0m\u001b[0;34m\u001b[0m\u001b[0m\n\u001b[1;32m   2116\u001b[0m             \u001b[0;32mwith\u001b[0m \u001b[0mself\u001b[0m\u001b[0;34m.\u001b[0m\u001b[0mbuiltin_trap\u001b[0m\u001b[0;34m:\u001b[0m\u001b[0;34m\u001b[0m\u001b[0;34m\u001b[0m\u001b[0m\n\u001b[0;32m-> 2117\u001b[0;31m                 \u001b[0mresult\u001b[0m \u001b[0;34m=\u001b[0m \u001b[0mfn\u001b[0m\u001b[0;34m(\u001b[0m\u001b[0mmagic_arg_s\u001b[0m\u001b[0;34m,\u001b[0m \u001b[0mcell\u001b[0m\u001b[0;34m)\u001b[0m\u001b[0;34m\u001b[0m\u001b[0;34m\u001b[0m\u001b[0m\n\u001b[0m\u001b[1;32m   2118\u001b[0m             \u001b[0;32mreturn\u001b[0m \u001b[0mresult\u001b[0m\u001b[0;34m\u001b[0m\u001b[0;34m\u001b[0m\u001b[0m\n\u001b[1;32m   2119\u001b[0m \u001b[0;34m\u001b[0m\u001b[0m\n",
            "\u001b[0;32m<decorator-gen-125>\u001b[0m in \u001b[0;36mspark\u001b[0;34m(self, *args, **kwargs)\u001b[0m\n",
            "\u001b[0;32m/usr/local/lib/python3.6/dist-packages/IPython/core/magic.py\u001b[0m in \u001b[0;36m<lambda>\u001b[0;34m(f, *a, **k)\u001b[0m\n\u001b[1;32m    186\u001b[0m     \u001b[0;31m# but it's overkill for just that one bit of state.\u001b[0m\u001b[0;34m\u001b[0m\u001b[0;34m\u001b[0m\u001b[0;34m\u001b[0m\u001b[0m\n\u001b[1;32m    187\u001b[0m     \u001b[0;32mdef\u001b[0m \u001b[0mmagic_deco\u001b[0m\u001b[0;34m(\u001b[0m\u001b[0marg\u001b[0m\u001b[0;34m)\u001b[0m\u001b[0;34m:\u001b[0m\u001b[0;34m\u001b[0m\u001b[0;34m\u001b[0m\u001b[0m\n\u001b[0;32m--> 188\u001b[0;31m         \u001b[0mcall\u001b[0m \u001b[0;34m=\u001b[0m \u001b[0;32mlambda\u001b[0m \u001b[0mf\u001b[0m\u001b[0;34m,\u001b[0m \u001b[0;34m*\u001b[0m\u001b[0ma\u001b[0m\u001b[0;34m,\u001b[0m \u001b[0;34m**\u001b[0m\u001b[0mk\u001b[0m\u001b[0;34m:\u001b[0m \u001b[0mf\u001b[0m\u001b[0;34m(\u001b[0m\u001b[0;34m*\u001b[0m\u001b[0ma\u001b[0m\u001b[0;34m,\u001b[0m \u001b[0;34m**\u001b[0m\u001b[0mk\u001b[0m\u001b[0;34m)\u001b[0m\u001b[0;34m\u001b[0m\u001b[0;34m\u001b[0m\u001b[0m\n\u001b[0m\u001b[1;32m    189\u001b[0m \u001b[0;34m\u001b[0m\u001b[0m\n\u001b[1;32m    190\u001b[0m         \u001b[0;32mif\u001b[0m \u001b[0mcallable\u001b[0m\u001b[0;34m(\u001b[0m\u001b[0marg\u001b[0m\u001b[0;34m)\u001b[0m\u001b[0;34m:\u001b[0m\u001b[0;34m\u001b[0m\u001b[0;34m\u001b[0m\u001b[0m\n",
            "\u001b[0;32m/usr/local/lib/python3.6/dist-packages/sparkmagic/livyclientlib/exceptions.py\u001b[0m in \u001b[0;36mwrapped\u001b[0;34m(self, *args, **kwargs)\u001b[0m\n\u001b[1;32m     72\u001b[0m     \u001b[0;32mdef\u001b[0m \u001b[0mwrapped\u001b[0m\u001b[0;34m(\u001b[0m\u001b[0mself\u001b[0m\u001b[0;34m,\u001b[0m \u001b[0;34m*\u001b[0m\u001b[0margs\u001b[0m\u001b[0;34m,\u001b[0m \u001b[0;34m**\u001b[0m\u001b[0mkwargs\u001b[0m\u001b[0;34m)\u001b[0m\u001b[0;34m:\u001b[0m\u001b[0;34m\u001b[0m\u001b[0;34m\u001b[0m\u001b[0m\n\u001b[1;32m     73\u001b[0m         \u001b[0;32mtry\u001b[0m\u001b[0;34m:\u001b[0m\u001b[0;34m\u001b[0m\u001b[0;34m\u001b[0m\u001b[0m\n\u001b[0;32m---> 74\u001b[0;31m             \u001b[0mout\u001b[0m \u001b[0;34m=\u001b[0m \u001b[0mf\u001b[0m\u001b[0;34m(\u001b[0m\u001b[0mself\u001b[0m\u001b[0;34m,\u001b[0m \u001b[0;34m*\u001b[0m\u001b[0margs\u001b[0m\u001b[0;34m,\u001b[0m \u001b[0;34m**\u001b[0m\u001b[0mkwargs\u001b[0m\u001b[0;34m)\u001b[0m\u001b[0;34m\u001b[0m\u001b[0;34m\u001b[0m\u001b[0m\n\u001b[0m\u001b[1;32m     75\u001b[0m         \u001b[0;32mexcept\u001b[0m \u001b[0mexceptions_to_handle\u001b[0m \u001b[0;32mas\u001b[0m \u001b[0merr\u001b[0m\u001b[0;34m:\u001b[0m\u001b[0;34m\u001b[0m\u001b[0;34m\u001b[0m\u001b[0m\n\u001b[1;32m     76\u001b[0m             \u001b[0;32mif\u001b[0m \u001b[0mconf\u001b[0m\u001b[0;34m.\u001b[0m\u001b[0mall_errors_are_fatal\u001b[0m\u001b[0;34m(\u001b[0m\u001b[0;34m)\u001b[0m\u001b[0;34m:\u001b[0m\u001b[0;34m\u001b[0m\u001b[0;34m\u001b[0m\u001b[0m\n",
            "\u001b[0;32m/usr/local/lib/python3.6/dist-packages/sparkmagic/magics/remotesparkmagics.py\u001b[0m in \u001b[0;36mspark\u001b[0;34m(self, line, cell, local_ns)\u001b[0m\n\u001b[1;32m    171\u001b[0m             \u001b[0;32mif\u001b[0m \u001b[0margs\u001b[0m\u001b[0;34m.\u001b[0m\u001b[0mcontext\u001b[0m \u001b[0;34m==\u001b[0m \u001b[0mCONTEXT_NAME_SPARK\u001b[0m\u001b[0;34m:\u001b[0m\u001b[0;34m\u001b[0m\u001b[0;34m\u001b[0m\u001b[0m\n\u001b[1;32m    172\u001b[0m                 return self.execute_spark(cell, args.output, args.samplemethod,\n\u001b[0;32m--> 173\u001b[0;31m                                           args.maxrows, args.samplefraction, args.session, coerce)\n\u001b[0m\u001b[1;32m    174\u001b[0m             \u001b[0;32melif\u001b[0m \u001b[0margs\u001b[0m\u001b[0;34m.\u001b[0m\u001b[0mcontext\u001b[0m \u001b[0;34m==\u001b[0m \u001b[0mCONTEXT_NAME_SQL\u001b[0m\u001b[0;34m:\u001b[0m\u001b[0;34m\u001b[0m\u001b[0;34m\u001b[0m\u001b[0m\n\u001b[1;32m    175\u001b[0m                 return self.execute_sqlquery(cell, args.samplemethod, args.maxrows, args.samplefraction,\n",
            "\u001b[0;32m/usr/local/lib/python3.6/dist-packages/sparkmagic/magics/sparkmagicsbase.py\u001b[0m in \u001b[0;36mexecute_spark\u001b[0;34m(self, cell, output_var, samplemethod, maxrows, samplefraction, session_name, coerce)\u001b[0m\n\u001b[1;32m     79\u001b[0m \u001b[0;34m\u001b[0m\u001b[0m\n\u001b[1;32m     80\u001b[0m     \u001b[0;32mdef\u001b[0m \u001b[0mexecute_spark\u001b[0m\u001b[0;34m(\u001b[0m\u001b[0mself\u001b[0m\u001b[0;34m,\u001b[0m \u001b[0mcell\u001b[0m\u001b[0;34m,\u001b[0m \u001b[0moutput_var\u001b[0m\u001b[0;34m,\u001b[0m \u001b[0msamplemethod\u001b[0m\u001b[0;34m,\u001b[0m \u001b[0mmaxrows\u001b[0m\u001b[0;34m,\u001b[0m \u001b[0msamplefraction\u001b[0m\u001b[0;34m,\u001b[0m \u001b[0msession_name\u001b[0m\u001b[0;34m,\u001b[0m \u001b[0mcoerce\u001b[0m\u001b[0;34m)\u001b[0m\u001b[0;34m:\u001b[0m\u001b[0;34m\u001b[0m\u001b[0;34m\u001b[0m\u001b[0m\n\u001b[0;32m---> 81\u001b[0;31m         \u001b[0;34m(\u001b[0m\u001b[0msuccess\u001b[0m\u001b[0;34m,\u001b[0m \u001b[0mout\u001b[0m\u001b[0;34m,\u001b[0m \u001b[0mmimetype\u001b[0m\u001b[0;34m)\u001b[0m \u001b[0;34m=\u001b[0m \u001b[0mself\u001b[0m\u001b[0;34m.\u001b[0m\u001b[0mspark_controller\u001b[0m\u001b[0;34m.\u001b[0m\u001b[0mrun_command\u001b[0m\u001b[0;34m(\u001b[0m\u001b[0mCommand\u001b[0m\u001b[0;34m(\u001b[0m\u001b[0mcell\u001b[0m\u001b[0;34m)\u001b[0m\u001b[0;34m,\u001b[0m \u001b[0msession_name\u001b[0m\u001b[0;34m)\u001b[0m\u001b[0;34m\u001b[0m\u001b[0;34m\u001b[0m\u001b[0m\n\u001b[0m\u001b[1;32m     82\u001b[0m         \u001b[0;32mif\u001b[0m \u001b[0;32mnot\u001b[0m \u001b[0msuccess\u001b[0m\u001b[0;34m:\u001b[0m\u001b[0;34m\u001b[0m\u001b[0;34m\u001b[0m\u001b[0m\n\u001b[1;32m     83\u001b[0m             \u001b[0;32mif\u001b[0m \u001b[0mconf\u001b[0m\u001b[0;34m.\u001b[0m\u001b[0mshutdown_session_on_spark_statement_errors\u001b[0m\u001b[0;34m(\u001b[0m\u001b[0;34m)\u001b[0m\u001b[0;34m:\u001b[0m\u001b[0;34m\u001b[0m\u001b[0;34m\u001b[0m\u001b[0m\n",
            "\u001b[0;32m/usr/local/lib/python3.6/dist-packages/sparkmagic/livyclientlib/sparkcontroller.py\u001b[0m in \u001b[0;36mrun_command\u001b[0;34m(self, command, client_name)\u001b[0m\n\u001b[1;32m     38\u001b[0m     \u001b[0;32mdef\u001b[0m \u001b[0mrun_command\u001b[0m\u001b[0;34m(\u001b[0m\u001b[0mself\u001b[0m\u001b[0;34m,\u001b[0m \u001b[0mcommand\u001b[0m\u001b[0;34m,\u001b[0m \u001b[0mclient_name\u001b[0m\u001b[0;34m=\u001b[0m\u001b[0;32mNone\u001b[0m\u001b[0;34m)\u001b[0m\u001b[0;34m:\u001b[0m\u001b[0;34m\u001b[0m\u001b[0;34m\u001b[0m\u001b[0m\n\u001b[1;32m     39\u001b[0m         \u001b[0msession_to_use\u001b[0m \u001b[0;34m=\u001b[0m \u001b[0mself\u001b[0m\u001b[0;34m.\u001b[0m\u001b[0mget_session_by_name_or_default\u001b[0m\u001b[0;34m(\u001b[0m\u001b[0mclient_name\u001b[0m\u001b[0;34m)\u001b[0m\u001b[0;34m\u001b[0m\u001b[0;34m\u001b[0m\u001b[0m\n\u001b[0;32m---> 40\u001b[0;31m         \u001b[0;32mreturn\u001b[0m \u001b[0mcommand\u001b[0m\u001b[0;34m.\u001b[0m\u001b[0mexecute\u001b[0m\u001b[0;34m(\u001b[0m\u001b[0msession_to_use\u001b[0m\u001b[0;34m)\u001b[0m\u001b[0;34m\u001b[0m\u001b[0;34m\u001b[0m\u001b[0m\n\u001b[0m\u001b[1;32m     41\u001b[0m \u001b[0;34m\u001b[0m\u001b[0m\n\u001b[1;32m     42\u001b[0m     \u001b[0;32mdef\u001b[0m \u001b[0mrun_sqlquery\u001b[0m\u001b[0;34m(\u001b[0m\u001b[0mself\u001b[0m\u001b[0;34m,\u001b[0m \u001b[0msqlquery\u001b[0m\u001b[0;34m,\u001b[0m \u001b[0mclient_name\u001b[0m\u001b[0;34m=\u001b[0m\u001b[0;32mNone\u001b[0m\u001b[0;34m)\u001b[0m\u001b[0;34m:\u001b[0m\u001b[0;34m\u001b[0m\u001b[0;34m\u001b[0m\u001b[0m\n",
            "\u001b[0;32m/usr/local/lib/python3.6/dist-packages/sparkmagic/livyclientlib/command.py\u001b[0m in \u001b[0;36mexecute\u001b[0;34m(self, session)\u001b[0m\n\u001b[1;32m     38\u001b[0m         \u001b[0mstatement_id\u001b[0m \u001b[0;34m=\u001b[0m \u001b[0;34m-\u001b[0m\u001b[0;36m1\u001b[0m\u001b[0;34m\u001b[0m\u001b[0;34m\u001b[0m\u001b[0m\n\u001b[1;32m     39\u001b[0m         \u001b[0;32mtry\u001b[0m\u001b[0;34m:\u001b[0m\u001b[0;34m\u001b[0m\u001b[0;34m\u001b[0m\u001b[0m\n\u001b[0;32m---> 40\u001b[0;31m             \u001b[0msession\u001b[0m\u001b[0;34m.\u001b[0m\u001b[0mwait_for_idle\u001b[0m\u001b[0;34m(\u001b[0m\u001b[0;34m)\u001b[0m\u001b[0;34m\u001b[0m\u001b[0;34m\u001b[0m\u001b[0m\n\u001b[0m\u001b[1;32m     41\u001b[0m             \u001b[0mdata\u001b[0m \u001b[0;34m=\u001b[0m \u001b[0;34m{\u001b[0m\u001b[0;34mu\"code\"\u001b[0m\u001b[0;34m:\u001b[0m \u001b[0mself\u001b[0m\u001b[0;34m.\u001b[0m\u001b[0mcode\u001b[0m\u001b[0;34m}\u001b[0m\u001b[0;34m\u001b[0m\u001b[0;34m\u001b[0m\u001b[0m\n\u001b[1;32m     42\u001b[0m             \u001b[0mresponse\u001b[0m \u001b[0;34m=\u001b[0m \u001b[0msession\u001b[0m\u001b[0;34m.\u001b[0m\u001b[0mhttp_client\u001b[0m\u001b[0;34m.\u001b[0m\u001b[0mpost_statement\u001b[0m\u001b[0;34m(\u001b[0m\u001b[0msession\u001b[0m\u001b[0;34m.\u001b[0m\u001b[0mid\u001b[0m\u001b[0;34m,\u001b[0m \u001b[0mdata\u001b[0m\u001b[0;34m)\u001b[0m\u001b[0;34m\u001b[0m\u001b[0;34m\u001b[0m\u001b[0m\n",
            "\u001b[0;32m/usr/local/lib/python3.6/dist-packages/sparkmagic/livyclientlib/livysession.py\u001b[0m in \u001b[0;36mwait_for_idle\u001b[0;34m(self, seconds_to_wait)\u001b[0m\n\u001b[1;32m    276\u001b[0m             self.logger.debug(u\"Session {} in state {}. Sleeping {} seconds.\"\n\u001b[1;32m    277\u001b[0m                               .format(self.id, self.status, sleep_time))\n\u001b[0;32m--> 278\u001b[0;31m             \u001b[0msleep\u001b[0m\u001b[0;34m(\u001b[0m\u001b[0msleep_time\u001b[0m\u001b[0;34m)\u001b[0m\u001b[0;34m\u001b[0m\u001b[0;34m\u001b[0m\u001b[0m\n\u001b[0m\u001b[1;32m    279\u001b[0m             \u001b[0mseconds_to_wait\u001b[0m \u001b[0;34m-=\u001b[0m \u001b[0mtime\u001b[0m\u001b[0;34m(\u001b[0m\u001b[0;34m)\u001b[0m \u001b[0;34m-\u001b[0m \u001b[0mstart_time\u001b[0m\u001b[0;34m\u001b[0m\u001b[0;34m\u001b[0m\u001b[0m\n\u001b[1;32m    280\u001b[0m \u001b[0;34m\u001b[0m\u001b[0m\n",
            "\u001b[0;31mKeyboardInterrupt\u001b[0m: "
          ]
        }
      ]
    },
    {
      "cell_type": "markdown",
      "metadata": {
        "id": "VC4oxk2AGTF9",
        "colab_type": "text"
      },
      "source": [
        "#Modeling\n",
        "Given all the information we have, let's now try to create a model that can predict the number of likes a tweet will have. Since we are inputting a set of features to predict a numeric value, tweets' favorited counts, we should use a linear regression model as was done in HW4. Lasso seemes especially useful for our case (mainly just the text) since a small number of features carry a lot of weight, and lasso would reduce overfitting. "
      ]
    },
    {
      "cell_type": "markdown",
      "metadata": {
        "id": "C8fLnlBFGeXl",
        "colab_type": "text"
      },
      "source": [
        "##Cleaning & Feature Engineering\n",
        "The data is already mostly in the format we want, but let's go ahead and drop the columns we don't want such as status id, username of the user, account lang, and location data (most of the location data is missing). Furthemore, let's clean the tweet text so they don't include any mentions, hyperlinks, or RT tags as done before so the sentiment analysis works. We'll also want to tokenize the text and remove stopwords so that we can turn out tweet text into a vector later on. Finally, from the remaining tweets, let's drop any that have any null values. "
      ]
    },
    {
      "cell_type": "code",
      "metadata": {
        "id": "tNM5wXa1Fz6i",
        "colab_type": "code",
        "colab": {
          "base_uri": "https://localhost:8080/",
          "height": 34,
          "referenced_widgets": [
            "02095def4066420898a4378bb66f31f9",
            "5cef8f3e42a94b5e91de2006729a0428",
            "4670b890b4fe46c7b42adddedf92bd31"
          ]
        },
        "outputId": "19f468ae-0ba1-4a80-d1fd-f0c2e767fd68"
      },
      "source": [
        "%%spark \n",
        "from pyspark.sql.types import *\n",
        "import nltk\n",
        "import re\n",
        "import numpy as np\n",
        "from nltk.sentiment.vader import SentimentIntensityAnalyzer\n",
        "#relevant functions again so I don't have to keep running all the cells before\n",
        "\n",
        "def get_log(num):\n",
        "  return np.log(int(num))\n",
        "\n",
        "spark.udf.register(\"NP_LOG\", get_log, FloatType())\n",
        "\n",
        "def get_num_mentions(text): \n",
        "  mentions = re.findall(\"[@]\\w+\", text)\n",
        "  return len(mentions)\n",
        "\n",
        "spark.udf.register(\"GET_NUM_MENTIONS\", get_num_mentions, IntegerType())\n",
        "\n",
        "def get_num_hashtags(text): \n",
        "  tags = re.findall(\"[#]\\w+\", text)\n",
        "  return len(tags)\n",
        "\n",
        "spark.udf.register(\"GET_NUM_HASHTAGS\", get_num_hashtags, IntegerType())\n",
        "\n",
        "def get_weekday(date):\n",
        "  weekday = date % 7\n",
        "  if weekday == 0:\n",
        "    return 7\n",
        "  else:\n",
        "    return weekday\n",
        "spark.udf.register(\"GET_WEEKDAY\", get_weekday, IntegerType())\n",
        "\n",
        "def clean_text(text): \n",
        "  text = re.sub(r'@[A-Za-z0-]+', '', text) # remove @mentions\n",
        "  text = re.sub(r'RT[\\s]+', '', text) # remove RT from end of retweets\n",
        "  text = re.sub(r'https?:\\/\\/\\S+', '', text) # remove hyperlinks\n",
        "  return text\n",
        "\n",
        "def get_num_chars(text):\n",
        "  cleaned = clean_text(text)\n",
        "  return len(cleaned)\n",
        "\n",
        "spark.udf.register(\"GET_NUM_CHARS\", get_num_chars, IntegerType())\n",
        "\n",
        "\n",
        "def get_sentiment(text): \n",
        "  cleaned_text = clean_text(text)\n",
        "  score = SentimentIntensityAnalyzer().polarity_scores(cleaned_text)\n",
        "  return score['compound']\n",
        "\n",
        "spark.udf.register(\"GET_SENTIMENT\", get_sentiment, FloatType())"
      ],
      "execution_count": null,
      "outputs": [
        {
          "output_type": "display_data",
          "data": {
            "application/vnd.jupyter.widget-view+json": {
              "model_id": "02095def4066420898a4378bb66f31f9",
              "version_minor": 0,
              "version_major": 2
            },
            "text/plain": [
              "FloatProgress(value=0.0, bar_style='info', description='Progress:', layout=Layout(height='25px', width='50%'),…"
            ]
          },
          "metadata": {
            "tags": []
          }
        },
        {
          "output_type": "stream",
          "text": [
            "<function get_sentiment at 0x7f8fbd84d1e0>"
          ],
          "name": "stdout"
        }
      ]
    },
    {
      "cell_type": "code",
      "metadata": {
        "id": "6PEJbh7SvCsp",
        "colab_type": "code",
        "colab": {
          "base_uri": "https://localhost:8080/",
          "height": 17,
          "referenced_widgets": [
            "8fc2e90cd862475a9e03e787e225207c",
            "f805513082da489e9ee1e61b4f09ec8a",
            "ccefcde708cd498fa6ce36ec4ed5d2a4"
          ]
        },
        "outputId": "5967e3fd-259f-47af-9818-7177b9a31919"
      },
      "source": [
        "%%spark\n",
        "#cast to correct data types\n",
        "raw_tweet_sdf['favourites_count'].cast(IntegerType())\n",
        "raw_tweet_sdf['followers_count'].cast(IntegerType())\n",
        "raw_tweet_sdf['friends_count'].cast(IntegerType())\n",
        "raw_tweet_sdf['retweet_count'].cast(IntegerType())\n",
        "\n",
        "raw_tweet_sdf['verified'].cast(BooleanType())\n",
        "raw_tweet_sdf['is_quote'].cast(BooleanType())\n",
        "raw_tweet_sdf['is_retweet'].cast(BooleanType())\n",
        "raw_tweet_sdf.createOrReplaceTempView('raw_tweets')"
      ],
      "execution_count": null,
      "outputs": [
        {
          "output_type": "display_data",
          "data": {
            "application/vnd.jupyter.widget-view+json": {
              "model_id": "8fc2e90cd862475a9e03e787e225207c",
              "version_minor": 0,
              "version_major": 2
            },
            "text/plain": [
              "FloatProgress(value=0.0, bar_style='info', description='Progress:', layout=Layout(height='25px', width='50%'),…"
            ]
          },
          "metadata": {
            "tags": []
          }
        }
      ]
    },
    {
      "cell_type": "code",
      "metadata": {
        "id": "sDmXH2EYnstO",
        "colab_type": "code",
        "colab": {
          "base_uri": "https://localhost:8080/",
          "height": 224,
          "referenced_widgets": [
            "d719fe26402942a793a8497c572ce753",
            "7a62b6f143234af3af6088726cec2587",
            "68a75da95b8d44699c6ba63f2902a930"
          ]
        },
        "outputId": "55d80b83-f026-4944-d4d7-2d0f8659c93b"
      },
      "source": [
        "%%spark\n",
        "#select only useful columns and add relevant features \n",
        " \n",
        "q = \"\"\"\n",
        "SELECT \n",
        "  status_id,\n",
        "  EXTRACT(DAY FROM TO_DATE(created_at)) AS day_posted,\n",
        "  (favourites_count) as fav_log, \n",
        "  followers_count), \n",
        "  friends_count),\n",
        "  is_quote,\n",
        "  is_retweet, \n",
        "  (retweet_count),\n",
        "  text,\n",
        "  (GET_NUM_CHARS(text)) as log_length,\n",
        "  (GET_NUM_MENTIONS(text)) as log_mentions, \n",
        "  (GET_NUM_HASHTAGS(text)) as log_hashtags,\n",
        "  GET_SENTIMENT(text) as sentiment,\n",
        "  verified AS is_verified \n",
        "FROM raw_tweets\n",
        "WHERE text IS NOT NULL AND created_at IS NOT NULL\n",
        "\"\"\"\n",
        "tweets_sdf = spark.sql(q)\n",
        "tweets_sdf.show()\n",
        "tweets_sdf.createOrReplaceTempView(\"tweets_useful_sdf\")"
      ],
      "execution_count": null,
      "outputs": [
        {
          "output_type": "display_data",
          "data": {
            "application/vnd.jupyter.widget-view+json": {
              "model_id": "d719fe26402942a793a8497c572ce753",
              "version_minor": 0,
              "version_major": 2
            },
            "text/plain": [
              "FloatProgress(value=0.0, bar_style='info', description='Progress:', layout=Layout(height='25px', width='50%'),…"
            ]
          },
          "metadata": {
            "tags": []
          }
        },
        {
          "output_type": "stream",
          "text": [
            "An error was encountered:\n",
            "\"\\nmismatched input ')' expecting <EOF>(line 6, pos 17)\\n\\n== SQL ==\\n\\nSELECT \\n  status_id,\\n  EXTRACT(DAY FROM TO_DATE(created_at)) AS day_posted,\\n  (favourites_count) as fav_log, \\n  followers_count), \\n-----------------^^^\\n  friends_count),\\n  is_quote,\\n  is_retweet, \\n  (retweet_count),\\n  text,\\n  (GET_NUM_CHARS(text)) as log_length,\\n  (GET_NUM_MENTIONS(text)) as log_mentions, \\n  (GET_NUM_HASHTAGS(text)) as log_hashtags,\\n  GET_SENTIMENT(text) as sentiment,\\n  verified AS is_verified \\nFROM raw_tweets\\nWHERE text IS NOT NULL AND created_at IS NOT NULL\\n\"\n",
            "Traceback (most recent call last):\n",
            "  File \"/usr/lib/spark/python/lib/pyspark.zip/pyspark/sql/session.py\", line 767, in sql\n",
            "    return DataFrame(self._jsparkSession.sql(sqlQuery), self._wrapped)\n",
            "  File \"/usr/lib/spark/python/lib/py4j-0.10.7-src.zip/py4j/java_gateway.py\", line 1257, in __call__\n",
            "    answer, self.gateway_client, self.target_id, self.name)\n",
            "  File \"/usr/lib/spark/python/lib/pyspark.zip/pyspark/sql/utils.py\", line 73, in deco\n",
            "    raise ParseException(s.split(': ', 1)[1], stackTrace)\n",
            "pyspark.sql.utils.ParseException: \"\\nmismatched input ')' expecting <EOF>(line 6, pos 17)\\n\\n== SQL ==\\n\\nSELECT \\n  status_id,\\n  EXTRACT(DAY FROM TO_DATE(created_at)) AS day_posted,\\n  (favourites_count) as fav_log, \\n  followers_count), \\n-----------------^^^\\n  friends_count),\\n  is_quote,\\n  is_retweet, \\n  (retweet_count),\\n  text,\\n  (GET_NUM_CHARS(text)) as log_length,\\n  (GET_NUM_MENTIONS(text)) as log_mentions, \\n  (GET_NUM_HASHTAGS(text)) as log_hashtags,\\n  GET_SENTIMENT(text) as sentiment,\\n  verified AS is_verified \\nFROM raw_tweets\\nWHERE text IS NOT NULL AND created_at IS NOT NULL\\n\"\n",
            "\n"
          ],
          "name": "stderr"
        }
      ]
    },
    {
      "cell_type": "markdown",
      "metadata": {
        "id": "JT7_5Vj1AwVm",
        "colab_type": "text"
      },
      "source": [
        "###Vectorizing\n",
        "In order to put the data into our linear regression model, we must represent the tweet text in a numeric way. This can be accomplished by obtaining an average word vector for the tweet using the Word2Vec Library. This didn't end up working..."
      ]
    },
    {
      "cell_type": "code",
      "metadata": {
        "id": "ou0lHJ_hjb6F",
        "colab_type": "code",
        "colab": {
          "base_uri": "https://localhost:8080/",
          "height": 173,
          "referenced_widgets": [
            "da0e94c14cd34a00b0718ccec3fd13d5",
            "a7f3979a032343c098e69290807a4de8",
            "ece0f84a3e41442eb037652bdf159a69"
          ]
        },
        "outputId": "2b21ff02-48cc-40d5-9ee6-f6cec99a10cb"
      },
      "source": [
        "%%spark \n",
        "#tokenize\n",
        "from pyspark.ml.feature import RegexTokenizer\n",
        "regexTokenizer = RegexTokenizer(gaps = False, pattern = '\\w+', inputCol = 'text', outputCol = 'text_token')\n",
        "tweets_tokened_sdf = regexTokenizer.transform(tweets_sdf)\n",
        "tweets_tokened_sdf.show(3)"
      ],
      "execution_count": null,
      "outputs": [
        {
          "output_type": "display_data",
          "data": {
            "application/vnd.jupyter.widget-view+json": {
              "model_id": "da0e94c14cd34a00b0718ccec3fd13d5",
              "version_minor": 0,
              "version_major": 2
            },
            "text/plain": [
              "FloatProgress(value=0.0, bar_style='info', description='Progress:', layout=Layout(height='25px', width='50%'),…"
            ]
          },
          "metadata": {
            "tags": []
          }
        },
        {
          "output_type": "stream",
          "text": [
            "+-------------------+----------+----------------+---------------+-------------+--------+----------+-------------+--------------------+------+------------+------------+---------+-----------+--------------------+\n",
            "|          status_id|day_posted|favourites_count|followers_count|friends_count|is_quote|is_retweet|retweet_count|                text|length|num_mentions|num_hashtags|sentiment|is_verified|          text_token|\n",
            "+-------------------+----------+----------------+---------------+-------------+--------+----------+-------------+--------------------+------+------------+------------+---------+-----------+--------------------+\n",
            "|1235160526780416001|         4|             797|             21|          142|   FALSE|     FALSE|            0|#CoronaVirusIndon...|    87|           0|           4|      0.0|      FALSE|[coronavirusindon...|\n",
            "|1235160526780416001|         4|             797|             21|          142|   FALSE|     FALSE|            0|#CoronaVirusIndon...|    87|           0|           4|      0.0|      FALSE|[coronavirusindon...|\n",
            "|1235160546451873797|         4|            1697|           5666|         2796|   FALSE|     FALSE|            2|China’s wildlife ...|   125|           1|           8|     0.34|      FALSE|[china, s, wildli...|\n",
            "+-------------------+----------+----------------+---------------+-------------+--------+----------+-------------+--------------------+------+------------+------------+---------+-----------+--------------------+\n",
            "only showing top 3 rows"
          ],
          "name": "stdout"
        }
      ]
    },
    {
      "cell_type": "code",
      "metadata": {
        "id": "Bb4AjohCqoVy",
        "colab_type": "code",
        "colab": {
          "base_uri": "https://localhost:8080/",
          "height": 173,
          "referenced_widgets": [
            "1d91f394d23a4ad8bbeb9c3fcdd065fa",
            "d2e6d474b2db4f069961bc9bb4ef2577",
            "5d266d996f004a7f8fe869db0c96cc49"
          ]
        },
        "outputId": "068d844d-bfd4-4d4c-f598-93ff9dd25acc"
      },
      "source": [
        "%%spark \n",
        "# remove stopwords\n",
        "from pyspark.ml.feature import StopWordsRemover\n",
        "swr = StopWordsRemover(inputCol = 'text_token', outputCol = 'text_sw_removed')\n",
        "\n",
        "tweets_stop_rmv_sdf = swr.transform(tweets_tokened_sdf)\n",
        "tweets_stop_rmv_sdf.show(3)\n",
        "\n",
        "tweets_stop_rmv_sdf.createOrReplaceTempView(\"stops_rmv_sdf\")"
      ],
      "execution_count": null,
      "outputs": [
        {
          "output_type": "display_data",
          "data": {
            "application/vnd.jupyter.widget-view+json": {
              "model_id": "1d91f394d23a4ad8bbeb9c3fcdd065fa",
              "version_minor": 0,
              "version_major": 2
            },
            "text/plain": [
              "FloatProgress(value=0.0, bar_style='info', description='Progress:', layout=Layout(height='25px', width='50%'),…"
            ]
          },
          "metadata": {
            "tags": []
          }
        },
        {
          "output_type": "stream",
          "text": [
            "+-------------------+----------+----------------+---------------+-------------+--------+----------+-------------+--------------------+------+------------+------------+---------+-----------+--------------------+--------------------+\n",
            "|          status_id|day_posted|favourites_count|followers_count|friends_count|is_quote|is_retweet|retweet_count|                text|length|num_mentions|num_hashtags|sentiment|is_verified|          text_token|     text_sw_removed|\n",
            "+-------------------+----------+----------------+---------------+-------------+--------+----------+-------------+--------------------+------+------------+------------+---------+-----------+--------------------+--------------------+\n",
            "|1235160526780416001|         4|             797|             21|          142|   FALSE|     FALSE|            0|#CoronaVirusIndon...|    87|           0|           4|      0.0|      FALSE|[coronavirusindon...|[coronavirusindon...|\n",
            "|1235160526780416001|         4|             797|             21|          142|   FALSE|     FALSE|            0|#CoronaVirusIndon...|    87|           0|           4|      0.0|      FALSE|[coronavirusindon...|[coronavirusindon...|\n",
            "|1235160546451873797|         4|            1697|           5666|         2796|   FALSE|     FALSE|            2|China’s wildlife ...|   125|           1|           8|     0.34|      FALSE|[china, s, wildli...|[china, wildlife,...|\n",
            "+-------------------+----------+----------------+---------------+-------------+--------+----------+-------------+--------------------+------+------------+------------+---------+-----------+--------------------+--------------------+\n",
            "only showing top 3 rows"
          ],
          "name": "stdout"
        }
      ]
    },
    {
      "cell_type": "markdown",
      "metadata": {
        "id": "1C2pJ05gYFPn",
        "colab_type": "text"
      },
      "source": [
        "Now, this is still too much data for Word2Vec to handle. We have 12 millions tweets each with multiple words which multiplied together is a lot of computations. Thus, let's only keep the top million occuring words and remove all the others that aren't very common so we can reduce our data down to something Word2Vec can work with. \n"
      ]
    },
    {
      "cell_type": "code",
      "metadata": {
        "id": "_NtX2K9GB_VP",
        "colab_type": "code",
        "colab": {
          "base_uri": "https://localhost:8080/",
          "height": 54,
          "referenced_widgets": [
            "8fba4df8fbaf429b9397a8179d2ee2c8",
            "e882613cff6f4b1287ab6b4da68c5d55",
            "7aec357cccfc4414a4b2d7dcf97d3bf5"
          ]
        },
        "outputId": "64796c26-edcb-481b-effa-ee1e86c8cb9e"
      },
      "source": [
        "%%spark \n",
        "weights = [1.0] * 100\n",
        "list_dfs = tweets_stop_rmv_sdf.randomSplit(weights, 1)\n",
        "list_dfs[0]"
      ],
      "execution_count": null,
      "outputs": [
        {
          "output_type": "display_data",
          "data": {
            "application/vnd.jupyter.widget-view+json": {
              "model_id": "8fba4df8fbaf429b9397a8179d2ee2c8",
              "version_minor": 0,
              "version_major": 2
            },
            "text/plain": [
              "FloatProgress(value=0.0, bar_style='info', description='Progress:', layout=Layout(height='25px', width='50%'),…"
            ]
          },
          "metadata": {
            "tags": []
          }
        },
        {
          "output_type": "stream",
          "text": [
            "DataFrame[status_id: string, day_posted: int, favourites_count: string, followers_count: string, friends_count: string, is_quote: string, is_retweet: string, retweet_count: string, text: string, length: int, num_mentions: int, num_hashtags: int, sentiment: float, is_verified: string, text_token: array<string>, text_sw_removed: array<string>]"
          ],
          "name": "stdout"
        }
      ]
    },
    {
      "cell_type": "code",
      "metadata": {
        "id": "cQeJ7i49gVyO",
        "colab_type": "code",
        "colab": {
          "base_uri": "https://localhost:8080/",
          "height": 51
        },
        "outputId": "b0f7dc28-c6a7-496c-a4af-862c334e907f"
      },
      "source": [
        "%%spark \n",
        "list_dfs[0].count()"
      ],
      "execution_count": null,
      "outputs": [
        {
          "output_type": "stream",
          "text": [
            "An error was encountered:\n",
            "Session 38 did not reach idle status in time. Current status is busy.\n"
          ],
          "name": "stderr"
        }
      ]
    },
    {
      "cell_type": "code",
      "metadata": {
        "id": "_k48enpyME1s",
        "colab_type": "code",
        "colab": {
          "base_uri": "https://localhost:8080/",
          "height": 390,
          "referenced_widgets": [
            "b6e832ba566d4255942c4381d68c570b",
            "628a0a23a00342398f88514c0e720639",
            "3137aa8ef3bc4d0fa9175099aef52397"
          ]
        },
        "outputId": "3a691ee7-bf67-45c5-92fa-612f7c56c965"
      },
      "source": [
        "%%spark \n",
        "#feed each piece of df into word2vec\n",
        "from pyspark.ml.feature import Word2Vec\n",
        "list_results = []\n",
        "for df in list_dfs:\n",
        "  word2vec = Word2Vec(vectorSize = 30, minCount = 5, inputCol = 'text_sw_removed', outputCol = 'result')\n",
        "  model = word2vec.fit(df)\n",
        "  result = model.transform(df)\n",
        "  list_results.append(result)"
      ],
      "execution_count": null,
      "outputs": [
        {
          "output_type": "display_data",
          "data": {
            "application/vnd.jupyter.widget-view+json": {
              "model_id": "b6e832ba566d4255942c4381d68c570b",
              "version_minor": 0,
              "version_major": 2
            },
            "text/plain": [
              "FloatProgress(value=0.0, bar_style='info', description='Progress:', layout=Layout(height='25px', width='50%'),…"
            ]
          },
          "metadata": {
            "tags": []
          }
        },
        {
          "output_type": "error",
          "ename": "KeyboardInterrupt",
          "evalue": "ignored",
          "traceback": [
            "\u001b[0;31m---------------------------------------------------------------------------\u001b[0m",
            "\u001b[0;31mKeyboardInterrupt\u001b[0m                         Traceback (most recent call last)",
            "\u001b[0;32m<ipython-input-12-e85f804ca206>\u001b[0m in \u001b[0;36m<module>\u001b[0;34m()\u001b[0m\n\u001b[0;32m----> 1\u001b[0;31m \u001b[0mget_ipython\u001b[0m\u001b[0;34m(\u001b[0m\u001b[0;34m)\u001b[0m\u001b[0;34m.\u001b[0m\u001b[0mrun_cell_magic\u001b[0m\u001b[0;34m(\u001b[0m\u001b[0;34m'spark'\u001b[0m\u001b[0;34m,\u001b[0m \u001b[0;34m''\u001b[0m\u001b[0;34m,\u001b[0m \u001b[0;34m\"#feed each piece of df into word2vec\\nfrom pyspark.ml.feature import Word2Vec\\nlist_results = []\\nfor df in list_dfs:\\n  word2vec = Word2Vec(vectorSize = 30, minCount = 5, inputCol = 'text_sw_removed', outputCol = 'result')\\n  model = word2vec.fit(df)\\n  result = model.transform(df)\\n  list_results.append(result)\"\u001b[0m\u001b[0;34m)\u001b[0m\u001b[0;34m\u001b[0m\u001b[0;34m\u001b[0m\u001b[0m\n\u001b[0m",
            "\u001b[0;32m/usr/local/lib/python3.6/dist-packages/IPython/core/interactiveshell.py\u001b[0m in \u001b[0;36mrun_cell_magic\u001b[0;34m(self, magic_name, line, cell)\u001b[0m\n\u001b[1;32m   2115\u001b[0m             \u001b[0mmagic_arg_s\u001b[0m \u001b[0;34m=\u001b[0m \u001b[0mself\u001b[0m\u001b[0;34m.\u001b[0m\u001b[0mvar_expand\u001b[0m\u001b[0;34m(\u001b[0m\u001b[0mline\u001b[0m\u001b[0;34m,\u001b[0m \u001b[0mstack_depth\u001b[0m\u001b[0;34m)\u001b[0m\u001b[0;34m\u001b[0m\u001b[0;34m\u001b[0m\u001b[0m\n\u001b[1;32m   2116\u001b[0m             \u001b[0;32mwith\u001b[0m \u001b[0mself\u001b[0m\u001b[0;34m.\u001b[0m\u001b[0mbuiltin_trap\u001b[0m\u001b[0;34m:\u001b[0m\u001b[0;34m\u001b[0m\u001b[0;34m\u001b[0m\u001b[0m\n\u001b[0;32m-> 2117\u001b[0;31m                 \u001b[0mresult\u001b[0m \u001b[0;34m=\u001b[0m \u001b[0mfn\u001b[0m\u001b[0;34m(\u001b[0m\u001b[0mmagic_arg_s\u001b[0m\u001b[0;34m,\u001b[0m \u001b[0mcell\u001b[0m\u001b[0;34m)\u001b[0m\u001b[0;34m\u001b[0m\u001b[0;34m\u001b[0m\u001b[0m\n\u001b[0m\u001b[1;32m   2118\u001b[0m             \u001b[0;32mreturn\u001b[0m \u001b[0mresult\u001b[0m\u001b[0;34m\u001b[0m\u001b[0;34m\u001b[0m\u001b[0m\n\u001b[1;32m   2119\u001b[0m \u001b[0;34m\u001b[0m\u001b[0m\n",
            "\u001b[0;32m<decorator-gen-125>\u001b[0m in \u001b[0;36mspark\u001b[0;34m(self, *args, **kwargs)\u001b[0m\n",
            "\u001b[0;32m/usr/local/lib/python3.6/dist-packages/IPython/core/magic.py\u001b[0m in \u001b[0;36m<lambda>\u001b[0;34m(f, *a, **k)\u001b[0m\n\u001b[1;32m    186\u001b[0m     \u001b[0;31m# but it's overkill for just that one bit of state.\u001b[0m\u001b[0;34m\u001b[0m\u001b[0;34m\u001b[0m\u001b[0;34m\u001b[0m\u001b[0m\n\u001b[1;32m    187\u001b[0m     \u001b[0;32mdef\u001b[0m \u001b[0mmagic_deco\u001b[0m\u001b[0;34m(\u001b[0m\u001b[0marg\u001b[0m\u001b[0;34m)\u001b[0m\u001b[0;34m:\u001b[0m\u001b[0;34m\u001b[0m\u001b[0;34m\u001b[0m\u001b[0m\n\u001b[0;32m--> 188\u001b[0;31m         \u001b[0mcall\u001b[0m \u001b[0;34m=\u001b[0m \u001b[0;32mlambda\u001b[0m \u001b[0mf\u001b[0m\u001b[0;34m,\u001b[0m \u001b[0;34m*\u001b[0m\u001b[0ma\u001b[0m\u001b[0;34m,\u001b[0m \u001b[0;34m**\u001b[0m\u001b[0mk\u001b[0m\u001b[0;34m:\u001b[0m \u001b[0mf\u001b[0m\u001b[0;34m(\u001b[0m\u001b[0;34m*\u001b[0m\u001b[0ma\u001b[0m\u001b[0;34m,\u001b[0m \u001b[0;34m**\u001b[0m\u001b[0mk\u001b[0m\u001b[0;34m)\u001b[0m\u001b[0;34m\u001b[0m\u001b[0;34m\u001b[0m\u001b[0m\n\u001b[0m\u001b[1;32m    189\u001b[0m \u001b[0;34m\u001b[0m\u001b[0m\n\u001b[1;32m    190\u001b[0m         \u001b[0;32mif\u001b[0m \u001b[0mcallable\u001b[0m\u001b[0;34m(\u001b[0m\u001b[0marg\u001b[0m\u001b[0;34m)\u001b[0m\u001b[0;34m:\u001b[0m\u001b[0;34m\u001b[0m\u001b[0;34m\u001b[0m\u001b[0m\n",
            "\u001b[0;32m/usr/local/lib/python3.6/dist-packages/sparkmagic/livyclientlib/exceptions.py\u001b[0m in \u001b[0;36mwrapped\u001b[0;34m(self, *args, **kwargs)\u001b[0m\n\u001b[1;32m     72\u001b[0m     \u001b[0;32mdef\u001b[0m \u001b[0mwrapped\u001b[0m\u001b[0;34m(\u001b[0m\u001b[0mself\u001b[0m\u001b[0;34m,\u001b[0m \u001b[0;34m*\u001b[0m\u001b[0margs\u001b[0m\u001b[0;34m,\u001b[0m \u001b[0;34m**\u001b[0m\u001b[0mkwargs\u001b[0m\u001b[0;34m)\u001b[0m\u001b[0;34m:\u001b[0m\u001b[0;34m\u001b[0m\u001b[0;34m\u001b[0m\u001b[0m\n\u001b[1;32m     73\u001b[0m         \u001b[0;32mtry\u001b[0m\u001b[0;34m:\u001b[0m\u001b[0;34m\u001b[0m\u001b[0;34m\u001b[0m\u001b[0m\n\u001b[0;32m---> 74\u001b[0;31m             \u001b[0mout\u001b[0m \u001b[0;34m=\u001b[0m \u001b[0mf\u001b[0m\u001b[0;34m(\u001b[0m\u001b[0mself\u001b[0m\u001b[0;34m,\u001b[0m \u001b[0;34m*\u001b[0m\u001b[0margs\u001b[0m\u001b[0;34m,\u001b[0m \u001b[0;34m**\u001b[0m\u001b[0mkwargs\u001b[0m\u001b[0;34m)\u001b[0m\u001b[0;34m\u001b[0m\u001b[0;34m\u001b[0m\u001b[0m\n\u001b[0m\u001b[1;32m     75\u001b[0m         \u001b[0;32mexcept\u001b[0m \u001b[0mexceptions_to_handle\u001b[0m \u001b[0;32mas\u001b[0m \u001b[0merr\u001b[0m\u001b[0;34m:\u001b[0m\u001b[0;34m\u001b[0m\u001b[0;34m\u001b[0m\u001b[0m\n\u001b[1;32m     76\u001b[0m             \u001b[0;32mif\u001b[0m \u001b[0mconf\u001b[0m\u001b[0;34m.\u001b[0m\u001b[0mall_errors_are_fatal\u001b[0m\u001b[0;34m(\u001b[0m\u001b[0;34m)\u001b[0m\u001b[0;34m:\u001b[0m\u001b[0;34m\u001b[0m\u001b[0;34m\u001b[0m\u001b[0m\n",
            "\u001b[0;32m/usr/local/lib/python3.6/dist-packages/sparkmagic/magics/remotesparkmagics.py\u001b[0m in \u001b[0;36mspark\u001b[0;34m(self, line, cell, local_ns)\u001b[0m\n\u001b[1;32m    171\u001b[0m             \u001b[0;32mif\u001b[0m \u001b[0margs\u001b[0m\u001b[0;34m.\u001b[0m\u001b[0mcontext\u001b[0m \u001b[0;34m==\u001b[0m \u001b[0mCONTEXT_NAME_SPARK\u001b[0m\u001b[0;34m:\u001b[0m\u001b[0;34m\u001b[0m\u001b[0;34m\u001b[0m\u001b[0m\n\u001b[1;32m    172\u001b[0m                 return self.execute_spark(cell, args.output, args.samplemethod,\n\u001b[0;32m--> 173\u001b[0;31m                                           args.maxrows, args.samplefraction, args.session, coerce)\n\u001b[0m\u001b[1;32m    174\u001b[0m             \u001b[0;32melif\u001b[0m \u001b[0margs\u001b[0m\u001b[0;34m.\u001b[0m\u001b[0mcontext\u001b[0m \u001b[0;34m==\u001b[0m \u001b[0mCONTEXT_NAME_SQL\u001b[0m\u001b[0;34m:\u001b[0m\u001b[0;34m\u001b[0m\u001b[0;34m\u001b[0m\u001b[0m\n\u001b[1;32m    175\u001b[0m                 return self.execute_sqlquery(cell, args.samplemethod, args.maxrows, args.samplefraction,\n",
            "\u001b[0;32m/usr/local/lib/python3.6/dist-packages/sparkmagic/magics/sparkmagicsbase.py\u001b[0m in \u001b[0;36mexecute_spark\u001b[0;34m(self, cell, output_var, samplemethod, maxrows, samplefraction, session_name, coerce)\u001b[0m\n\u001b[1;32m     79\u001b[0m \u001b[0;34m\u001b[0m\u001b[0m\n\u001b[1;32m     80\u001b[0m     \u001b[0;32mdef\u001b[0m \u001b[0mexecute_spark\u001b[0m\u001b[0;34m(\u001b[0m\u001b[0mself\u001b[0m\u001b[0;34m,\u001b[0m \u001b[0mcell\u001b[0m\u001b[0;34m,\u001b[0m \u001b[0moutput_var\u001b[0m\u001b[0;34m,\u001b[0m \u001b[0msamplemethod\u001b[0m\u001b[0;34m,\u001b[0m \u001b[0mmaxrows\u001b[0m\u001b[0;34m,\u001b[0m \u001b[0msamplefraction\u001b[0m\u001b[0;34m,\u001b[0m \u001b[0msession_name\u001b[0m\u001b[0;34m,\u001b[0m \u001b[0mcoerce\u001b[0m\u001b[0;34m)\u001b[0m\u001b[0;34m:\u001b[0m\u001b[0;34m\u001b[0m\u001b[0;34m\u001b[0m\u001b[0m\n\u001b[0;32m---> 81\u001b[0;31m         \u001b[0;34m(\u001b[0m\u001b[0msuccess\u001b[0m\u001b[0;34m,\u001b[0m \u001b[0mout\u001b[0m\u001b[0;34m,\u001b[0m \u001b[0mmimetype\u001b[0m\u001b[0;34m)\u001b[0m \u001b[0;34m=\u001b[0m \u001b[0mself\u001b[0m\u001b[0;34m.\u001b[0m\u001b[0mspark_controller\u001b[0m\u001b[0;34m.\u001b[0m\u001b[0mrun_command\u001b[0m\u001b[0;34m(\u001b[0m\u001b[0mCommand\u001b[0m\u001b[0;34m(\u001b[0m\u001b[0mcell\u001b[0m\u001b[0;34m)\u001b[0m\u001b[0;34m,\u001b[0m \u001b[0msession_name\u001b[0m\u001b[0;34m)\u001b[0m\u001b[0;34m\u001b[0m\u001b[0;34m\u001b[0m\u001b[0m\n\u001b[0m\u001b[1;32m     82\u001b[0m         \u001b[0;32mif\u001b[0m \u001b[0;32mnot\u001b[0m \u001b[0msuccess\u001b[0m\u001b[0;34m:\u001b[0m\u001b[0;34m\u001b[0m\u001b[0;34m\u001b[0m\u001b[0m\n\u001b[1;32m     83\u001b[0m             \u001b[0;32mif\u001b[0m \u001b[0mconf\u001b[0m\u001b[0;34m.\u001b[0m\u001b[0mshutdown_session_on_spark_statement_errors\u001b[0m\u001b[0;34m(\u001b[0m\u001b[0;34m)\u001b[0m\u001b[0;34m:\u001b[0m\u001b[0;34m\u001b[0m\u001b[0;34m\u001b[0m\u001b[0m\n",
            "\u001b[0;32m/usr/local/lib/python3.6/dist-packages/sparkmagic/livyclientlib/sparkcontroller.py\u001b[0m in \u001b[0;36mrun_command\u001b[0;34m(self, command, client_name)\u001b[0m\n\u001b[1;32m     38\u001b[0m     \u001b[0;32mdef\u001b[0m \u001b[0mrun_command\u001b[0m\u001b[0;34m(\u001b[0m\u001b[0mself\u001b[0m\u001b[0;34m,\u001b[0m \u001b[0mcommand\u001b[0m\u001b[0;34m,\u001b[0m \u001b[0mclient_name\u001b[0m\u001b[0;34m=\u001b[0m\u001b[0;32mNone\u001b[0m\u001b[0;34m)\u001b[0m\u001b[0;34m:\u001b[0m\u001b[0;34m\u001b[0m\u001b[0;34m\u001b[0m\u001b[0m\n\u001b[1;32m     39\u001b[0m         \u001b[0msession_to_use\u001b[0m \u001b[0;34m=\u001b[0m \u001b[0mself\u001b[0m\u001b[0;34m.\u001b[0m\u001b[0mget_session_by_name_or_default\u001b[0m\u001b[0;34m(\u001b[0m\u001b[0mclient_name\u001b[0m\u001b[0;34m)\u001b[0m\u001b[0;34m\u001b[0m\u001b[0;34m\u001b[0m\u001b[0m\n\u001b[0;32m---> 40\u001b[0;31m         \u001b[0;32mreturn\u001b[0m \u001b[0mcommand\u001b[0m\u001b[0;34m.\u001b[0m\u001b[0mexecute\u001b[0m\u001b[0;34m(\u001b[0m\u001b[0msession_to_use\u001b[0m\u001b[0;34m)\u001b[0m\u001b[0;34m\u001b[0m\u001b[0;34m\u001b[0m\u001b[0m\n\u001b[0m\u001b[1;32m     41\u001b[0m \u001b[0;34m\u001b[0m\u001b[0m\n\u001b[1;32m     42\u001b[0m     \u001b[0;32mdef\u001b[0m \u001b[0mrun_sqlquery\u001b[0m\u001b[0;34m(\u001b[0m\u001b[0mself\u001b[0m\u001b[0;34m,\u001b[0m \u001b[0msqlquery\u001b[0m\u001b[0;34m,\u001b[0m \u001b[0mclient_name\u001b[0m\u001b[0;34m=\u001b[0m\u001b[0;32mNone\u001b[0m\u001b[0;34m)\u001b[0m\u001b[0;34m:\u001b[0m\u001b[0;34m\u001b[0m\u001b[0;34m\u001b[0m\u001b[0m\n",
            "\u001b[0;32m/usr/local/lib/python3.6/dist-packages/sparkmagic/livyclientlib/command.py\u001b[0m in \u001b[0;36mexecute\u001b[0;34m(self, session)\u001b[0m\n\u001b[1;32m     42\u001b[0m             \u001b[0mresponse\u001b[0m \u001b[0;34m=\u001b[0m \u001b[0msession\u001b[0m\u001b[0;34m.\u001b[0m\u001b[0mhttp_client\u001b[0m\u001b[0;34m.\u001b[0m\u001b[0mpost_statement\u001b[0m\u001b[0;34m(\u001b[0m\u001b[0msession\u001b[0m\u001b[0;34m.\u001b[0m\u001b[0mid\u001b[0m\u001b[0;34m,\u001b[0m \u001b[0mdata\u001b[0m\u001b[0;34m)\u001b[0m\u001b[0;34m\u001b[0m\u001b[0;34m\u001b[0m\u001b[0m\n\u001b[1;32m     43\u001b[0m             \u001b[0mstatement_id\u001b[0m \u001b[0;34m=\u001b[0m \u001b[0mresponse\u001b[0m\u001b[0;34m[\u001b[0m\u001b[0;34mu'id'\u001b[0m\u001b[0;34m]\u001b[0m\u001b[0;34m\u001b[0m\u001b[0;34m\u001b[0m\u001b[0m\n\u001b[0;32m---> 44\u001b[0;31m             \u001b[0moutput\u001b[0m \u001b[0;34m=\u001b[0m \u001b[0mself\u001b[0m\u001b[0;34m.\u001b[0m\u001b[0m_get_statement_output\u001b[0m\u001b[0;34m(\u001b[0m\u001b[0msession\u001b[0m\u001b[0;34m,\u001b[0m \u001b[0mstatement_id\u001b[0m\u001b[0;34m)\u001b[0m\u001b[0;34m\u001b[0m\u001b[0;34m\u001b[0m\u001b[0m\n\u001b[0m\u001b[1;32m     45\u001b[0m         \u001b[0;32mexcept\u001b[0m \u001b[0mException\u001b[0m \u001b[0;32mas\u001b[0m \u001b[0me\u001b[0m\u001b[0;34m:\u001b[0m\u001b[0;34m\u001b[0m\u001b[0;34m\u001b[0m\u001b[0m\n\u001b[1;32m     46\u001b[0m             self._spark_events.emit_statement_execution_end_event(session.guid, session.kind, session.id,\n",
            "\u001b[0;32m/usr/local/lib/python3.6/dist-packages/sparkmagic/livyclientlib/command.py\u001b[0m in \u001b[0;36m_get_statement_output\u001b[0;34m(self, session, statement_id)\u001b[0m\n\u001b[1;32m     74\u001b[0m             \u001b[0;32mif\u001b[0m \u001b[0mstatus\u001b[0m \u001b[0;32mnot\u001b[0m \u001b[0;32min\u001b[0m \u001b[0mFINAL_STATEMENT_STATUS\u001b[0m\u001b[0;34m:\u001b[0m\u001b[0;34m\u001b[0m\u001b[0;34m\u001b[0m\u001b[0m\n\u001b[1;32m     75\u001b[0m                 \u001b[0mprogress\u001b[0m\u001b[0;34m.\u001b[0m\u001b[0mvalue\u001b[0m \u001b[0;34m=\u001b[0m \u001b[0mstatement\u001b[0m\u001b[0;34m.\u001b[0m\u001b[0mget\u001b[0m\u001b[0;34m(\u001b[0m\u001b[0;34m'progress'\u001b[0m\u001b[0;34m,\u001b[0m \u001b[0;36m0.0\u001b[0m\u001b[0;34m)\u001b[0m\u001b[0;34m\u001b[0m\u001b[0;34m\u001b[0m\u001b[0m\n\u001b[0;32m---> 76\u001b[0;31m                 \u001b[0msession\u001b[0m\u001b[0;34m.\u001b[0m\u001b[0msleep\u001b[0m\u001b[0;34m(\u001b[0m\u001b[0mretries\u001b[0m\u001b[0;34m)\u001b[0m\u001b[0;34m\u001b[0m\u001b[0;34m\u001b[0m\u001b[0m\n\u001b[0m\u001b[1;32m     77\u001b[0m                 \u001b[0mretries\u001b[0m \u001b[0;34m+=\u001b[0m \u001b[0;36m1\u001b[0m\u001b[0;34m\u001b[0m\u001b[0;34m\u001b[0m\u001b[0m\n\u001b[1;32m     78\u001b[0m             \u001b[0;32melse\u001b[0m\u001b[0;34m:\u001b[0m\u001b[0;34m\u001b[0m\u001b[0;34m\u001b[0m\u001b[0m\n",
            "\u001b[0;32m/usr/local/lib/python3.6/dist-packages/sparkmagic/livyclientlib/livysession.py\u001b[0m in \u001b[0;36msleep\u001b[0;34m(self, retries)\u001b[0m\n\u001b[1;32m    280\u001b[0m \u001b[0;34m\u001b[0m\u001b[0m\n\u001b[1;32m    281\u001b[0m     \u001b[0;32mdef\u001b[0m \u001b[0msleep\u001b[0m\u001b[0;34m(\u001b[0m\u001b[0mself\u001b[0m\u001b[0;34m,\u001b[0m \u001b[0mretries\u001b[0m\u001b[0;34m)\u001b[0m\u001b[0;34m:\u001b[0m\u001b[0;34m\u001b[0m\u001b[0;34m\u001b[0m\u001b[0m\n\u001b[0;32m--> 282\u001b[0;31m         \u001b[0msleep\u001b[0m\u001b[0;34m(\u001b[0m\u001b[0mself\u001b[0m\u001b[0;34m.\u001b[0m\u001b[0m_policy\u001b[0m\u001b[0;34m.\u001b[0m\u001b[0mseconds_to_sleep\u001b[0m\u001b[0;34m(\u001b[0m\u001b[0mretries\u001b[0m\u001b[0;34m)\u001b[0m\u001b[0;34m)\u001b[0m\u001b[0;34m\u001b[0m\u001b[0;34m\u001b[0m\u001b[0m\n\u001b[0m\u001b[1;32m    283\u001b[0m \u001b[0;34m\u001b[0m\u001b[0m\n\u001b[1;32m    284\u001b[0m     \u001b[0;31m# This function will refresh the status and get the logs in a single call.\u001b[0m\u001b[0;34m\u001b[0m\u001b[0;34m\u001b[0m\u001b[0;34m\u001b[0m\u001b[0m\n",
            "\u001b[0;31mKeyboardInterrupt\u001b[0m: "
          ]
        }
      ]
    },
    {
      "cell_type": "code",
      "metadata": {
        "id": "sRaqxCUwtaEd",
        "colab_type": "code",
        "colab": {
          "base_uri": "https://localhost:8080/",
          "height": 130
        },
        "outputId": "327a81fa-15f2-4836-9071-9bd3918850c7"
      },
      "source": [
        "# for word in row.text_sw_removed:\n",
        "#   if word in word_to_freq:\n",
        "#     word_to_freq[word] = word_to_freq[word] + 1\n",
        "#   elif word is not None:\n",
        "#     word_to_freq[word] = 1\n",
        "#   print(row.text_sw_removed)\n",
        "\n",
        "\n",
        "# sorted_freq = sorted(word_to_freq.items(), key=lambda x: x[1], reverse=True)\n",
        "# sorted_freq"
      ],
      "execution_count": null,
      "outputs": [
        {
          "output_type": "error",
          "ename": "IndentationError",
          "evalue": "ignored",
          "traceback": [
            "\u001b[0;36m  File \u001b[0;32m\"<ipython-input-69-4e95e886589c>\"\u001b[0;36m, line \u001b[0;32m6\u001b[0m\n\u001b[0;31m    print(row.text_sw_removed)\u001b[0m\n\u001b[0m                              ^\u001b[0m\n\u001b[0;31mIndentationError\u001b[0m\u001b[0;31m:\u001b[0m unindent does not match any outer indentation level\n"
          ]
        }
      ]
    },
    {
      "cell_type": "code",
      "metadata": {
        "id": "R64bwfQyc1-K",
        "colab_type": "code",
        "colab": {}
      },
      "source": [
        "%%spark \n",
        "\n",
        "#get list of top words\n",
        "words_limit = 15\n",
        "words_kept = []\n",
        "for i in range (words_limit):\n",
        "  word = sorted_freq[i][0]\n",
        "  words_kept.append(word)\n",
        "words_kept"
      ],
      "execution_count": null,
      "outputs": []
    },
    {
      "cell_type": "code",
      "metadata": {
        "id": "kSz4rpMDdzMw",
        "colab_type": "code",
        "colab": {}
      },
      "source": [
        "%%spark \n",
        "#only keep common words in dataframe\n",
        "def reduce_words(words_list):\n",
        "  keep_list = []\n",
        "  for word in words_list: \n",
        "    if word in words_kept:\n",
        "      keep_list.append(word)\n",
        "  return keep_list\n",
        "\n",
        "spark.udf.register(\"REDUCE_WORDS\", reduce_words)\n",
        "\n",
        "q = \"\"\"\n",
        "SELECT \n",
        "  status_id,\n",
        "  day_posted,\n",
        "  weekday_posted\n",
        "  favourites_count, \n",
        "  followers_count, \n",
        "  friends_count,\n",
        "  is_quote,\n",
        "  is_retweet, \n",
        "  retweet_count,\n",
        "  length,\n",
        "  num_hashtags,\n",
        "  num_mentions,\n",
        "  sentiment, \n",
        "  is_verified, \n",
        "  REDUCE_WORDS(text_sw_removed) as text_reduced\n",
        "FROM stops_rmv_sdf\n",
        "\"\"\"\n",
        "\n",
        "tweets_reduced_sdf = spark.sql(q)\n",
        "\n",
        "for row in tweets_reduced_sdf.rdd.collect():\n",
        "    print(row.reduced_text)"
      ],
      "execution_count": null,
      "outputs": []
    },
    {
      "cell_type": "markdown",
      "metadata": {
        "id": "yxOYtKKitYYm",
        "colab_type": "text"
      },
      "source": [
        "##Modeling\n",
        "We are going to try 3 different models of increasing complexity and see how they compare against each other. I got nowhere..."
      ]
    },
    {
      "cell_type": "markdown",
      "metadata": {
        "id": "zkH4-b_gtiTX",
        "colab_type": "text"
      },
      "source": [
        "###Simple Model\n",
        "In this, we will try to predict the number of favorites of a tweet by looking soley at its word_vector, sentiment, and number of followers the tweeter has. This should be enough to give a decent estimate."
      ]
    },
    {
      "cell_type": "markdown",
      "metadata": {
        "id": "iM1nxXvLHgT5",
        "colab_type": "text"
      },
      "source": [
        "###Better Model\n",
        "Now, let's use all of our features for our feature vector and see how the model improves"
      ]
    },
    {
      "cell_type": "markdown",
      "metadata": {
        "id": "M0qYuMVvHo-K",
        "colab_type": "text"
      },
      "source": [
        "###Final Model\n",
        "Finally, let's use the last model but with PCA applied to it to see how it compares. PCA should help because dimensionality reduction reduces overfitting of training data and increases efficiency. "
      ]
    },
    {
      "cell_type": "markdown",
      "metadata": {
        "id": "pFFcXDxS0JST",
        "colab_type": "text"
      },
      "source": [
        "#Challenges\n",
        "Although frustrating, this project was also very enriching, and a decent amount of that is because I had to struggle and learn on my own at times. \n",
        "\n",
        "##Installing Libraries \n",
        "I wanted to run sentiment analysis on Tweet text so I turned toward NLTK. However, in order to install it, I had to find the right command to put in the bootstrap script. This took me to the deepest confines of stack exchange as there is a specific configuration so that nltk also automatically downloads all of its packages (as someone else on Piazza also discovered). \n",
        "\n",
        "I also struggled a lot with getting matplotlib to work. For it alone, I went to 3 OH sessions, asked questions on Piazza, and even tried to set up an AWS CLI on my computer so I could just write my smaller files to S3, download them, put them in drive, and plot them in the colab environment. Luckily, you came in clutch and saved me. \n",
        "\n",
        "##Loading the Data\n",
        "I couldn't load the data directy into Pandas so I had to use Spark and set up an EMR cluster. And as I began doing that, I kept reading from the 20 CSV files realized it would be more efficient to just concatenate the data once. So I asked around and was led toward storing the combined data on an S3 bucket which took some getting used to. \n",
        "\n",
        "##Managing the Data\n",
        "The biggest challenge with this project stemmed from the massive size of the dataset. Due to the fact it was not loadable into pandas, or sometimes not even into Spark functions, a lot had to be done to accomodate for this.\n",
        "For example, I had to randomly select a subset of data so I could try to do EDA with it. Furthermore, certain functions would take too many computations and crash the EMR. A big example of this was with converting my text into a word vector using Word2Vec. I tried to solve this first by creating a word frequency map and and going back through the tokens and only keeping the top million words. After that gave me a weird error (which I posted on Piazza), I tried to move towards breaking the larger data into 100 smallers dataframes to run Word2Vec on but still got the same error. \n",
        "\n",
        "##Cleaning the Data\n",
        "It was also very difficult to clean the data. For some reason, I was unable to properly clean in order to calculate the logs of metrics of interest. I tried using commands from homeworks before and lines from stack exchange, but for some reason I was unable to sort through everything, which led to a lack of data visualization and proper model preparation. "
      ]
    },
    {
      "cell_type": "markdown",
      "metadata": {
        "id": "hI4plb-90P55",
        "colab_type": "text"
      },
      "source": [
        "#Future Direction\n",
        "\n",
        "##Finishing the Model\n",
        "The most obvious future direction for this would be to go ahead and finish the linear regression model with properly scaled data. It was disappointing to not have been able to complete this, and I will attempt to finish this on my own once I find a way to acquire more AWS credits so I can utilize EMR Clusters to run the Spark computations. \n",
        "\n",
        "##More data\n",
        "Another future direction for this would be to simply look at more tweet data. Kaggle claims on the site the dataset was downloaded from that this is the first dataset in a series on datasets, as they will continue to look at the upcoming months. Although this would require patience, I think it would be fascinating to see how the tweets evolve overtime, especially in count and sentiment, as the pandemic progresses. Furthermore, as time progresses, the method for scraping tweets may improve and reduce unnatural imbalances in the data, such as the country of origin, or have filled in more missing values for features such as \"place_full_name\". The only downside to this is it would make the project even more difficult, but as I become more proficient at Big Data Analytics, it would be something fun to tackle. \n",
        "\n",
        "##Word Vectorization\n",
        "Moving forward, it would also be good to be able to successfully implement word vectorization for the tweet text itself. These vectors contain a rich amount of information about the tweets, and it would be really cool to see how the model does with these vectors vs without. Trying to model without the vectors lost so much information. It would also be cool to try out different types of word vectorization algorithms, such as those that consider context within the sentence. \n"
      ]
    }
  ]
}